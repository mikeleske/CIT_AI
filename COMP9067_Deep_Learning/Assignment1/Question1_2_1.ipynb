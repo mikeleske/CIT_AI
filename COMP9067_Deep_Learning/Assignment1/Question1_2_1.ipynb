{
 "cells": [
  {
   "cell_type": "markdown",
   "metadata": {
    "Collapsed": "false",
    "colab_type": "text",
    "id": "Slh6DwynGxwZ"
   },
   "source": [
    "Mike Leske  \n",
    "R00183658"
   ]
  },
  {
   "cell_type": "markdown",
   "metadata": {
    "Collapsed": "false",
    "colab_type": "text",
    "id": "jlJkYjETGz9R"
   },
   "source": [
    "# Question1_2_1"
   ]
  },
  {
   "cell_type": "code",
   "execution_count": 1,
   "metadata": {
    "Collapsed": "false",
    "colab": {
     "base_uri": "https://localhost:8080/",
     "height": 72
    },
    "colab_type": "code",
    "id": "4qiNGGw4Gy6a",
    "outputId": "150bf3fa-ff39-4716-85af-d80aeec1194d"
   },
   "outputs": [
    {
     "name": "stdout",
     "output_type": "stream",
     "text": [
      "TensorFlow 2.x selected.\n",
      "2.2.0-rc1\n"
     ]
    },
    {
     "name": "stderr",
     "output_type": "stream",
     "text": [
      "Using TensorFlow backend.\n"
     ]
    }
   ],
   "source": [
    "%tensorflow_version 2.x\n",
    "import tensorflow as tf\n",
    "from keras.utils import np_utils\n",
    "print(tf.__version__)\n",
    "\n",
    "import numpy as np\n",
    "import matplotlib.pyplot as plt\n",
    "plt.style.use(\"ggplot\")\n",
    "\n",
    "%matplotlib inline"
   ]
  },
  {
   "cell_type": "code",
   "execution_count": 2,
   "metadata": {
    "Collapsed": "false",
    "colab": {
     "base_uri": "https://localhost:8080/",
     "height": 235
    },
    "colab_type": "code",
    "id": "ElGbsrwVG_sh",
    "outputId": "cfb2f572-fd7a-4c53-e612-8457407c771b"
   },
   "outputs": [
    {
     "name": "stdout",
     "output_type": "stream",
     "text": [
      "Downloading data from https://storage.googleapis.com/tensorflow/tf-keras-datasets/train-labels-idx1-ubyte.gz\n",
      "32768/29515 [=================================] - 0s 0us/step\n",
      "Downloading data from https://storage.googleapis.com/tensorflow/tf-keras-datasets/train-images-idx3-ubyte.gz\n",
      "26427392/26421880 [==============================] - 0s 0us/step\n",
      "Downloading data from https://storage.googleapis.com/tensorflow/tf-keras-datasets/t10k-labels-idx1-ubyte.gz\n",
      "8192/5148 [===============================================] - 0s 0us/step\n",
      "Downloading data from https://storage.googleapis.com/tensorflow/tf-keras-datasets/t10k-images-idx3-ubyte.gz\n",
      "4423680/4422102 [==============================] - 0s 0us/step\n",
      "Shape of training features (60000, 784)\n",
      "Shape of test features (10000, 784)\n",
      "Shape of training labels (10, 60000)\n",
      "Shape of test labels (10, 10000)\n"
     ]
    }
   ],
   "source": [
    "fashion_mnist = tf.keras.datasets.fashion_mnist\n",
    "\n",
    "# load the training and test data\n",
    "(train_x, train_y), (test_x, test_y) = fashion_mnist.load_data()\n",
    "\n",
    "# reshape the feature data\n",
    "train_x = train_x.reshape(train_x.shape[0], 784)\n",
    "test_x = test_x.reshape(test_x.shape[0], 784)\n",
    "\n",
    "# normalize feature data\n",
    "train_x = train_x / 255.0\n",
    "test_x = test_x / 255.0\n",
    "\n",
    "print(\"Shape of training features\", train_x.shape)\n",
    "print(\"Shape of test features\", test_x.shape)\n",
    "\n",
    "# one hot encode the training labels and get the transpose\n",
    "train_y = np_utils.to_categorical(train_y, 10)\n",
    "train_y = train_y.T\n",
    "print(\"Shape of training labels\", train_y.shape)\n",
    "\n",
    "# one hot encode the test labels and get the transpose\n",
    "test_y = np_utils.to_categorical(test_y, 10)\n",
    "test_y = test_y.T\n",
    "print(\"Shape of test labels\", test_y.shape)"
   ]
  },
  {
   "cell_type": "code",
   "execution_count": 3,
   "metadata": {
    "Collapsed": "false",
    "colab": {
     "base_uri": "https://localhost:8080/",
     "height": 390
    },
    "colab_type": "code",
    "id": "ad1gHOA_HDzG",
    "outputId": "c3c6ee73-1387-45ba-885c-b9167f08dc94"
   },
   "outputs": [
    {
     "name": "stdout",
     "output_type": "stream",
     "text": [
      "The train accuracy is: 0.86301666\n",
      "The train loss     is: 0.40071705\n",
      "The test accuracy is: 0.8479\n",
      "The test loss     is: 0.43660504 \n",
      "\n"
     ]
    },
    {
     "data": {
      "image/png": "[encoded data removed]",
      "text/plain": [
       "<Figure size 432x288 with 1 Axes>"
      ]
     },
     "metadata": {
      "tags": []
     },
     "output_type": "display_data"
    }
   ],
   "source": [
    "@tf.function\n",
    "def forward_pass(x, w1, b1, w2, b2):\n",
    "    # Hidden layer 1\n",
    "    h1 = tf.add(tf.matmul(tf.cast(x, dtype=tf.float32), tf.cast(w1, dtype=tf.float32)), b1)\n",
    "    a1 = tf.maximum(h1, 0)\n",
    "    \n",
    "    # Softmax layer\n",
    "    logits = tf.add(tf.matmul(tf.cast(a1, dtype=tf.float32), tf.cast(w2, dtype=tf.float32)), b2)\n",
    "    softmax = tf.exp(logits) / tf.reduce_sum(tf.exp(logits), axis=-1, keepdims=True)\n",
    "    \n",
    "    return softmax\n",
    "\n",
    "@tf.function\n",
    "def cross_entropy(y_pred, y):\n",
    "    # Transpose y_pred to allow multiplication\n",
    "    # Calculate Cross-Entropy Loss per instance\n",
    "    # Calculate total loss\n",
    "    y_pred = tf.transpose(y_pred)\n",
    "    ce = -tf.reduce_sum(y * tf.math.log(y_pred), axis=0)\n",
    "    loss = tf.reduce_mean(ce)\n",
    "    return loss\n",
    "\n",
    "@tf.function\n",
    "def calculate_accuracy(y_pred, y):\n",
    "    # Take the transpose of y_pred to bring y_pred and y into same shape\n",
    "    # Create vector with 1.0 if prediction and y have highest probability for same class, 0.0 otherwise\n",
    "    # Caluculate average of that vector to get accuracy\n",
    "    predictions = tf.transpose(y_pred)\n",
    "    predictions_correct = tf.cast(tf.equal(tf.argmax(predictions, axis=0), tf.argmax(y, axis=0)), tf.float32)\n",
    "    accuracy = tf.reduce_mean(predictions_correct)\n",
    "    return accuracy\n",
    "\n",
    "def plot_loss(epochs):\n",
    "    plt.plot(np.arange(0, epochs), history['loss'], label=\"train_loss\")\n",
    "    plt.plot(np.arange(0, epochs), history['acc'], label=\"train_acc\")\n",
    "    plt.title(\"Training Acc/Loss - 1_2_1\")\n",
    "    plt.xlabel(\"Epoch #\")\n",
    "    plt.ylabel(\"Loss\")\n",
    "    plt.legend()\n",
    "    plt.show()\n",
    "\n",
    "def optimize(epochs, optimizer, layers):\n",
    "    input_size = train_x.shape[1]\n",
    "    num_classes = 10\n",
    "\n",
    "    #\n",
    "    # Initialize weights and biases for 2 layers\n",
    "    #\n",
    "    w1 = tf.Variable(tf.random.normal([input_size, layers[0]], mean=0.0, stddev=0.05))\n",
    "    b1 = tf.Variable(tf.zeros([1, layers[0]]))\n",
    "\n",
    "    w2 = tf.Variable(tf.random.normal([layers[0], num_classes], mean=0.0, stddev=0.05))\n",
    "    b2 = tf.Variable(tf.zeros([1, num_classes]))\n",
    "\n",
    "    #\n",
    "    # Iterate through epochs\n",
    "    #\n",
    "    for i in range(epochs):\n",
    "        with tf.GradientTape() as tape:\n",
    "            #\n",
    "            # Execute 1 training cycle\n",
    "            #\n",
    "            y_pred = forward_pass(train_x, w1, b1, w2, b2)\n",
    "            loss = cross_entropy(y_pred, train_y)\n",
    "\n",
    "            #\n",
    "            # Add epoch accuracy and loss to history\n",
    "            #\n",
    "            history['acc'].append(calculate_accuracy(y_pred, train_y))\n",
    "            history['loss'].append(loss)\n",
    "\n",
    "        #\n",
    "        # Caluclate the gradients for weights and biases \n",
    "        # Update weights and biases\n",
    "        #    \n",
    "        gradients = tape.gradient(loss, [w1, b1, w2, b2])\n",
    "        optimizer.apply_gradients(zip(gradients, [w1, b1, w2, b2]))\n",
    "\n",
    "    #\n",
    "    # Print final training accuracy and regularized loss\n",
    "    #\n",
    "    print('The train accuracy is:', history['acc'][-1].numpy())\n",
    "    print('The train loss     is:', history['loss'][-1].numpy())\n",
    "\n",
    "    #\n",
    "    # Calculate predictions, loss and accuracy for test set\n",
    "    #\n",
    "    y_pred = forward_pass(test_x, w1, b1, w2, b2)\n",
    "    accuracy = calculate_accuracy(y_pred, test_y)\n",
    "    loss = cross_entropy(y_pred, test_y)\n",
    "    \n",
    "    #\n",
    "    # Print test accuracy and regularized loss\n",
    "    #\n",
    "    print('The test accuracy is:', accuracy.numpy())\n",
    "    print('The test loss     is:', loss.numpy(), '\\n')\n",
    "\n",
    "    plot_loss(epochs)\n",
    "\n",
    "history = {\n",
    "    'acc': [],\n",
    "    'loss': []\n",
    "}\n",
    "epochs = 100\n",
    "layers = [300]\n",
    "opt = tf.keras.optimizers.Adam()\n",
    "optimize(epochs, opt, layers)"
   ]
  }
 ],
 "metadata": {
  "accelerator": "GPU",
  "colab": {
   "collapsed_sections": [],
   "name": "Question1_2_1.ipynb",
   "provenance": []
  },
  "kernelspec": {
   "display_name": "Python 3",
   "language": "python",
   "name": "python3"
  },
  "language_info": {
   "codemirror_mode": {
    "name": "ipython",
    "version": 3
   },
   "file_extension": ".py",
   "mimetype": "text/x-python",
   "name": "python",
   "nbconvert_exporter": "python",
   "pygments_lexer": "ipython3",
   "version": "3.7.4"
  }
 },
 "nbformat": 4,
 "nbformat_minor": 4
}
