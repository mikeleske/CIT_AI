{
  "nbformat": 4,
  "nbformat_minor": 0,
  "metadata": {
    "colab": {
      "name": "DeepLearning - Lab07",
      "provenance": [],
      "collapsed_sections": []
    },
    "kernelspec": {
      "name": "python3",
      "display_name": "Python 3"
    }
  },
  "cells": [
    {
      "cell_type": "code",
      "metadata": {
        "id": "QASjwgoezoey",
        "colab_type": "code",
        "colab": {
          "base_uri": "https://localhost:8080/",
          "height": 51
        },
        "outputId": "c98fb0fc-f7d8-4316-987e-e754598e248a"
      },
      "source": [
        "%tensorflow_version 2.x\n",
        "import tensorflow as tf\n",
        "print(tf.__version__)"
      ],
      "execution_count": 1,
      "outputs": [
        {
          "output_type": "stream",
          "text": [
            "TensorFlow 2.x selected.\n",
            "2.1.0\n"
          ],
          "name": "stdout"
        }
      ]
    },
    {
      "cell_type": "code",
      "metadata": {
        "id": "FPtiz1Pt0iIL",
        "colab_type": "code",
        "colab": {
          "base_uri": "https://localhost:8080/",
          "height": 357
        },
        "outputId": "d36aeb32-c25b-4a68-d078-9de9d5cb9e39"
      },
      "source": [
        "@tf.function\n",
        "def predict_fn(x, y):\n",
        "    return 2*x**2 + 3*y**2 + 3*x - 2*y + 3\n",
        "\n",
        "def gradient_descent():\n",
        "    learning_rate = 0.001\n",
        "    iterations = 1000\n",
        "\n",
        "    x = tf.Variable(10.0, tf.float32)\n",
        "    y = tf.Variable(10.0, tf.float32)\n",
        "\n",
        "    for i in range(iterations):\n",
        "        with tf.GradientTape() as tape:\n",
        "            y_pred = predict_fn(x, y)\n",
        "        \n",
        "        gradients = tape.gradient(y_pred, [x, y])\n",
        "\n",
        "        x.assign_sub(gradients[0] * learning_rate)\n",
        "        y.assign_sub(gradients[1] * learning_rate)\n",
        "\n",
        "        if i % 50 == 0:\n",
        "            print('Iteration {}: x: {} y:{} predict_fn:{}'.format(i, x.numpy(), y.numpy(), predict_fn(x, y).numpy()))\n",
        "\n",
        "gradient_descent()"
      ],
      "execution_count": 20,
      "outputs": [
        {
          "output_type": "stream",
          "text": [
            "Iteration 0: x: 9.956999778747559 y:9.942000389099121 predict_fn:507.8007507324219\n",
            "Iteration 50: x: 8.01263427734375 y:7.445180416107178 predict_fn:306.84429931640625\n",
            "Iteration 100: x: 6.42136287689209 y:5.5971598625183105 predict_fn:187.52215576171875\n",
            "Iteration 150: x: 5.119060516357422 y:4.229348659515381 predict_fn:115.97021484375\n",
            "Iteration 200: x: 4.053254127502441 y:3.216965436935425 predict_fn:72.63017272949219\n",
            "Iteration 250: x: 3.180994749069214 y:2.4676506519317627 predict_fn:46.113037109375\n",
            "Iteration 300: x: 2.4671363830566406 y:1.9130463600158691 predict_fn:29.72808074951172\n",
            "Iteration 350: x: 1.8829121589660645 y:1.5025564432144165 predict_fn:19.507366180419922\n",
            "Iteration 400: x: 1.4047815799713135 y:1.198732852935791 predict_fn:13.074583053588867\n",
            "Iteration 450: x: 1.0134786367416382 y:0.9738577008247375 predict_fn:8.992194175720215\n",
            "Iteration 500: x: 0.6932350397109985 y:0.8074166774749756 predict_fn:6.381786823272705\n",
            "Iteration 550: x: 0.43114709854125977 y:0.6842256188392639 predict_fn:4.701260089874268\n",
            "Iteration 600: x: 0.21665364503860474 y:0.5930460095405579 predict_fn:3.6128573417663574\n",
            "Iteration 650: x: 0.04111170768737793 y:0.5255591869354248 predict_fn:2.9042344093322754\n",
            "Iteration 700: x: -0.10255225002765656 y:0.47560885548591614 predict_fn:2.4407708644866943\n",
            "Iteration 750: x: -0.22012712061405182 y:0.43863847851753235 predict_fn:2.136464834213257\n",
            "Iteration 800: x: -0.3163507580757141 y:0.4112747609615326 predict_fn:1.9359946250915527\n",
            "Iteration 850: x: -0.3951004147529602 y:0.39102163910865784 predict_fn:1.8035578727722168\n",
            "Iteration 900: x: -0.4595492482185364 y:0.3760313093662262 predict_fn:1.715859293937683\n",
            "Iteration 950: x: -0.5122942924499512 y:0.3649362623691559 predict_fn:1.6576709747314453\n"
          ],
          "name": "stdout"
        }
      ]
    },
    {
      "cell_type": "code",
      "metadata": {
        "id": "lSnXIESq2KF2",
        "colab_type": "code",
        "colab": {
          "base_uri": "https://localhost:8080/",
          "height": 34
        },
        "outputId": "9d57fcff-ab7b-453e-e2b3-8f67091333c3"
      },
      "source": [
        "predict_fn(x, y).numpy()"
      ],
      "execution_count": 21,
      "outputs": [
        {
          "output_type": "execute_result",
          "data": {
            "text/plain": [
              "1.6196282"
            ]
          },
          "metadata": {
            "tags": []
          },
          "execution_count": 21
        }
      ]
    },
    {
      "cell_type": "code",
      "metadata": {
        "id": "5569qS284aQm",
        "colab_type": "code",
        "colab": {}
      },
      "source": [
        ""
      ],
      "execution_count": 0,
      "outputs": []
    }
  ]
}