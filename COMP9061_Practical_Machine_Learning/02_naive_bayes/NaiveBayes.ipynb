{
 "cells": [
  {
   "cell_type": "markdown",
   "metadata": {},
   "source": [
    "# The Naïve Bayes Algorithm"
   ]
  },
  {
   "cell_type": "code",
   "execution_count": 26,
   "metadata": {},
   "outputs": [],
   "source": [
    "import numpy as np\n",
    "import pandas as pd\n",
    "from collections import defaultdict"
   ]
  },
  {
   "cell_type": "markdown",
   "metadata": {},
   "source": [
    "**Dataset info:**\n",
    "\n",
    "- Data columns (total 5 columns):\n",
    "- outlook     14 non-null object\n",
    "- temp        14 non-null object\n",
    "- humidity    14 non-null object\n",
    "- windy       14 non-null bool\n",
    "- play        14 non-null object"
   ]
  },
  {
   "cell_type": "code",
   "execution_count": 27,
   "metadata": {},
   "outputs": [
    {
     "data": {
      "text/html": [
       "<div>\n",
       "<style scoped>\n",
       "    .dataframe tbody tr th:only-of-type {\n",
       "        vertical-align: middle;\n",
       "    }\n",
       "\n",
       "    .dataframe tbody tr th {\n",
       "        vertical-align: top;\n",
       "    }\n",
       "\n",
       "    .dataframe thead th {\n",
       "        text-align: right;\n",
       "    }\n",
       "</style>\n",
       "<table border=\"1\" class=\"dataframe\">\n",
       "  <thead>\n",
       "    <tr style=\"text-align: right;\">\n",
       "      <th></th>\n",
       "      <th>outlook</th>\n",
       "      <th>temp</th>\n",
       "      <th>humidity</th>\n",
       "      <th>windy</th>\n",
       "      <th>play</th>\n",
       "    </tr>\n",
       "  </thead>\n",
       "  <tbody>\n",
       "    <tr>\n",
       "      <td>0</td>\n",
       "      <td>sunny</td>\n",
       "      <td>hot</td>\n",
       "      <td>high</td>\n",
       "      <td>False</td>\n",
       "      <td>no</td>\n",
       "    </tr>\n",
       "    <tr>\n",
       "      <td>1</td>\n",
       "      <td>sunny</td>\n",
       "      <td>hot</td>\n",
       "      <td>high</td>\n",
       "      <td>True</td>\n",
       "      <td>no</td>\n",
       "    </tr>\n",
       "    <tr>\n",
       "      <td>2</td>\n",
       "      <td>overcast</td>\n",
       "      <td>hot</td>\n",
       "      <td>high</td>\n",
       "      <td>False</td>\n",
       "      <td>yes</td>\n",
       "    </tr>\n",
       "    <tr>\n",
       "      <td>3</td>\n",
       "      <td>rainy</td>\n",
       "      <td>mild</td>\n",
       "      <td>high</td>\n",
       "      <td>False</td>\n",
       "      <td>yes</td>\n",
       "    </tr>\n",
       "    <tr>\n",
       "      <td>4</td>\n",
       "      <td>rainy</td>\n",
       "      <td>cool</td>\n",
       "      <td>normal</td>\n",
       "      <td>False</td>\n",
       "      <td>yes</td>\n",
       "    </tr>\n",
       "    <tr>\n",
       "      <td>5</td>\n",
       "      <td>rainy</td>\n",
       "      <td>cool</td>\n",
       "      <td>normal</td>\n",
       "      <td>True</td>\n",
       "      <td>no</td>\n",
       "    </tr>\n",
       "    <tr>\n",
       "      <td>6</td>\n",
       "      <td>overcast</td>\n",
       "      <td>cool</td>\n",
       "      <td>normal</td>\n",
       "      <td>True</td>\n",
       "      <td>yes</td>\n",
       "    </tr>\n",
       "    <tr>\n",
       "      <td>7</td>\n",
       "      <td>sunny</td>\n",
       "      <td>mild</td>\n",
       "      <td>high</td>\n",
       "      <td>False</td>\n",
       "      <td>no</td>\n",
       "    </tr>\n",
       "    <tr>\n",
       "      <td>8</td>\n",
       "      <td>sunny</td>\n",
       "      <td>cool</td>\n",
       "      <td>normal</td>\n",
       "      <td>False</td>\n",
       "      <td>yes</td>\n",
       "    </tr>\n",
       "    <tr>\n",
       "      <td>9</td>\n",
       "      <td>rainy</td>\n",
       "      <td>mild</td>\n",
       "      <td>normal</td>\n",
       "      <td>False</td>\n",
       "      <td>yes</td>\n",
       "    </tr>\n",
       "    <tr>\n",
       "      <td>10</td>\n",
       "      <td>sunny</td>\n",
       "      <td>mild</td>\n",
       "      <td>normal</td>\n",
       "      <td>True</td>\n",
       "      <td>yes</td>\n",
       "    </tr>\n",
       "    <tr>\n",
       "      <td>11</td>\n",
       "      <td>overcast</td>\n",
       "      <td>mild</td>\n",
       "      <td>high</td>\n",
       "      <td>True</td>\n",
       "      <td>yes</td>\n",
       "    </tr>\n",
       "    <tr>\n",
       "      <td>12</td>\n",
       "      <td>overcast</td>\n",
       "      <td>hot</td>\n",
       "      <td>normal</td>\n",
       "      <td>False</td>\n",
       "      <td>yes</td>\n",
       "    </tr>\n",
       "    <tr>\n",
       "      <td>13</td>\n",
       "      <td>rainy</td>\n",
       "      <td>mild</td>\n",
       "      <td>high</td>\n",
       "      <td>True</td>\n",
       "      <td>no</td>\n",
       "    </tr>\n",
       "  </tbody>\n",
       "</table>\n",
       "</div>"
      ],
      "text/plain": [
       "     outlook  temp humidity  windy play\n",
       "0      sunny   hot     high  False   no\n",
       "1      sunny   hot     high   True   no\n",
       "2   overcast   hot     high  False  yes\n",
       "3      rainy  mild     high  False  yes\n",
       "4      rainy  cool   normal  False  yes\n",
       "5      rainy  cool   normal   True   no\n",
       "6   overcast  cool   normal   True  yes\n",
       "7      sunny  mild     high  False   no\n",
       "8      sunny  cool   normal  False  yes\n",
       "9      rainy  mild   normal  False  yes\n",
       "10     sunny  mild   normal   True  yes\n",
       "11  overcast  mild     high   True  yes\n",
       "12  overcast   hot   normal  False  yes\n",
       "13     rainy  mild     high   True   no"
      ]
     },
     "execution_count": 27,
     "metadata": {},
     "output_type": "execute_result"
    }
   ],
   "source": [
    "f = 'datasets/tennis.csv'\n",
    "df = pd.read_csv(f, delimiter=',', header=0)\n",
    "df"
   ]
  },
  {
   "cell_type": "code",
   "execution_count": 32,
   "metadata": {},
   "outputs": [],
   "source": [
    "class NaiveBayes():\n",
    "    \"\"\"\n",
    "    A simple implementation of the Naive Bayes algorithm.\n",
    "\n",
    "    Parameters\n",
    "    ------------\n",
    "    None\n",
    "\n",
    "    Attributes\n",
    "    -----------\n",
    "    p_ : dictionary\n",
    "      Conditional probabilities after fitting the data\n",
    "    s_ : \n",
    "    target_ : str\n",
    "      target feature class\n",
    "\n",
    "    \"\"\"\n",
    "    \n",
    "    def __init__(self):\n",
    "        self.df = None\n",
    "        self.p_ = None\n",
    "        self.s1_ = 0\n",
    "        self.s2_ = 0\n",
    "    \n",
    "    def fit(self, df, target, smoothing=None):\n",
    "        \"\"\" Fit the training data.\n",
    "        \"\"\"\n",
    "        self.df = df\n",
    "        self.target_ = target\n",
    "        self.p_ = defaultdict()\n",
    "        \n",
    "        if smoothing == 'plus1':\n",
    "            self.s1_ = 1\n",
    "            self.s2_ = 2\n",
    "        elif smoothing == 'laplace':\n",
    "            self.s1_ = 1\n",
    "            self.s2_ = df.shape[1]\n",
    "        \n",
    "        for c in self.df[target].unique():\n",
    "            target_c = self.df[df[target] == c].shape[0]\n",
    "            self.p_['p_c_{}'.format(c)] = (target_c + self.s1_) / (self.df.shape[0] + self.s2_)\n",
    "            for f in self.df.columns: \n",
    "                if not f == self.target_:\n",
    "                    for f_cond in self.df[f].unique():\n",
    "                        self.p_['p_c_{}_{}_{}'.format(c, f, f_cond)] = (self.df[(self.df[f] == f_cond) & (self.df[target] == c)].shape[0] + self.s1_) / (target_c + self.s2_)\n",
    "\n",
    "        return self\n",
    "        \n",
    "    def predict(self, condition):\n",
    "        \"\"\" Predicting with a condition.\n",
    "        \"\"\"\n",
    "        pred_ = defaultdict()\n",
    "        for c in self.df[self.target_].unique():\n",
    "            p = self.p_['p_c_{}'.format(c)]\n",
    "            for f in conditions.keys():\n",
    "                p *= self.p_['p_c_{}_{}_{}'.format(c, f, conditions[f])]\n",
    "            pred_[c] = p\n",
    "        \n",
    "        pred_sum = sum(pred_.values())\n",
    "        for c in pred_.keys():\n",
    "            pred_[c] = pred_[c] / pred_sum\n",
    "            \n",
    "        return pred_"
   ]
  },
  {
   "cell_type": "code",
   "execution_count": 21,
   "metadata": {},
   "outputs": [
    {
     "data": {
      "text/plain": [
       "defaultdict(None,\n",
       "            {'p_c_no': 0.35714285714285715,\n",
       "             'p_c_no_outlook_sunny': 0.6,\n",
       "             'p_c_no_outlook_overcast': 0.0,\n",
       "             'p_c_no_outlook_rainy': 0.4,\n",
       "             'p_c_no_temp_hot': 0.4,\n",
       "             'p_c_no_temp_mild': 0.4,\n",
       "             'p_c_no_temp_cool': 0.2,\n",
       "             'p_c_no_humidity_high': 0.8,\n",
       "             'p_c_no_humidity_normal': 0.2,\n",
       "             'p_c_no_windy_False': 0.4,\n",
       "             'p_c_no_windy_True': 0.6,\n",
       "             'p_c_yes': 0.6428571428571429,\n",
       "             'p_c_yes_outlook_sunny': 0.2222222222222222,\n",
       "             'p_c_yes_outlook_overcast': 0.4444444444444444,\n",
       "             'p_c_yes_outlook_rainy': 0.3333333333333333,\n",
       "             'p_c_yes_temp_hot': 0.2222222222222222,\n",
       "             'p_c_yes_temp_mild': 0.4444444444444444,\n",
       "             'p_c_yes_temp_cool': 0.3333333333333333,\n",
       "             'p_c_yes_humidity_high': 0.3333333333333333,\n",
       "             'p_c_yes_humidity_normal': 0.6666666666666666,\n",
       "             'p_c_yes_windy_False': 0.6666666666666666,\n",
       "             'p_c_yes_windy_True': 0.3333333333333333})"
      ]
     },
     "execution_count": 21,
     "metadata": {},
     "output_type": "execute_result"
    }
   ],
   "source": [
    "nb = NaiveBayes()\n",
    "nb.fit(df, target='play')\n",
    "nb.p_"
   ]
  },
  {
   "cell_type": "code",
   "execution_count": 22,
   "metadata": {},
   "outputs": [
    {
     "data": {
      "text/plain": [
       "defaultdict(None, {'no': 0.795417348608838, 'yes': 0.20458265139116202})"
      ]
     },
     "execution_count": 22,
     "metadata": {},
     "output_type": "execute_result"
    }
   ],
   "source": [
    "conditions = {\n",
    "    'outlook': 'sunny',\n",
    "    'temp': 'cool',\n",
    "    'humidity': 'high',\n",
    "    'windy': True\n",
    "}\n",
    "\n",
    "nb.predict(conditions)"
   ]
  },
  {
   "cell_type": "markdown",
   "metadata": {},
   "source": [
    "---"
   ]
  },
  {
   "cell_type": "markdown",
   "metadata": {},
   "source": [
    "### Now compare Naive Bayes with the usage of smoothing."
   ]
  },
  {
   "cell_type": "code",
   "execution_count": 40,
   "metadata": {},
   "outputs": [
    {
     "name": "stdout",
     "output_type": "stream",
     "text": [
      "defaultdict(None, {'no': 0.795417348608838, 'yes': 0.20458265139116202})\n",
      "defaultdict(None, {'no': 0.7530216530370828, 'yes': 0.2469783469629173})\n",
      "defaultdict(None, {'no': 0.6576280471103808, 'yes': 0.3423719528896192})\n"
     ]
    }
   ],
   "source": [
    "nb1 = NaiveBayes()\n",
    "nb1.fit(df, target='play')\n",
    "\n",
    "nb2 = NaiveBayes()\n",
    "nb2.fit(df, target='play', smoothing='plus1')\n",
    "\n",
    "nb3 = NaiveBayes()\n",
    "nb3.fit(df, target='play', smoothing='laplace')\n",
    "\n",
    "print(nb1.predict(conditions))\n",
    "print(nb2.predict(conditions))\n",
    "print(nb3.predict(conditions))"
   ]
  },
  {
   "cell_type": "code",
   "execution_count": 43,
   "metadata": {},
   "outputs": [
    {
     "data": {
      "text/plain": [
       "defaultdict(None,\n",
       "            {'p_c_no': 0.35714285714285715,\n",
       "             'p_c_no_outlook_sunny': 0.6,\n",
       "             'p_c_no_outlook_overcast': 0.0,\n",
       "             'p_c_no_outlook_rainy': 0.4,\n",
       "             'p_c_no_temp_hot': 0.4,\n",
       "             'p_c_no_temp_mild': 0.4,\n",
       "             'p_c_no_temp_cool': 0.2,\n",
       "             'p_c_no_humidity_high': 0.8,\n",
       "             'p_c_no_humidity_normal': 0.2,\n",
       "             'p_c_no_windy_False': 0.4,\n",
       "             'p_c_no_windy_True': 0.6,\n",
       "             'p_c_yes': 0.6428571428571429,\n",
       "             'p_c_yes_outlook_sunny': 0.2222222222222222,\n",
       "             'p_c_yes_outlook_overcast': 0.4444444444444444,\n",
       "             'p_c_yes_outlook_rainy': 0.3333333333333333,\n",
       "             'p_c_yes_temp_hot': 0.2222222222222222,\n",
       "             'p_c_yes_temp_mild': 0.4444444444444444,\n",
       "             'p_c_yes_temp_cool': 0.3333333333333333,\n",
       "             'p_c_yes_humidity_high': 0.3333333333333333,\n",
       "             'p_c_yes_humidity_normal': 0.6666666666666666,\n",
       "             'p_c_yes_windy_False': 0.6666666666666666,\n",
       "             'p_c_yes_windy_True': 0.3333333333333333})"
      ]
     },
     "execution_count": 43,
     "metadata": {},
     "output_type": "execute_result"
    }
   ],
   "source": [
    "nb1.p_"
   ]
  },
  {
   "cell_type": "code",
   "execution_count": 44,
   "metadata": {},
   "outputs": [
    {
     "data": {
      "text/plain": [
       "defaultdict(None,\n",
       "            {'p_c_no': 0.375,\n",
       "             'p_c_no_outlook_sunny': 0.5714285714285714,\n",
       "             'p_c_no_outlook_overcast': 0.14285714285714285,\n",
       "             'p_c_no_outlook_rainy': 0.42857142857142855,\n",
       "             'p_c_no_temp_hot': 0.42857142857142855,\n",
       "             'p_c_no_temp_mild': 0.42857142857142855,\n",
       "             'p_c_no_temp_cool': 0.2857142857142857,\n",
       "             'p_c_no_humidity_high': 0.7142857142857143,\n",
       "             'p_c_no_humidity_normal': 0.2857142857142857,\n",
       "             'p_c_no_windy_False': 0.42857142857142855,\n",
       "             'p_c_no_windy_True': 0.5714285714285714,\n",
       "             'p_c_yes': 0.625,\n",
       "             'p_c_yes_outlook_sunny': 0.2727272727272727,\n",
       "             'p_c_yes_outlook_overcast': 0.45454545454545453,\n",
       "             'p_c_yes_outlook_rainy': 0.36363636363636365,\n",
       "             'p_c_yes_temp_hot': 0.2727272727272727,\n",
       "             'p_c_yes_temp_mild': 0.45454545454545453,\n",
       "             'p_c_yes_temp_cool': 0.36363636363636365,\n",
       "             'p_c_yes_humidity_high': 0.36363636363636365,\n",
       "             'p_c_yes_humidity_normal': 0.6363636363636364,\n",
       "             'p_c_yes_windy_False': 0.6363636363636364,\n",
       "             'p_c_yes_windy_True': 0.36363636363636365})"
      ]
     },
     "execution_count": 44,
     "metadata": {},
     "output_type": "execute_result"
    }
   ],
   "source": [
    "nb2.p_"
   ]
  },
  {
   "cell_type": "code",
   "execution_count": 45,
   "metadata": {},
   "outputs": [
    {
     "data": {
      "text/plain": [
       "defaultdict(None,\n",
       "            {'p_c_no': 0.3157894736842105,\n",
       "             'p_c_no_outlook_sunny': 0.4,\n",
       "             'p_c_no_outlook_overcast': 0.1,\n",
       "             'p_c_no_outlook_rainy': 0.3,\n",
       "             'p_c_no_temp_hot': 0.3,\n",
       "             'p_c_no_temp_mild': 0.3,\n",
       "             'p_c_no_temp_cool': 0.2,\n",
       "             'p_c_no_humidity_high': 0.5,\n",
       "             'p_c_no_humidity_normal': 0.2,\n",
       "             'p_c_no_windy_False': 0.3,\n",
       "             'p_c_no_windy_True': 0.4,\n",
       "             'p_c_yes': 0.5263157894736842,\n",
       "             'p_c_yes_outlook_sunny': 0.21428571428571427,\n",
       "             'p_c_yes_outlook_overcast': 0.35714285714285715,\n",
       "             'p_c_yes_outlook_rainy': 0.2857142857142857,\n",
       "             'p_c_yes_temp_hot': 0.21428571428571427,\n",
       "             'p_c_yes_temp_mild': 0.35714285714285715,\n",
       "             'p_c_yes_temp_cool': 0.2857142857142857,\n",
       "             'p_c_yes_humidity_high': 0.2857142857142857,\n",
       "             'p_c_yes_humidity_normal': 0.5,\n",
       "             'p_c_yes_windy_False': 0.5,\n",
       "             'p_c_yes_windy_True': 0.2857142857142857})"
      ]
     },
     "execution_count": 45,
     "metadata": {},
     "output_type": "execute_result"
    }
   ],
   "source": [
    "nb3.p_"
   ]
  }
 ],
 "metadata": {
  "kernelspec": {
   "display_name": "Python 3",
   "language": "python",
   "name": "python3"
  },
  "language_info": {
   "codemirror_mode": {
    "name": "ipython",
    "version": 3
   },
   "file_extension": ".py",
   "mimetype": "text/x-python",
   "name": "python",
   "nbconvert_exporter": "python",
   "pygments_lexer": "ipython3",
   "version": "3.7.4"
  }
 },
 "nbformat": 4,
 "nbformat_minor": 4
}
