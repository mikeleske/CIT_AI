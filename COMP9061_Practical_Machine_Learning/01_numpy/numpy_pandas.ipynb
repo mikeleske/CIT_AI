{
 "cells": [
  {
   "cell_type": "markdown",
   "metadata": {},
   "source": [
    "# Practical Machine Learning – NumPy Exercises"
   ]
  },
  {
   "cell_type": "code",
   "execution_count": 1,
   "metadata": {},
   "outputs": [],
   "source": [
    "import numpy as np\n",
    "import pandas as pd"
   ]
  },
  {
   "cell_type": "markdown",
   "metadata": {},
   "source": [
    "## Question 1 - Numerical Analysis Exercises using NumPy – Rainfall Dataset "
   ]
  },
  {
   "cell_type": "markdown",
   "metadata": {},
   "source": [
    "**Dataset details:**\n",
    "    \n",
    "- Year\n",
    "- Month (1 = Jan, 2 = Feb, 3 = March, etc. )\n",
    "- Total Rainfall (Millimetres)\n",
    "- Most Rainfall in a Day (Millimetres)\n",
    "- Number of Rain days (A day is classified as a rain day if it has >= 0.2mm rain) (Number)"
   ]
  },
  {
   "cell_type": "code",
   "execution_count": 2,
   "metadata": {},
   "outputs": [],
   "source": [
    "f = 'datasets\\CorkRainfall.txt'\n",
    "\n",
    "cork = np.genfromtxt(f, delimiter =' ')\n",
    "#cork.shape"
   ]
  },
  {
   "cell_type": "markdown",
   "metadata": {},
   "source": [
    "---\n",
    "\n",
    "**1. Print out the max ‘Most Rainfall in a Day’ value and the average ‘Most Rainfall in a Day’ value for the Cork data (that is, obtain the maximum value contained in this column of data and the average value in this column of data).**"
   ]
  },
  {
   "cell_type": "code",
   "execution_count": 3,
   "metadata": {},
   "outputs": [
    {
     "name": "stdout",
     "output_type": "stream",
     "text": [
      "The max ‘Most Rainfall in a Day’ is 86.7\n",
      "The average ‘Most Rainfall in a Day’ is 22.9\n"
     ]
    }
   ],
   "source": [
    "print(\"The max ‘Most Rainfall in a Day’ is {:.3}\".format(cork[:, 3].max()))\n",
    "print(\"The average ‘Most Rainfall in a Day’ is {:.3}\".format(cork[:, 3].mean()))"
   ]
  },
  {
   "cell_type": "markdown",
   "metadata": {},
   "source": [
    "---\n",
    "\n",
    "**2. Display all unique years for which there is data in the dataset (you can use np.unique). Ask the user to select a specific year. You should then output the sum of the RainDays column for that year (you do this by adding up the \"Number of rain days” for all 12 rows pertaining to the selected year).** "
   ]
  },
  {
   "cell_type": "code",
   "execution_count": 4,
   "metadata": {},
   "outputs": [
    {
     "data": {
      "text/plain": [
       "array([1962., 1963., 1964., 1965., 1966., 1967., 1968., 1969., 1970.,\n",
       "       1971., 1972., 1973., 1974., 1975., 1976., 1977., 1978., 1979.,\n",
       "       1980., 1981., 1982., 1983., 1984., 1985., 1986., 1987., 1988.,\n",
       "       1989., 1990., 1991., 1992., 1993., 1994., 1995., 1996., 1997.,\n",
       "       1998., 1999., 2000., 2001., 2002., 2003., 2004., 2005., 2006.,\n",
       "       2007., 2008., 2009., 2010., 2011.])"
      ]
     },
     "execution_count": 4,
     "metadata": {},
     "output_type": "execute_result"
    }
   ],
   "source": [
    "np.unique(cork[:, 0])"
   ]
  },
  {
   "cell_type": "code",
   "execution_count": 5,
   "metadata": {},
   "outputs": [
    {
     "data": {
      "text/plain": [
       "189.0"
      ]
     },
     "execution_count": 5,
     "metadata": {},
     "output_type": "execute_result"
    }
   ],
   "source": [
    "year = 2010\n",
    "\n",
    "cork[cork[:, 0] == year][:, 4].sum()"
   ]
  },
  {
   "cell_type": "markdown",
   "metadata": {},
   "source": [
    "---\n",
    "\n",
    "**3. Calculate the wettest month of the year in Cork based using the “Total Rainfall”\n",
    "value. The month that has the highest cumulative “Total Rainfall” value across all\n",
    "years should be classified as the wettest.**"
   ]
  },
  {
   "cell_type": "code",
   "execution_count": 6,
   "metadata": {},
   "outputs": [
    {
     "name": "stdout",
     "output_type": "stream",
     "text": [
      "(1, 6848.1)\n"
     ]
    }
   ],
   "source": [
    "result = None\n",
    "for month in range(1, 13):\n",
    "    rain = cork[cork[:, 1] == month][:, 2].sum()\n",
    "    \n",
    "    if result is None:\n",
    "        result = (month, rain)\n",
    "    elif rain > result[1]:\n",
    "        result = (month, rain)\n",
    "\n",
    "print(result)"
   ]
  },
  {
   "cell_type": "code",
   "execution_count": 7,
   "metadata": {},
   "outputs": [
    {
     "name": "stdout",
     "output_type": "stream",
     "text": [
      "Wettest month is 1 with cumulative rainfall of 6848 ml.\n"
     ]
    }
   ],
   "source": [
    "from scipy import ndimage\n",
    "unique = np.unique(cork[:, 1])\n",
    "result = np.dstack([unique, ndimage.sum(cork[:,2], cork[:,1], unique)])[0][:,1]\n",
    "print(\"Wettest month is {} with cumulative rainfall of {} ml.\".format(result.argmax()+1, int(result.max())))"
   ]
  },
  {
   "cell_type": "code",
   "execution_count": 8,
   "metadata": {},
   "outputs": [
    {
     "data": {
      "text/plain": [
       "array([134.6,  34.8,  35.9, 141.6, 209.8, 121.4,  96.5, 275. , 219.1,\n",
       "       162.6, 171.3, 129.6, 340.9, 162.8,  90.3, 162.1, 106.4, 112.2,\n",
       "       134.2,  41.8, 136. , 144.9, 194. , 102. , 105. ,  78. , 256.9,\n",
       "       100.2, 166.5, 117.6,  40.2, 169.1, 154.7, 178.7, 217. ,  61.4,\n",
       "       178.5, 140.9,  51.2,  86.6, 242.4,  75.8, 107.7, 124.6,  48.9,\n",
       "        87.9, 195.1, 201.9, 125.7,  75.8])"
      ]
     },
     "execution_count": 8,
     "metadata": {},
     "output_type": "execute_result"
    }
   ],
   "source": [
    "cork[cork[:, 1] == 1][:, 2]"
   ]
  },
  {
   "cell_type": "markdown",
   "metadata": {},
   "source": [
    "---\n",
    "\n",
    "**4. This question focuses on the Number of Rain days column. The user is asked to enter\n",
    "a maximum threshold value for the number of rain days. Your code should then\n",
    "output the percentage of the time (percentage of rows in the dataset) where the\n",
    "number of rain days is less than or equal to the threshold value.**"
   ]
  },
  {
   "cell_type": "code",
   "execution_count": 9,
   "metadata": {},
   "outputs": [
    {
     "data": {
      "text/plain": [
       "'8.83%'"
      ]
     },
     "execution_count": 9,
     "metadata": {},
     "output_type": "execute_result"
    }
   ],
   "source": [
    "threshold = 10\n",
    "\n",
    "p = cork[cork[:, 4] <= threshold].shape[0] / cork.shape[0] * 100\n",
    "'{:.2f}%'.format(p)"
   ]
  },
  {
   "cell_type": "markdown",
   "metadata": {},
   "source": [
    "---\n",
    "\n",
    "**5. Calculate the average ‘total rainfall’ value for the summer months (June, July and August) and the Autumn months (Sept, Oct, Nov).**"
   ]
  },
  {
   "cell_type": "code",
   "execution_count": 10,
   "metadata": {},
   "outputs": [
    {
     "data": {
      "text/plain": [
       "'Avg summer: 80.04'"
      ]
     },
     "execution_count": 10,
     "metadata": {},
     "output_type": "execute_result"
    }
   ],
   "source": [
    "t = cork[(cork[:, 1] >= 6) & (cork[:, 1] <= 8)][:, 2].mean()\n",
    "'Avg summer: {:.2f}'.format(t)"
   ]
  },
  {
   "cell_type": "code",
   "execution_count": 11,
   "metadata": {},
   "outputs": [
    {
     "data": {
      "text/plain": [
       "'Avg autumn: 114.46'"
      ]
     },
     "execution_count": 11,
     "metadata": {},
     "output_type": "execute_result"
    }
   ],
   "source": [
    "t = cork[(cork[:, 1] >= 9) & (cork[:, 1] <= 11)][:, 2].mean()\n",
    "'Avg autumn: {:.2f}'.format(t)"
   ]
  },
  {
   "cell_type": "markdown",
   "metadata": {},
   "source": [
    "---\n",
    "\n",
    "**6. Read in the contents of the file DublinRainfall.txt into a NumPy array. Append the all\n",
    "rows from the Dublin array to the Cork NumPy array. Calculate the average number\n",
    "of raindays for the new array and write the new NumPy array to a CSV file.**"
   ]
  },
  {
   "cell_type": "code",
   "execution_count": 12,
   "metadata": {},
   "outputs": [],
   "source": [
    "f = 'datasets\\DublinRainfall.txt'\n",
    "\n",
    "dublin = np.genfromtxt(f, delimiter =' ')\n",
    "#dublin.shape"
   ]
  },
  {
   "cell_type": "code",
   "execution_count": 13,
   "metadata": {},
   "outputs": [],
   "source": [
    "ie = np.concatenate((cork, dublin))"
   ]
  },
  {
   "cell_type": "code",
   "execution_count": 14,
   "metadata": {},
   "outputs": [
    {
     "data": {
      "text/plain": [
       "'Avg IE: 16.70'"
      ]
     },
     "execution_count": 14,
     "metadata": {},
     "output_type": "execute_result"
    }
   ],
   "source": [
    "t = ie[:, 4].mean()\n",
    "'Avg IE: {:.2f}'.format(t)"
   ]
  },
  {
   "cell_type": "code",
   "execution_count": 15,
   "metadata": {},
   "outputs": [],
   "source": [
    "np.savetxt('datasets\\ie.txt', ie, delimiter=',') "
   ]
  },
  {
   "cell_type": "markdown",
   "metadata": {},
   "source": [
    "---"
   ]
  },
  {
   "cell_type": "markdown",
   "metadata": {},
   "source": [
    "## Question 2 - Numerical Analysis Exercises using NumPy Bike Dataset"
   ]
  },
  {
   "cell_type": "markdown",
   "metadata": {},
   "source": [
    "**Dataset details:**\n",
    "\n",
    "0. **instant** : record index\n",
    "1. **season** : season (1:springer, 2:summer, 3:fall, 4:winter)\n",
    "2. **yr** : year (0: 2011, 1:2012)\n",
    "3. **mnth** : month ( 1 to 12)\n",
    "4. **hr** : hour (0 to 23)\n",
    "5. **holiday** : weather day is holiday or not (extracted from [Web Link])\n",
    "6. **weekday** : day of the week\n",
    "7. **workingday** : if day is neither weekend nor holiday is 1, otherwise is 0.\n",
    "8. **weathersit** :\n",
    "\n",
    "   **i. 1** : Clear, Few clouds, Partly cloudy, Partly cloudy\n",
    "   \n",
    "   **ii. 2** : Mist + Cloudy, Mist + Broken clouds, Mist + Few clouds, Mist\n",
    "   \n",
    "   **iii. 3** : Light Snow, Light Rain + Thunderstorm + Scattered clouds, Light Rain + Scattered clouds\n",
    "   \n",
    "   **iv. 4** : Heavy Rain + Ice Pallets + Thunderstorm + Mist, Snow + Fog\n",
    "9. **temp** : Normalized temperature in Celsius. The values are divided to 41 (max)\n",
    "10. **atemp** : Normalized feeling temperature in Celsius. The values are divided to 50 (max)\n",
    "11. **hum** : Normalized humidity. The values are divided to 100 (max)\n",
    "12. **windspeed** : Normalized wind speed. The values are divided to 67 (max)\n",
    "13. **casual** : count of casual users\n",
    "14. **registered** : count of registered users\n",
    "15. **cnt** : count of total rental bikes including both casual and registered"
   ]
  },
  {
   "cell_type": "code",
   "execution_count": 16,
   "metadata": {},
   "outputs": [],
   "source": [
    "f = 'datasets/bike.csv'\n",
    "\n",
    "bike = np.genfromtxt(f, delimiter =',')"
   ]
  },
  {
   "cell_type": "markdown",
   "metadata": {},
   "source": [
    "---\n",
    "\n",
    "**1. Calculate the average temperature value (column index 9) for the entire dataset. Note the\n",
    "temperature values in this column have been already normalized by dividing by 41.**"
   ]
  },
  {
   "cell_type": "code",
   "execution_count": 17,
   "metadata": {},
   "outputs": [
    {
     "data": {
      "text/plain": [
       "'20.376'"
      ]
     },
     "execution_count": 17,
     "metadata": {},
     "output_type": "execute_result"
    }
   ],
   "source": [
    "avg_temp = (bike[:, 9].mean())*41\n",
    "\n",
    "'{:.3f}'.format(avg_temp)"
   ]
  },
  {
   "cell_type": "markdown",
   "metadata": {},
   "source": [
    "---\n",
    "\n",
    "**2. Print out the average number of casual users for all days classified as holidays as well as the\n",
    "average for all days classified as non-holidays. (Note holidays =1 and non-holidays = 0).\n",
    "Holidays attribute is stored at index 5.**"
   ]
  },
  {
   "cell_type": "code",
   "execution_count": 18,
   "metadata": {},
   "outputs": [
    {
     "name": "stdout",
     "output_type": "stream",
     "text": [
      "avg_hol_user: 44.72, avg_nhol_user: 35.41\n"
     ]
    }
   ],
   "source": [
    "avg_hol_user = bike[bike[:, 5] == 1][:, 13].mean()\n",
    "avg_nhol_user = bike[bike[:, 5] == 0][:, 13].mean()\n",
    "\n",
    "print('avg_hol_user: {:.2f}, avg_nhol_user: {:.2f}'.format(avg_hol_user, avg_nhol_user))"
   ]
  },
  {
   "cell_type": "markdown",
   "metadata": {},
   "source": [
    "---\n",
    "\n",
    "**3. Write NumPy code that will print out the total number of casual users for each month of the\n",
    "year. You would expect to see an increase in the number of casual users over the summer\n",
    "months and a decline for the winter months.**"
   ]
  },
  {
   "cell_type": "code",
   "execution_count": 19,
   "metadata": {},
   "outputs": [
    {
     "data": {
      "text/plain": [
       "<function matplotlib.pyplot.show(*args, **kw)>"
      ]
     },
     "execution_count": 19,
     "metadata": {},
     "output_type": "execute_result"
    },
    {
     "data": {
      "image/png": "[encoded data removed]",
      "text/plain": [
       "<Figure size 432x288 with 1 Axes>"
      ]
     },
     "metadata": {
      "needs_background": "light"
     },
     "output_type": "display_data"
    }
   ],
   "source": [
    "%matplotlib inline\n",
    "import matplotlib.pyplot as plt\n",
    "\n",
    "total_users = []\n",
    "\n",
    "for year in np.unique(bike[:, 2]):\n",
    "    for month in np.unique(bike[:, 3]):\n",
    "        users = bike[(bike[:, 2] == year) & (bike[:, 3] == month)][:, 13].sum()\n",
    "        total_users.append(users)\n",
    "        #print(year, month, users)\n",
    "\n",
    "plt.plot(total_users)\n",
    "plt.show"
   ]
  },
  {
   "cell_type": "markdown",
   "metadata": {},
   "source": [
    "---\n",
    "\n",
    "**4. We will now look at the relationship between temperature and the number of users (column\n",
    "index 15). Your code should work out the average number of users for the following temperature\n",
    "ranges.**\n",
    "\n",
    "- 1, 6\n",
    "- 6, 10\n",
    "- 10, 15\n",
    "- 15, 20\n",
    "- 20, 25\n",
    "- 25, 30\n",
    "- 30, 35\n",
    "- 35, 40\n",
    "\n",
    "Remember the temperature values specified in the file have been normalised by dividing by 41."
   ]
  },
  {
   "cell_type": "code",
   "execution_count": 20,
   "metadata": {},
   "outputs": [
    {
     "name": "stdout",
     "output_type": "stream",
     "text": [
      "[51.85031847133758, 73.66706302021403, 123.71528588098016, 168.44148199445982, 209.50824261275272, 234.74462365591398, 330.33067729083666, 317.92134831460675]\n"
     ]
    },
    {
     "data": {
      "text/plain": [
       "<function matplotlib.pyplot.show(*args, **kw)>"
      ]
     },
     "execution_count": 20,
     "metadata": {},
     "output_type": "execute_result"
    },
    {
     "data": {
      "image/png": "[encoded data removed]",
      "text/plain": [
       "<Figure size 432x288 with 1 Axes>"
      ]
     },
     "metadata": {
      "needs_background": "light"
     },
     "output_type": "display_data"
    }
   ],
   "source": [
    "scaler = 41\n",
    "ranges = [(1, 6), (6, 10), (10, 15), (15, 20), (20, 25), (25, 30), (30, 35), (35, 40)]\n",
    "avg_users = []\n",
    "\n",
    "for r in ranges:\n",
    "    avg_user = bike[(bike[:, 9] >= r[0]/scaler) & (bike[:, 9] <=  (r[1])/scaler)][:, 15].mean()\n",
    "    avg_users.append(avg_user)\n",
    "\n",
    "print(avg_users)\n",
    "plt.plot(avg_users)\n",
    "plt.show"
   ]
  },
  {
   "cell_type": "markdown",
   "metadata": {},
   "source": [
    "---"
   ]
  },
  {
   "cell_type": "markdown",
   "metadata": {},
   "source": [
    "## Question 3 - Numerical Analysis Exercises Pandas – Shark Attack Dataset: "
   ]
  },
  {
   "cell_type": "markdown",
   "metadata": {},
   "source": [
    "**Dataset details:**\n",
    "\n",
    "0. Case Number\n",
    "1. Date\n",
    "2. Year\n",
    "3. Type\n",
    "4. Country\n",
    "5. Area\n",
    "6. Location\n",
    "7. Activity\n",
    "8. Name\n",
    "9. Sex\n",
    "10. Age\n",
    "11. Injury\n",
    "12. Fatal\n",
    "13. Time\n",
    "14. Species\n",
    "15. Investigator or Source\n",
    "\n",
    "You will notice in the dataset that some entries in the fatality column are recorded as\n",
    "UNKNOWN, n, F, etc. We ignore these entries and only consider entries that are uppercase ‘Y’\n",
    "or ‘N’."
   ]
  },
  {
   "cell_type": "code",
   "execution_count": 21,
   "metadata": {},
   "outputs": [
    {
     "data": {
      "text/html": [
       "<div>\n",
       "<style scoped>\n",
       "    .dataframe tbody tr th:only-of-type {\n",
       "        vertical-align: middle;\n",
       "    }\n",
       "\n",
       "    .dataframe tbody tr th {\n",
       "        vertical-align: top;\n",
       "    }\n",
       "\n",
       "    .dataframe thead th {\n",
       "        text-align: right;\n",
       "    }\n",
       "</style>\n",
       "<table border=\"1\" class=\"dataframe\">\n",
       "  <thead>\n",
       "    <tr style=\"text-align: right;\">\n",
       "      <th></th>\n",
       "      <th>Case Number</th>\n",
       "      <th>Date</th>\n",
       "      <th>Year</th>\n",
       "      <th>Type</th>\n",
       "      <th>Country</th>\n",
       "      <th>Area</th>\n",
       "      <th>Location</th>\n",
       "      <th>Activity</th>\n",
       "      <th>Name</th>\n",
       "      <th>Sex</th>\n",
       "      <th>...</th>\n",
       "      <th>Fatal</th>\n",
       "      <th>Time</th>\n",
       "      <th>Species</th>\n",
       "      <th>Investigator or Source</th>\n",
       "      <th>pdf</th>\n",
       "      <th>href formula</th>\n",
       "      <th>href</th>\n",
       "      <th>Case Number.1</th>\n",
       "      <th>Case Number.2</th>\n",
       "      <th>original order</th>\n",
       "    </tr>\n",
       "  </thead>\n",
       "  <tbody>\n",
       "    <tr>\n",
       "      <td>0</td>\n",
       "      <td>2017.06.11</td>\n",
       "      <td>11-Jun-17</td>\n",
       "      <td>2017.0</td>\n",
       "      <td>Unprovoked</td>\n",
       "      <td>AUSTRALIA</td>\n",
       "      <td>Western Australia</td>\n",
       "      <td>Point Casuarina, Bunbury</td>\n",
       "      <td>Body boarding</td>\n",
       "      <td>Paul Goff</td>\n",
       "      <td>M</td>\n",
       "      <td>...</td>\n",
       "      <td>N</td>\n",
       "      <td>08h30</td>\n",
       "      <td>White shark, 4 m</td>\n",
       "      <td>WA Today, 6/11/2017</td>\n",
       "      <td>2017.06.11-Goff.pdf</td>\n",
       "      <td>http://sharkattackfile.net/spreadsheets/pdf_di...</td>\n",
       "      <td>http://sharkattackfile.net/spreadsheets/pdf_di...</td>\n",
       "      <td>2017.06.11</td>\n",
       "      <td>2017.06.11</td>\n",
       "      <td>6095.0</td>\n",
       "    </tr>\n",
       "    <tr>\n",
       "      <td>1</td>\n",
       "      <td>2017.06.10.b</td>\n",
       "      <td>10-Jun-17</td>\n",
       "      <td>2017.0</td>\n",
       "      <td>Unprovoked</td>\n",
       "      <td>AUSTRALIA</td>\n",
       "      <td>Victoria</td>\n",
       "      <td>Flinders, Mornington Penisula</td>\n",
       "      <td>Surfing</td>\n",
       "      <td>female</td>\n",
       "      <td>F</td>\n",
       "      <td>...</td>\n",
       "      <td>N</td>\n",
       "      <td>15h45</td>\n",
       "      <td>7 gill shark</td>\n",
       "      <td>NaN</td>\n",
       "      <td>2017.06.10.b-Flinders.pdf</td>\n",
       "      <td>http://sharkattackfile.net/spreadsheets/pdf_di...</td>\n",
       "      <td>http://sharkattackfile.net/spreadsheets/pdf_di...</td>\n",
       "      <td>2017.06.10.b</td>\n",
       "      <td>2017.06.10.b</td>\n",
       "      <td>6094.0</td>\n",
       "    </tr>\n",
       "    <tr>\n",
       "      <td>2</td>\n",
       "      <td>2017.06.10.a</td>\n",
       "      <td>10-Jun-17</td>\n",
       "      <td>2017.0</td>\n",
       "      <td>Unprovoked</td>\n",
       "      <td>USA</td>\n",
       "      <td>Florida</td>\n",
       "      <td>Ponce Inlet, Volusia County</td>\n",
       "      <td>Surfing</td>\n",
       "      <td>Bryan Brock</td>\n",
       "      <td>M</td>\n",
       "      <td>...</td>\n",
       "      <td>N</td>\n",
       "      <td>10h00</td>\n",
       "      <td>NaN</td>\n",
       "      <td>Daytona Beach News-Journal, 6/10/2017</td>\n",
       "      <td>2017.06.10.a-Brock.pdf</td>\n",
       "      <td>http://sharkattackfile.net/spreadsheets/pdf_di...</td>\n",
       "      <td>http://sharkattackfile.net/spreadsheets/pdf_di...</td>\n",
       "      <td>2017.06.10.a</td>\n",
       "      <td>2017.06.10.a</td>\n",
       "      <td>6093.0</td>\n",
       "    </tr>\n",
       "    <tr>\n",
       "      <td>3</td>\n",
       "      <td>2017.06.07.R</td>\n",
       "      <td>Reported 07-Jun-2017</td>\n",
       "      <td>2017.0</td>\n",
       "      <td>Unprovoked</td>\n",
       "      <td>UNITED KINGDOM</td>\n",
       "      <td>South Devon</td>\n",
       "      <td>Bantham Beach</td>\n",
       "      <td>Surfing</td>\n",
       "      <td>Rich Thomson</td>\n",
       "      <td>M</td>\n",
       "      <td>...</td>\n",
       "      <td>N</td>\n",
       "      <td>NaN</td>\n",
       "      <td>3m shark, probably a smooth hound</td>\n",
       "      <td>C. Moore, GSAF</td>\n",
       "      <td>2017.06.07.R-Thomson.pdf</td>\n",
       "      <td>http://sharkattackfile.net/spreadsheets/pdf_di...</td>\n",
       "      <td>http://sharkattackfile.net/spreadsheets/pdf_di...</td>\n",
       "      <td>2017.06.07.R</td>\n",
       "      <td>2017.06.07.R</td>\n",
       "      <td>6092.0</td>\n",
       "    </tr>\n",
       "    <tr>\n",
       "      <td>4</td>\n",
       "      <td>2017.06.04</td>\n",
       "      <td>04-Jun-17</td>\n",
       "      <td>2017.0</td>\n",
       "      <td>Unprovoked</td>\n",
       "      <td>USA</td>\n",
       "      <td>Florida</td>\n",
       "      <td>Middle Sambo Reef off Boca Chica, Monroe County</td>\n",
       "      <td>Spearfishing</td>\n",
       "      <td>Parker Simpson</td>\n",
       "      <td>M</td>\n",
       "      <td>...</td>\n",
       "      <td>N</td>\n",
       "      <td>NaN</td>\n",
       "      <td>8' shark</td>\n",
       "      <td>Nine News, 6/7/2017</td>\n",
       "      <td>2017.06.04-Simpson.pdf</td>\n",
       "      <td>http://sharkattackfile.net/spreadsheets/pdf_di...</td>\n",
       "      <td>http://sharkattackfile.net/spreadsheets/pdf_di...</td>\n",
       "      <td>2017.06.04</td>\n",
       "      <td>2017.06.04</td>\n",
       "      <td>6091.0</td>\n",
       "    </tr>\n",
       "  </tbody>\n",
       "</table>\n",
       "<p>5 rows × 22 columns</p>\n",
       "</div>"
      ],
      "text/plain": [
       "    Case Number                  Date    Year        Type         Country  \\\n",
       "0    2017.06.11             11-Jun-17  2017.0  Unprovoked       AUSTRALIA   \n",
       "1  2017.06.10.b             10-Jun-17  2017.0  Unprovoked       AUSTRALIA   \n",
       "2  2017.06.10.a             10-Jun-17  2017.0  Unprovoked             USA   \n",
       "3  2017.06.07.R  Reported 07-Jun-2017  2017.0  Unprovoked  UNITED KINGDOM   \n",
       "4    2017.06.04             04-Jun-17  2017.0  Unprovoked             USA   \n",
       "\n",
       "                Area                                         Location  \\\n",
       "0  Western Australia                         Point Casuarina, Bunbury   \n",
       "1           Victoria                    Flinders, Mornington Penisula   \n",
       "2            Florida                      Ponce Inlet, Volusia County   \n",
       "3        South Devon                                    Bantham Beach   \n",
       "4            Florida  Middle Sambo Reef off Boca Chica, Monroe County   \n",
       "\n",
       "        Activity            Name Sex   ... Fatal   Time  \\\n",
       "0  Body boarding       Paul Goff    M  ...     N  08h30   \n",
       "1        Surfing          female    F  ...     N  15h45   \n",
       "2        Surfing     Bryan Brock    M  ...     N  10h00   \n",
       "3       Surfing     Rich Thomson    M  ...     N    NaN   \n",
       "4   Spearfishing  Parker Simpson    M  ...     N    NaN   \n",
       "\n",
       "                            Species                  Investigator or Source  \\\n",
       "0                   White shark, 4 m                    WA Today, 6/11/2017   \n",
       "1                       7 gill shark                                    NaN   \n",
       "2                                NaN  Daytona Beach News-Journal, 6/10/2017   \n",
       "3  3m shark, probably a smooth hound                         C. Moore, GSAF   \n",
       "4                           8' shark                    Nine News, 6/7/2017   \n",
       "\n",
       "                         pdf  \\\n",
       "0        2017.06.11-Goff.pdf   \n",
       "1  2017.06.10.b-Flinders.pdf   \n",
       "2     2017.06.10.a-Brock.pdf   \n",
       "3   2017.06.07.R-Thomson.pdf   \n",
       "4     2017.06.04-Simpson.pdf   \n",
       "\n",
       "                                        href formula  \\\n",
       "0  http://sharkattackfile.net/spreadsheets/pdf_di...   \n",
       "1  http://sharkattackfile.net/spreadsheets/pdf_di...   \n",
       "2  http://sharkattackfile.net/spreadsheets/pdf_di...   \n",
       "3  http://sharkattackfile.net/spreadsheets/pdf_di...   \n",
       "4  http://sharkattackfile.net/spreadsheets/pdf_di...   \n",
       "\n",
       "                                                href Case Number.1  \\\n",
       "0  http://sharkattackfile.net/spreadsheets/pdf_di...    2017.06.11   \n",
       "1  http://sharkattackfile.net/spreadsheets/pdf_di...  2017.06.10.b   \n",
       "2  http://sharkattackfile.net/spreadsheets/pdf_di...  2017.06.10.a   \n",
       "3  http://sharkattackfile.net/spreadsheets/pdf_di...  2017.06.07.R   \n",
       "4  http://sharkattackfile.net/spreadsheets/pdf_di...    2017.06.04   \n",
       "\n",
       "  Case Number.2 original order  \n",
       "0    2017.06.11         6095.0  \n",
       "1  2017.06.10.b         6094.0  \n",
       "2  2017.06.10.a         6093.0  \n",
       "3  2017.06.07.R         6092.0  \n",
       "4    2017.06.04         6091.0  \n",
       "\n",
       "[5 rows x 22 columns]"
      ]
     },
     "execution_count": 21,
     "metadata": {},
     "output_type": "execute_result"
    }
   ],
   "source": [
    "f = 'datasets/attacks.csv'\n",
    "df = pd.read_csv(f, encoding = \"utf-8\")\n",
    "\n",
    "df = df[(df.Fatal == 'Y') | (df.Fatal == 'N')]\n",
    "df.head()"
   ]
  },
  {
   "cell_type": "code",
   "execution_count": 22,
   "metadata": {},
   "outputs": [
    {
     "name": "stdout",
     "output_type": "stream",
     "text": [
      "<class 'pandas.core.frame.DataFrame'>\n",
      "Int64Index: 5957 entries, 0 to 6093\n",
      "Data columns (total 22 columns):\n",
      "Case Number               5957 non-null object\n",
      "Date                      5957 non-null object\n",
      "Year                      5957 non-null float64\n",
      "Type                      5955 non-null object\n",
      "Country                   5914 non-null object\n",
      "Area                      5566 non-null object\n",
      "Location                  5470 non-null object\n",
      "Activity                  5481 non-null object\n",
      "Name                      5779 non-null object\n",
      "Sex                       5434 non-null object\n",
      "Age                       3345 non-null object\n",
      "Injury                    5956 non-null object\n",
      "Fatal                     5957 non-null object\n",
      "Time                      2831 non-null object\n",
      "Species                   3057 non-null object\n",
      "Investigator or Source    5942 non-null object\n",
      "pdf                       5957 non-null object\n",
      "href formula              5956 non-null object\n",
      "href                      5956 non-null object\n",
      "Case Number.1             5957 non-null object\n",
      "Case Number.2             5957 non-null object\n",
      "original order            5957 non-null float64\n",
      "dtypes: float64(2), object(20)\n",
      "memory usage: 1.0+ MB\n"
     ]
    }
   ],
   "source": [
    "df.info()"
   ]
  },
  {
   "cell_type": "markdown",
   "metadata": {},
   "source": [
    "---\n",
    "\n",
    "**1. What location globally has the highest number of shark attacks?**"
   ]
  },
  {
   "cell_type": "code",
   "execution_count": 23,
   "metadata": {},
   "outputs": [
    {
     "data": {
      "text/plain": [
       "'New Smyrna Beach, Volusia County'"
      ]
     },
     "execution_count": 23,
     "metadata": {},
     "output_type": "execute_result"
    }
   ],
   "source": [
    "mode = df.Location.mode()[0]\n",
    "mode"
   ]
  },
  {
   "cell_type": "code",
   "execution_count": 24,
   "metadata": {},
   "outputs": [
    {
     "data": {
      "text/plain": [
       "(162, 22)"
      ]
     },
     "execution_count": 24,
     "metadata": {},
     "output_type": "execute_result"
    }
   ],
   "source": [
    "df[df.Location == mode].shape"
   ]
  },
  {
   "cell_type": "markdown",
   "metadata": {},
   "source": [
    "---\n",
    "\n",
    "**2. Read the shark attack dataset into a Pandas Dataframe.\n",
    "Determine the six countries that have experienced the highest number of shark attacks.**"
   ]
  },
  {
   "cell_type": "code",
   "execution_count": 25,
   "metadata": {},
   "outputs": [
    {
     "data": {
      "text/plain": [
       "USA                 2129\n",
       "AUSTRALIA           1266\n",
       "SOUTH AFRICA         564\n",
       "PAPUA NEW GUINEA     130\n",
       "NEW ZEALAND          123\n",
       "BAHAMAS              101\n",
       "Name: Country, dtype: int64"
      ]
     },
     "execution_count": 25,
     "metadata": {},
     "output_type": "execute_result"
    }
   ],
   "source": [
    "# top6 = df.groupby(['Country']).count().sort_values([\"Case Number\"], ascending=False).take(range(6))\n",
    "top6 = df.Country.value_counts().head(6)\n",
    "top6"
   ]
  },
  {
   "cell_type": "markdown",
   "metadata": {},
   "source": [
    "---\n",
    "\n",
    "**3. Modify your code to print out the six countries that have experienced the highest number of fatal\n",
    "shark attacks.**"
   ]
  },
  {
   "cell_type": "code",
   "execution_count": 26,
   "metadata": {},
   "outputs": [
    {
     "data": {
      "text/plain": [
       "AUSTRALIA           342\n",
       "USA                 250\n",
       "SOUTH AFRICA        137\n",
       "PAPUA NEW GUINEA     56\n",
       "MEXICO               44\n",
       "BRAZIL               40\n",
       "Name: Country, dtype: int64"
      ]
     },
     "execution_count": 26,
     "metadata": {},
     "output_type": "execute_result"
    }
   ],
   "source": [
    "fatal6 = df[df.Fatal == 'Y'].Country.value_counts().head(6)\n",
    "fatal6"
   ]
  },
  {
   "cell_type": "markdown",
   "metadata": {},
   "source": [
    "---\n",
    "\n",
    "**4. Based on the data in the Activity column are you more likely to be attacked by a shark if you are\n",
    "“Surfing” or “Scuba Diving”.**"
   ]
  },
  {
   "cell_type": "code",
   "execution_count": 27,
   "metadata": {},
   "outputs": [
    {
     "data": {
      "text/plain": [
       "'Surf: 921, Scuba: 5'"
      ]
     },
     "execution_count": 27,
     "metadata": {},
     "output_type": "execute_result"
    }
   ],
   "source": [
    "surf = df[df.Activity == 'Surfing'].shape[0]\n",
    "scuba = df[df.Activity == 'Scuba Diving'].shape[0]\n",
    "\n",
    "'Surf: {}, Scuba: {}'.format(surf, scuba)"
   ]
  },
  {
   "cell_type": "markdown",
   "metadata": {},
   "source": [
    "---\n",
    "\n",
    "**5. Determine from the dataset what percentage of all recorded shark attacks were fatal.**"
   ]
  },
  {
   "cell_type": "code",
   "execution_count": 28,
   "metadata": {},
   "outputs": [
    {
     "data": {
      "text/plain": [
       "'Fatality is 26.3%'"
      ]
     },
     "execution_count": 28,
     "metadata": {},
     "output_type": "execute_result"
    }
   ],
   "source": [
    "fatality = df[df.Fatal == 'Y'].shape[0] / df.shape[0]\n",
    "'Fatality is {:.1%}'.format(fatality)"
   ]
  },
  {
   "cell_type": "markdown",
   "metadata": {},
   "source": [
    "---\n",
    "\n",
    "**6. For each individual country, print out the percentage of fatal shark attacks (number of fatal shark attacks expressed as a percentage of the total number of shark attacks). Some countries have recorded 0 fatal and non-fatal attacks. Your code should only consider countries where the number of non-fatal and fatal attacks are greater than 0.**"
   ]
  },
  {
   "cell_type": "code",
   "execution_count": 29,
   "metadata": {},
   "outputs": [],
   "source": [
    "fatal_y = df[df.Fatal == \"Y\"][[\"Country\", \"Fatal\"]].groupby([\"Country\"]).count()\n",
    "fatal_n = df[df.Fatal == \"N\"][[\"Country\", \"Fatal\"]].groupby([\"Country\"]).count()\n",
    "fatal_y= fatal_y.rename(columns={\"Fatal\": \"Fatal_Y\"})\n",
    "fatal_n= fatal_n.rename(columns={\"Fatal\": \"Fatal_N\"})"
   ]
  },
  {
   "cell_type": "code",
   "execution_count": 30,
   "metadata": {},
   "outputs": [],
   "source": [
    "fatal = pd.concat([fatal_n, fatal_y], axis=1, sort=False).fillna(value=0)\n",
    "fatal[\"Percentage\"] = (fatal.Fatal_Y / (fatal.Fatal_Y + fatal.Fatal_N)) *100"
   ]
  },
  {
   "cell_type": "code",
   "execution_count": 31,
   "metadata": {},
   "outputs": [
    {
     "data": {
      "text/plain": [
       "<matplotlib.axes._subplots.AxesSubplot at 0x2338829f948>"
      ]
     },
     "execution_count": 31,
     "metadata": {},
     "output_type": "execute_result"
    },
    {
     "data": {
      "image/png": "[encoded data removed]",
      "text/plain": [
       "<Figure size 432x288 with 1 Axes>"
      ]
     },
     "metadata": {
      "needs_background": "light"
     },
     "output_type": "display_data"
    }
   ],
   "source": [
    "fatal.Percentage.hist(bins=20, alpha=0.5)"
   ]
  },
  {
   "cell_type": "code",
   "execution_count": 32,
   "metadata": {},
   "outputs": [
    {
     "name": "stdout",
     "output_type": "stream",
     "text": [
      "                                       Fatal_N  Fatal_Y  Percentage\n",
      " TONGA                                     1.0      2.0   66.666667\n",
      "ADMIRALTY ISLANDS                          1.0      0.0    0.000000\n",
      "ANGOLA                                     1.0      0.0    0.000000\n",
      "ANTIGUA                                    1.0      0.0    0.000000\n",
      "ARGENTINA                                  1.0      0.0    0.000000\n",
      "ASIA?                                      1.0      0.0    0.000000\n",
      "ATLANTIC OCEAN                             8.0      7.0   46.666667\n",
      "AUSTRALIA                                924.0    342.0   27.014218\n",
      "AZORES                                     5.0      0.0    0.000000\n",
      "BAHAMAS                                   89.0     12.0   11.881188\n",
      "BARBADOS                                   2.0      4.0   66.666667\n",
      "BELIZE                                     1.0      2.0   66.666667\n",
      "BERMUDA                                   12.0      3.0   20.000000\n",
      "BRAZIL                                    61.0     40.0   39.603960\n",
      "BRITISH ISLES                              1.0      0.0    0.000000\n",
      "BRITISH NEW GUINEA                         1.0      0.0    0.000000\n",
      "BRITISH WEST INDIES                        1.0      0.0    0.000000\n",
      "BURMA                                      1.0      3.0   75.000000\n",
      "CANADA                                     8.0      2.0   20.000000\n",
      "CAPE VERDE                                 1.0      2.0   66.666667\n",
      "CARIBBEAN SEA                              3.0      5.0   62.500000\n",
      "CAYMAN ISLANDS                             2.0      0.0    0.000000\n",
      "CENTRAL PACIFIC                            1.0      1.0   50.000000\n",
      "CHILE                                      4.0      4.0   50.000000\n",
      "CHINA                                      3.0      3.0   50.000000\n",
      "COLUMBIA                                   7.0      2.0   22.222222\n",
      "COSTA RICA                                 4.0      8.0   66.666667\n",
      "CROATIA                                   12.0     18.0   60.000000\n",
      "CUBA                                      17.0     24.0   58.536585\n",
      "CURACAO                                    1.0      0.0    0.000000\n",
      "DOMINICAN REPUBLIC                         2.0      4.0   66.666667\n",
      "ECUADOR                                    8.0      0.0    0.000000\n",
      "EGYPT                                     21.0     13.0   38.235294\n",
      "EGYPT                                      2.0      0.0    0.000000\n",
      "EGYPT / ISRAEL                             1.0      0.0    0.000000\n",
      "EL SALVADOR                                2.0      2.0   50.000000\n",
      "ENGLAND                                   16.0      3.0   15.789474\n",
      "England                                    1.0      0.0    0.000000\n",
      "FALKLAND ISLANDS                           1.0      0.0    0.000000\n",
      "FEDERATED STATES OF MICRONESIA             1.0      0.0    0.000000\n",
      "FIJI                                      39.0     22.0   36.065574\n",
      "FRANCE                                     8.0      3.0   27.272727\n",
      "FRENCH POLYNESIA                          20.0      2.0    9.090909\n",
      "Fiji                                       1.0      2.0   66.666667\n",
      "GEORGIA                                    1.0      0.0    0.000000\n",
      "GRAND CAYMAN                               1.0      0.0    0.000000\n",
      "GREECE                                     9.0     15.0   62.500000\n",
      "GRENADA                                    1.0      3.0   75.000000\n",
      "GUAM                                       2.0      2.0   50.000000\n",
      "GUYANA                                     1.0      0.0    0.000000\n",
      "HAITI                                      2.0      1.0   33.333333\n",
      "HONDURAS                                   1.0      2.0   66.666667\n",
      "HONG KONG                                  7.0     17.0   70.833333\n",
      "ICELAND                                    1.0      0.0    0.000000\n",
      "INDIA                                     13.0     19.0   59.375000\n",
      "INDIAN OCEAN                               2.0      5.0   71.428571\n",
      "INDONESIA                                  7.0     14.0   66.666667\n",
      "IRAN                                      16.0     13.0   44.827586\n",
      "IRAN / IRAQ                                1.0      0.0    0.000000\n",
      "IRAQ                                       9.0      3.0   25.000000\n",
      "ISRAEL                                     5.0      0.0    0.000000\n",
      "ITALY                                     47.0     18.0   27.692308\n",
      "ITALY / CROATIA                            1.0      0.0    0.000000\n",
      "JAMAICA                                   10.0     14.0   58.333333\n",
      "JAPAN                                     18.0     14.0   43.750000\n",
      "JOHNSTON ISLAND                            2.0      0.0    0.000000\n",
      "KENYA                                      4.0      6.0   60.000000\n",
      "KIRIBATI                                   2.0      4.0   66.666667\n",
      "KUWAIT                                     1.0      0.0    0.000000\n",
      "LEBANON                                    1.0      2.0   66.666667\n",
      "LIBYA                                      3.0      2.0   40.000000\n",
      "MADAGASCAR                                 3.0      4.0   57.142857\n",
      "MALAYSIA                                   3.0      1.0   25.000000\n",
      "MALTA                                      2.0      3.0   60.000000\n",
      "MARSHALL ISLANDS                          11.0      2.0   15.384615\n",
      "MARTINIQUE                                 1.0      0.0    0.000000\n",
      "MAURITIUS                                  5.0      2.0   28.571429\n",
      "MEDITERRANEAN SEA                          1.0      1.0   50.000000\n",
      "MEXICO                                    39.0     44.0   53.012048\n",
      "MEXICO                                     1.0      0.0    0.000000\n",
      "MICRONESIA                                 3.0      0.0    0.000000\n",
      "MID ATLANTIC OCEAN                         3.0      2.0   40.000000\n",
      "MID-PACIFC OCEAN                           1.0      0.0    0.000000\n",
      "MONTENEGRO                                 1.0      2.0   66.666667\n",
      "MOZAMBIQUE                                24.0     20.0   45.454545\n",
      "NAMIBIA                                    1.0      1.0   50.000000\n",
      "NETHERLANDS ANTILLES                       1.0      0.0    0.000000\n",
      "NEW BRITAIN                                2.0      4.0   66.666667\n",
      "NEW CALEDONIA                             32.0     19.0   37.254902\n",
      "NEW GUINEA                                 3.0      6.0   66.666667\n",
      "NEW ZEALAND                               95.0     28.0   22.764228\n",
      "NICARAGUA                                  1.0      5.0   83.333333\n",
      "NICARAGUA                                  1.0      0.0    0.000000\n",
      "NIGERIA                                    1.0      3.0   75.000000\n",
      "NORTH ATLANTIC OCEAN                       4.0      0.0    0.000000\n",
      "NORTH ATLANTIC OCEAN                       1.0      0.0    0.000000\n",
      "NORTH PACIFIC OCEAN                        5.0      2.0   28.571429\n",
      "NORTH SEA                                  1.0      0.0    0.000000\n",
      "NORTHERN ARABIAN SEA                       1.0      0.0    0.000000\n",
      "NORTHERN MARIANA ISLANDS                   1.0      0.0    0.000000\n",
      "NORWAY                                     1.0      0.0    0.000000\n",
      "OCEAN                                      1.0      0.0    0.000000\n",
      "OKINAWA                                    2.0      4.0   66.666667\n",
      "PACIFIC OCEAN                              9.0      8.0   47.058824\n",
      "PACIFIC OCEAN                              2.0      0.0    0.000000\n",
      "PALAU                                      5.0      0.0    0.000000\n",
      "PALESTINIAN TERRITORIES                    1.0      0.0    0.000000\n",
      "PANAMA                                    13.0     19.0   59.375000\n",
      "PAPUA NEW GUINEA                          74.0     56.0   43.076923\n",
      "PERSIAN GULF                               3.0      1.0   25.000000\n",
      "PHILIPPINES                               20.0     37.0   64.912281\n",
      "PORTUGAL                                   1.0      2.0   66.666667\n",
      "PUERTO RICO                                1.0      0.0    0.000000\n",
      "RED SEA                                    1.0      0.0    0.000000\n",
      "RED SEA?                                   1.0      0.0    0.000000\n",
      "REUNION                                   30.0     29.0   49.152542\n",
      "RUSSIA                                     4.0      0.0    0.000000\n",
      "SAMOA                                      6.0      1.0   14.285714\n",
      "SAUDI ARABIA                               4.0      1.0   20.000000\n",
      "SCOTLAND                                   8.0      0.0    0.000000\n",
      "SENEGAL                                    6.0      4.0   40.000000\n",
      "SEYCHELLES                                 2.0      5.0   71.428571\n",
      "SIERRA LEONE                               4.0      4.0   50.000000\n",
      "SINGAPORE                                  2.0      4.0   66.666667\n",
      "SLOVENIA                                   1.0      0.0    0.000000\n",
      "SOLOMON ISLANDS                           16.0     12.0   42.857143\n",
      "SOMALIA                                    1.0      5.0   83.333333\n",
      "SOUTH AFRICA                             427.0    137.0   24.290780\n",
      "SOUTH ATLANTIC OCEAN                       8.0      4.0   33.333333\n",
      "SOUTH CHINA SEA                            1.0      0.0    0.000000\n",
      "SOUTH KOREA                                2.0      6.0   75.000000\n",
      "SOUTHWEST PACIFIC OCEAN                    1.0      1.0   50.000000\n",
      "SPAIN                                     29.0      9.0   23.684211\n",
      "SRI LANKA                                 11.0      3.0   21.428571\n",
      "ST HELENA, British overseas territory      1.0      0.0    0.000000\n",
      "ST. MAARTIN                                1.0      0.0    0.000000\n",
      "ST. MARTIN                                 1.0      0.0    0.000000\n",
      "SUDAN                                      3.0      1.0   25.000000\n",
      "SUDAN?                                     1.0      0.0    0.000000\n",
      "TAIWAN                                     6.0      3.0   33.333333\n",
      "TANZANIA                                   2.0      6.0   75.000000\n",
      "TASMAN SEA                                 1.0      0.0    0.000000\n",
      "THAILAND                                   2.0      3.0   60.000000\n",
      "TONGA                                     11.0      4.0   26.666667\n",
      "TRINIDAD & TOBAGO                          2.0      1.0   33.333333\n",
      "TUNISIA                                    1.0      1.0   50.000000\n",
      "TURKEY                                     8.0      3.0   27.272727\n",
      "TURKS & CAICOS                             3.0      2.0   40.000000\n",
      "UNITED ARAB EMIRATES                       2.0      0.0    0.000000\n",
      "UNITED ARAB EMIRATES (UAE)                 2.0      0.0    0.000000\n",
      "UNITED KINGDOM                             9.0      2.0   18.181818\n",
      "URUGUAY                                    2.0      1.0   33.333333\n",
      "USA                                     1879.0    250.0   11.742602\n",
      "VANUATU                                    4.0      9.0   69.230769\n",
      "VENEZUELA                                  6.0      5.0   45.454545\n",
      "VIETNAM                                   13.0      1.0    7.142857\n",
      "YEMEN                                      1.0      5.0   83.333333\n",
      " PHILIPPINES                               0.0      1.0  100.000000\n",
      "ALGERIA                                    0.0      1.0  100.000000\n",
      "AMERICAN SAMOA                             0.0      3.0  100.000000\n",
      "ANDAMAN / NICOBAR ISLANDAS                 0.0      1.0  100.000000\n",
      "ARUBA                                      0.0      1.0  100.000000\n",
      "BAHREIN                                    0.0      1.0  100.000000\n",
      "BANGLADESH                                 0.0      1.0  100.000000\n",
      "BAY OF BENGAL                              0.0      1.0  100.000000\n",
      "BRITISH VIRGIN ISLANDS                     0.0      1.0  100.000000\n",
      "Between PORTUGAL & INDIA                   0.0      1.0  100.000000\n",
      "CEYLON (SRI LANKA)                         0.0      1.0  100.000000\n",
      "COOK ISLANDS                               0.0      1.0  100.000000\n",
      "CRETE                                      0.0      1.0  100.000000\n",
      "CYPRUS                                     0.0      1.0  100.000000\n",
      "Coast of AFRICA                            0.0      1.0  100.000000\n",
      "DIEGO GARCIA                               0.0      1.0  100.000000\n",
      "DJIBOUTI                                   0.0      1.0  100.000000\n",
      "EQUATORIAL GUINEA / CAMEROON               0.0      1.0  100.000000\n",
      "GABON                                      0.0      1.0  100.000000\n",
      "GHANA                                      0.0      1.0  100.000000\n",
      "GREENLAND                                  0.0      1.0  100.000000\n",
      "GUATEMALA                                  0.0      1.0  100.000000\n",
      "GUINEA                                     0.0      3.0  100.000000\n",
      "GULF OF ADEN                               0.0      1.0  100.000000\n",
      "INDIAN OCEAN?                              0.0      1.0  100.000000\n",
      "IRELAND                                    0.0      1.0  100.000000\n",
      "JAVA                                       0.0      1.0  100.000000\n",
      "KOREA                                      0.0      1.0  100.000000\n",
      "LIBERIA                                    0.0      3.0  100.000000\n",
      "MALDIVE ISLANDS                            0.0      1.0  100.000000\n",
      "MAYOTTE                                    0.0      1.0  100.000000\n",
      "MONACO                                     0.0      1.0  100.000000\n",
      "NEVIS                                      0.0      1.0  100.000000\n",
      "PARAGUAY                                   0.0      1.0  100.000000\n",
      "RED SEA / INDIAN OCEAN                     0.0      1.0  100.000000\n",
      "SAN DOMINGO                                0.0      1.0  100.000000\n",
      "SIERRA LEONE?                              0.0      1.0  100.000000\n",
      "SOLOMON ISLANDS / VANUATU                  0.0      1.0  100.000000\n",
      "SOUTH PACIFIC OCEAN                        0.0      2.0  100.000000\n",
      "SYRIA                                      0.0      1.0  100.000000\n",
      "Seychelles                                 0.0      1.0  100.000000\n",
      "Sierra Leone                               0.0      1.0  100.000000\n",
      "THE BALKANS                                0.0      1.0  100.000000\n",
      "TUVALU                                     0.0      1.0  100.000000\n",
      "WESTERN SAMOA                              0.0      1.0  100.000000\n",
      "YEMEN                                      0.0      2.0  100.000000\n"
     ]
    }
   ],
   "source": [
    "with pd.option_context('display.max_rows', None, 'display.max_columns', None):  # more options can be specified also\n",
    "    print(fatal)"
   ]
  },
  {
   "cell_type": "code",
   "execution_count": null,
   "metadata": {},
   "outputs": [],
   "source": []
  }
 ],
 "metadata": {
  "kernelspec": {
   "display_name": "Python 3",
   "language": "python",
   "name": "python3"
  },
  "language_info": {
   "codemirror_mode": {
    "name": "ipython",
    "version": 3
   },
   "file_extension": ".py",
   "mimetype": "text/x-python",
   "name": "python",
   "nbconvert_exporter": "python",
   "pygments_lexer": "ipython3",
   "version": "3.7.4"
  }
 },
 "nbformat": 4,
 "nbformat_minor": 4
}
