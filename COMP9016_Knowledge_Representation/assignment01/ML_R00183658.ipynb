{
 "cells": [
  {
   "cell_type": "markdown",
   "metadata": {},
   "source": [
    "# COMP9016 Assignment #1 (Winter 2019)\n",
    "## 1 KNOWLEDGE REPRESENTATION\n",
    "\n",
    "`NOTE:` Copied from Assignment for reference.\n",
    "\n",
    "The purpose of this assignment is to assess the following learning outcomes:\n",
    "Learning Outcomes\n",
    "- LO1 Appraise domain specific formalisms used in knowledge representation schemes.\n",
    "- LO2 Compare and contrast current knowledge representation approaches integrated in systems relevant to AI.\n",
    "- LO3 Select, apply and evaluate a knowledge representation scheme for a specified domain."
   ]
  },
  {
   "cell_type": "markdown",
   "metadata": {},
   "source": [
    "<br>\n",
    "\n",
    "![](./ML_R00183658_EXTRA_DIR/R00183658_reading.png)\n",
    "\n",
    "**Important:**  \n",
    "This notebook assumes the folder structure from tha latest assignment document.\n",
    "\n",
    "- aima-python\n",
    "  - AssignmentOneSubmissions\n",
    "    - ML_R00183658\n",
    "      - ML_R001858.ipynb\n",
    "      - ML_R001858_EXTRA_DIR"
   ]
  },
  {
   "cell_type": "code",
   "execution_count": 1,
   "metadata": {},
   "outputs": [],
   "source": [
    "import sys\n",
    "sys.path.append('../..')\n",
    "import numpy as np\n",
    "import matplotlib\n",
    "import matplotlib.pyplot as plt\n",
    "import random\n",
    "\n",
    "from search import *\n",
    "from agents import *\n",
    "from logic import *\n",
    "\n",
    "SIZE = 5"
   ]
  },
  {
   "cell_type": "markdown",
   "metadata": {},
   "source": [
    "---\n",
    "---\n",
    "\n",
    "## 1.1 BUILDING YOUR WORLD\n",
    "\n",
    "`NOTE:` Copied from Assignment for reference.\n",
    "\n",
    "Create a 2-dimensional world that will play host to a game to be played by agents. Provide  \n",
    "context for the mechanics of the world and the conditions under which the game is complete.  \n",
    "The intent of this exercise is for you to demonstrate your understanding of how a problem  \n",
    "can be modeled abstractly. To this end, implement three different agents, providing a PEAS  \n",
    "description of each and a rationale for their inclusion.  \n",
    "\n",
    "- Critique the advantages and disadvantages of each agent type.\n",
    "- Demonstrate each agents ability to perform or under-perform in the 2-dimensional world.\n",
    "- Discuss, and evaluate, howthe agent would or would not-performin worlds of different sizes.\n",
    "  \n",
    "<br>\n",
    "\n",
    "The game should be implemented in Python, you may use any of the libraries made available  \n",
    "from the AIMA python repository but they must be clearly referenced. The specification for  \n",
    "the Agent, Environment, and Program to enable the game to run must be included. All code  \n",
    "should be in a single python file.  \n",
    "Write a clear and concise description of the agent-based game. The purpose of this is to  \n",
    "articulate an understanding of the underlying concepts being implemented both from a  \n",
    "theoretical and practical perspective.  "
   ]
  },
  {
   "cell_type": "markdown",
   "metadata": {},
   "source": [
    "<br>\n",
    "\n",
    "![](./ML_R00183658_EXTRA_DIR/R00183658_reading.png)\n",
    "\n",
    "### Game Overview\n",
    "The implemented game lets a `Sheep` (agent) roam around a `Field` (2D environment).  \n",
    "The `Field` contains other things like `Grass` and electric `Fence`s.  \n",
    "The game's objective is having the sheep to find and eat all grass there is on the field.  \n",
    "At the same time it should avoid the electric fence.  \n",
    "<br>\n",
    "**General game rules:**  \n",
    "- Eating grass increases the sheep's performance. (+100)  \n",
    "- Hitting the eletrictric fence penalizes the sheep's performance. (-10)  \n",
    "- Roaming around also slightly decreases the sheep's performance. (-1)   \n",
    "- Game ends when all grass is eaten, or sheep performance reaches 0 (dead sheep).\n",
    "\n",
    "<br>\n",
    "\n",
    "**Graphical representation:**\n",
    "\n",
    "!['sheep-field'](./ML_R00183658_EXTRA_DIR/R00183658-sheep-field.png)\n",
    "\n",
    "\n",
    "### Agent\n",
    "The `Sheep` class acts as agent instance within the game. It is based of the AIMA `Agent` class as such inherits all its capabilities.  \n",
    "The `Sheep` has been enhanced with a `tracker` and `performance_history` for visualization purposes.  \n",
    "The same class is used for all agent types, but not all agent types use all components, e.g. the Simplex Agent does not use the model.  \n",
    "According to the game dynamics the sheep can `eat` Grass and experience `shock` by a Fence.\n",
    "\n",
    "According the literature, an agent receives percepts from the environemnt through its sensors and acts with actions (through actuators where available).  \n",
    "For each agent type a special `agent program` implements the mapping from environment percepts to agent actions.\n",
    "\n",
    "\n",
    "### Environment\n",
    "The `Field` class acts as the environment for the game. It is based of the AIMA `Environment` class as such inherits all its capabilities.  \n",
    "The code cell below shows any Environment function that was **implemented** or **altered** from the parent class.\n",
    "\n",
    "- An agent is placed into the field with an initial performance of 100.\n",
    "- The game `is_done` when all grass is gone or no agent is alive.\n",
    "- Each step in the game is a penalty of -1 on the agent's performance.\n",
    "- Upon action `eat` the agent gets rewarded with a +100 performance boost\n",
    "- Upon action `shock` the agent gets penalized with -10 performance degradation. The shock will also place the agent back into the previous loaction.\n",
    "- The `force_shock` switch was implemented to demonstrate how a random agent would perform (i.e. the environment is simulation the missing percept).\n",
    "\n",
    "The target environment is:\n",
    "- partially observable\n",
    "- single agent\n",
    "- deterministic\n",
    "- sequential\n",
    "- static\n",
    "- discret\n",
    "\n",
    "\n",
    "### Things\n",
    "`Grass` and `Fence` are based of AIMA class `Thing`. They represent game components the agent has to interact with.\n",
    "\n",
    "\n",
    "### PEAS\n",
    "Here I describe the overall PEAS model of the agent/environment interaction.\n",
    "\n",
    "**P**erformance:\n",
    "- Performance/health counter. Initially set to 100.\n",
    "- Agent has to find all Grass locations with its performance budget.\n",
    "- Game over when sheep runs out of performance or all grass has been eaten.\n",
    "- Higher agent health = higher agent performance in completing the game.\n",
    "\n",
    "**E**nvironment:\n",
    "- 2d world (NxN)\n",
    "- 1 agent, x fence, y grass\n",
    "\n",
    "**A**ctuators:\n",
    "- 'feet' to move: `up`, `down`, `left`, `right`\n",
    "- 'mouth' to `eat` grass\n",
    "\n",
    "**S**ensors:\n",
    "- 'nose' to smell `Grass`\n",
    "- 'skin' to feel `Fence`\n",
    "\n",
    "<br>"
   ]
  },
  {
   "cell_type": "code",
   "execution_count": 2,
   "metadata": {},
   "outputs": [],
   "source": [
    "class Grass(Thing):\n",
    "    pass\n",
    "\n",
    "class Fence(Thing):\n",
    "    pass\n",
    "\n",
    "class Model:\n",
    "    def __init__(self):\n",
    "        self.model = {}\n",
    "        self.model['WorldSize'] = SIZE\n",
    "        self.model['painful_states'] = []\n",
    "        self.model['boring_states'] = []\n",
    "        \n",
    "class Sheep(Agent):\n",
    "    def __init__(self, program=None, agent_type=None):\n",
    "        super().__init__(program)\n",
    "        self.tracker = []\n",
    "        self.model = Model()\n",
    "        self.agent_type = agent_type\n",
    "        self.performance_history = []\n",
    "        \n",
    "    def get_location(self):\n",
    "        return self.location\n",
    "    \n",
    "    def track(self):\n",
    "        self.tracker.append(self.location)\n",
    "    \n",
    "    def eat(self, thing):\n",
    "        ''' returns True upon success or False otherwise'''\n",
    "        if isinstance(thing, Grass):\n",
    "            return True\n",
    "        return False\n",
    "    \n",
    "    def shock(self, thing):\n",
    "        ''' returns True upon success or False otherwise'''\n",
    "        if isinstance(thing, Fence):\n",
    "            return True\n",
    "        return False\n",
    "\n",
    "class Field(Environment):\n",
    "    def __init__(self, size, force_shock=False):\n",
    "        super().__init__()\n",
    "        self.size = size\n",
    "        self.force_shock = force_shock\n",
    "        \n",
    "    def percept(self, agent):\n",
    "        '''return a list of things that are in our agent's location'''\n",
    "        things = self.list_things_at(agent.location)\n",
    "        return (agent.location, things)\n",
    "\n",
    "    def execute_action(self, agent, action):\n",
    "        \"\"\"Change the world to reflect this action. (Implement this.)\"\"\"\n",
    "        if self.force_shock:\n",
    "            if self.list_things_at(agent.location, tclass=Fence):\n",
    "                agent.performance -=10\n",
    "        \n",
    "        if action in ['up', 'down', 'left', 'right']:\n",
    "            agent.location = self.move_agent(agent, action)\n",
    "        elif action == \"eat\":\n",
    "            items = self.list_things_at(agent.location, tclass=Grass)\n",
    "            if len(items) != 0:\n",
    "                if agent.eat(items[0]):\n",
    "                    agent.performance += 100\n",
    "                    #print(' > {} ate {} at location {}'\n",
    "                    #      .format(str(agent)[1:-1], str(items[0])[1:-1], agent.location))\n",
    "                    self.delete_thing(items[0])\n",
    "        elif action == \"shock\":\n",
    "            items = self.list_things_at(agent.location, tclass=Fence)\n",
    "            if len(items) != 0:\n",
    "                if agent.shock(items[0]):\n",
    "                    #agent.shock(items[0])\n",
    "                    agent.performance -=10\n",
    "                    agent.location = agent.tracker[-2]\n",
    "        \n",
    "        self.agent_tick(agent)\n",
    "\n",
    "    def agent_tick(self, agent):\n",
    "        agent.performance -= 1\n",
    "        if agent.performance <= 0:\n",
    "            agent.performance = 0\n",
    "            agent.alive = False\n",
    "        agent.performance_history.append(agent.performance)\n",
    "\n",
    "    def has_grass(self):\n",
    "        has_grass = False\n",
    "        for item in self.things:\n",
    "            if isinstance(item, Grass):\n",
    "                has_grass = True\n",
    "        return has_grass\n",
    "        \n",
    "    def is_done(self):\n",
    "        \"\"\"By default, we're done when we can't find a live agent.\"\"\"\n",
    "        return not any(agent.is_alive() for agent in self.agents) or not(self.has_grass())\n",
    "\n",
    "    def step(self):\n",
    "        \"\"\"Run the environment for one time step. If the\n",
    "        actions and exogenous changes are independent, this method will\n",
    "        do. If there are interactions between them, you'll need to\n",
    "        override this method.\"\"\"\n",
    "        if not self.is_done():\n",
    "            actions = []\n",
    "            for agent in self.agents:\n",
    "                if agent.alive:\n",
    "                    agent.track()\n",
    "                    if agent.agent_type == 'model':\n",
    "                        actions.append(agent.program(self.percept(agent), agent.model))\n",
    "                    elif agent.agent_type == 'goal':\n",
    "                        actions.append(agent.program(self.percept(agent), agent.model, agent.performance))\n",
    "                    else:\n",
    "                        actions.append(agent.program(self.percept(agent)))\n",
    "                else:\n",
    "                    actions.append(\"\")\n",
    "            for (agent, action) in zip(self.agents, actions):\n",
    "                self.execute_action(agent, action)\n",
    "            self.exogenous_change()\n",
    "            \n",
    "    def add_thing(self, thing, location=None):\n",
    "        \"\"\"Add a thing to the environment, setting its location. For\n",
    "        convenience, if thing is an agent program we make a new agent\n",
    "        for it. (Shouldn't need to override this.)\"\"\"\n",
    "        if not isinstance(thing, Thing):\n",
    "            thing = Sheep(thing)\n",
    "        if thing in self.things:\n",
    "            print(\"Can't add the same thing twice\")\n",
    "        else:\n",
    "            thing.location = location if location is not None else self.default_location(thing)\n",
    "            self.things.append(thing)\n",
    "            if isinstance(thing, Agent):\n",
    "                thing.performance = 100\n",
    "                self.agents.append(thing)\n",
    "\n",
    "    def move_agent(self, agent, action):\n",
    "        x, y = agent.location[0], agent.location[1]\n",
    "        if action == 'up':\n",
    "            if (x - 1) > 0: x -= 1\n",
    "        elif action == 'down':\n",
    "            if (x + 1) <= self.size: x += 1\n",
    "        elif action == 'left':\n",
    "            if (y - 1) > 0: y -= 1\n",
    "        elif action == 'right':\n",
    "            if (y + 1) <= self.size: y += 1\n",
    "        \n",
    "        return [x, y]"
   ]
  },
  {
   "cell_type": "markdown",
   "metadata": {},
   "source": [
    "<br>\n",
    "\n",
    "![](./ML_R00183658_EXTRA_DIR/R00183658_reading.png)\n",
    "\n",
    "### Playing and visualization helper functions\n",
    "\n",
    "Below you find a few helper functions to run the game and to visualize the agent's success in the environment.  \n",
    "`_1play`: This method plays the game with a fixed setup to allow comparison between different agent types.  \n",
    "`_1000plays`: This method plays the fixed `_1play` scenario 1000 times to allow comparison between different agent types and identification of agent behaviour patterns.  \n",
    "`_1play_random`: To demonstrate the different agents can play a random world too. The method places 1 agent and for any other field either Grass or Fence with 20% probability.  \n",
    "`AgentHeatMap`: Visualize how often an agent visited a certain location of the field and performance history."
   ]
  },
  {
   "cell_type": "code",
   "execution_count": 3,
   "metadata": {},
   "outputs": [],
   "source": [
    "def AgentHeatMap(size, tracker, agent=None, random_game=None):\n",
    "    map = np.zeros((size, size))\n",
    "    for location in tracker:\n",
    "        x, y = location[0]-1, location[1]-1\n",
    "        map[x][y] +=1\n",
    "        \n",
    "    if not agent:\n",
    "        #fig, ax = plt.subplots()\n",
    "        fig, ax1 = plt.subplots(nrows=1, ncols=1, figsize=(5,5))\n",
    "\n",
    "        im = ax1.imshow(map)\n",
    "        # Loop over data dimensions and create text annotations.\n",
    "        for i in range(size):\n",
    "            for j in range(size):\n",
    "                text = ax1.text(j, i, map[i, j], ha=\"center\", va=\"center\", color=\"w\")\n",
    "        \n",
    "        ax1.set_title('Agent/Env heatmap')        \n",
    "        ax1.set_xlabel('x')\n",
    "        ax1.set_ylabel('y')\n",
    "    \n",
    "    if agent:\n",
    "        fig, [ax1, ax2] = plt.subplots(nrows=1, ncols=2, figsize=(10,5))\n",
    "\n",
    "        im = ax1.imshow(map)\n",
    "        # Loop over data dimensions and create text annotations.\n",
    "        for i in range(size):\n",
    "            for j in range(size):\n",
    "                text = ax1.text(j, i, map[i, j], ha=\"center\", va=\"center\", color=\"w\")\n",
    "        \n",
    "        ax2.plot(agent.performance_history)\n",
    "        \n",
    "        ax1.set_title('Agent/Env heatmap')        \n",
    "        ax1.set_xlabel('x')\n",
    "        ax1.set_ylabel('y')\n",
    "        ax2.set_title('Agent Performance History')\n",
    "        ax2.set_xlabel('Step')\n",
    "        ax2.set_ylabel('Performance')\n",
    "        \n",
    "    plt.show()\n",
    "    \n",
    "    if not random_game:\n",
    "        steps_on_fence = map[0][2] + map[1][2] + map[2][2]\n",
    "        print('\\nSheep spent {} steps on electric fence.\\n'.format(steps_on_fence))\n",
    "\n",
    "def _1play(agent, size=SIZE, force_shock=False):\n",
    "    field = Field(size=size, force_shock=force_shock)\n",
    "    field.add_thing(agent, [1,1])\n",
    "    field.add_thing(Grass(), [1,4])\n",
    "    field.add_thing(Grass(), [1,5])\n",
    "    field.add_thing(Grass(), [2,4])\n",
    "    field.add_thing(Grass(), [2,5])\n",
    "    field.add_thing(Fence(), [1,3])\n",
    "    field.add_thing(Fence(), [2,3])\n",
    "    field.add_thing(Fence(), [3,3])\n",
    "    field.run()\n",
    "\n",
    "def _1play_random(agent, size, force_shock=False):\n",
    "    field = Field(size=size, force_shock=force_shock)\n",
    "    \n",
    "    agent_placed = False\n",
    "    \n",
    "    for x in range(1, size+1):\n",
    "        for y in range(1, size+1):\n",
    "            r = random.uniform(0, 1)\n",
    "            if r < 0.1 and not agent_placed:\n",
    "                field.add_thing(agent, [x,y])\n",
    "                agent_placed = True\n",
    "            elif 0.1 <= r < 0.3:\n",
    "                field.add_thing(Grass(), [x,y])\n",
    "            elif 0.3 <= r < 0.5:\n",
    "                field.add_thing(Fence(), [x,y])\n",
    "    \n",
    "    field.run()\n",
    "    \n",
    "def _1000plays(size=SIZE, agent_type=None, force_shock=False):\n",
    "    _results = []\n",
    "    _performances = []\n",
    "    _success_steps = []\n",
    "    \n",
    "    games=1000\n",
    "    \n",
    "    for i in range(games):\n",
    "        if agent_type == 'random':\n",
    "            sheep = Sheep(RandomAgentProgram(actions=['up', 'down', 'left', 'right', 'eat']))\n",
    "        elif agent_type == 'simplex':\n",
    "            sheep = Sheep(SimplexAgentProgram)\n",
    "        elif agent_type == 'model':\n",
    "            sheep = Sheep(ModelAgentProgram, agent_type=agent_type)\n",
    "        elif agent_type == 'goal':\n",
    "            sheep = Sheep(GoalModelAgentProgram, agent_type=agent_type)\n",
    "            \n",
    "        _1play(sheep, size=SIZE, force_shock=force_shock)\n",
    "        _results.append(sheep.tracker)\n",
    "        _performances.append(sheep.performance)\n",
    "        \n",
    "        if sheep.performance > 0:\n",
    "            _success_steps.append(len(sheep.tracker))\n",
    "    \n",
    "    success_rate = (len(_performances) - _performances.count(0)) / len(_performances)\n",
    "    success_perf = (list(filter((0).__ne__, _performances)))\n",
    "    game_steps = [len(i) for i in _results]\n",
    "    if success_perf:\n",
    "        avg_perf_on_success = sum(success_perf) / len(success_perf)\n",
    "        avg_step_on_success = sum(_success_steps) / len(_success_steps)\n",
    "        print('\\nAverage  performance when successful:', int(avg_perf_on_success))\n",
    "        print('Average  game length when successful: {} steps'.format(int(avg_step_on_success)))\n",
    "        print('Shortest game length when successful: {} steps'.format(min(_success_steps)))   #game_steps\n",
    "    print('Success rate: {}\\n'.format(success_rate))    \n",
    "    \n",
    "    total_tracker = []\n",
    "    for result in _results:\n",
    "        total_tracker += result\n",
    "    \n",
    "    AgentHeatMap(size=SIZE, tracker=total_tracker)"
   ]
  },
  {
   "cell_type": "markdown",
   "metadata": {},
   "source": [
    "---\n",
    "\n",
    "![](./ML_R00183658_EXTRA_DIR/R00183658_reading.png)\n",
    "\n",
    "### Agents\n",
    "The following agents are demonstrated:\n",
    "- Random Agent\n",
    "- Simple-Reflex Agent\n",
    "- Model-based Reflex Agent\n",
    "- Goal & Model-based Reflect Agent\n",
    "\n",
    "**Pleas note**, that for comparison reasons the agents are first evaluated using the **same static environments** from the graphical  \n",
    "representational above.\n",
    "\n",
    "<br>\n",
    "\n",
    "### Random Agent\n",
    "The Random Agent is the most simplistic agent possible. Its agent program takes a list of actions and randomly chooses one for execution.  \n",
    "Even essential actions like eating in a location with Grass rely on randomness.  \n",
    "This agent type does not consider percepts from the environment and will perform poorly in a hostile environment.  \n",
    "Realistically, the random agent is even inappropriate for solving this environment and will perform even worse in larger worlds.\n",
    "\n",
    "**PEAS:**  \n",
    "The task model has been defined earlier. Here I only present the agent transition model.\n",
    "\n",
    "```\n",
    "Percept: None\n",
    "Action:  chose randomly from available actions => ['up', 'down', 'left', 'right', 'eat']\n",
    "```"
   ]
  },
  {
   "cell_type": "code",
   "execution_count": 4,
   "metadata": {},
   "outputs": [],
   "source": [
    "def RandomAgentProgram(actions):\n",
    "    \"\"\"An agent that chooses an action at random, ignoring all percepts.\n",
    "    \"\"\"\n",
    "    return lambda percept: random.choice(actions)"
   ]
  },
  {
   "cell_type": "markdown",
   "metadata": {},
   "source": [
    "<br>\n",
    "\n",
    "![](./ML_R00183658_EXTRA_DIR/R00183658_reading.png)\n",
    "\n",
    "Run the next cell multiple times for playing the Random Agent."
   ]
  },
  {
   "cell_type": "code",
   "execution_count": 5,
   "metadata": {},
   "outputs": [
    {
     "name": "stdout",
     "output_type": "stream",
     "text": [
      "\n",
      "Game completed in 196 steps.\n",
      "Sheep performance: 304\n",
      "\n"
     ]
    },
    {
     "data": {
      "image/png": "[encoded data removed]",
      "text/plain": [
       "<Figure size 720x360 with 2 Axes>"
      ]
     },
     "metadata": {
      "needs_background": "light"
     },
     "output_type": "display_data"
    },
    {
     "name": "stdout",
     "output_type": "stream",
     "text": [
      "\n",
      "Sheep spent 28.0 steps on electric fence.\n",
      "\n"
     ]
    }
   ],
   "source": [
    "sheep = Sheep(RandomAgentProgram(actions=['up', 'down', 'left', 'right', 'eat']))\n",
    "_1play(sheep, size=SIZE)\n",
    "\n",
    "print('\\nGame completed in {} steps.'.format(len(sheep.tracker)))\n",
    "print('Sheep performance: {}\\n'.format(sheep.performance))\n",
    "\n",
    "AgentHeatMap(size=SIZE, agent=sheep, tracker=sheep.tracker)"
   ]
  },
  {
   "cell_type": "markdown",
   "metadata": {},
   "source": [
    "<br>\n",
    "\n",
    "![](./ML_R00183658_EXTRA_DIR/R00183658_reading.png)\n",
    "\n",
    "**NOTE:**  \n",
    "The lack of perception lets the sheep randomly roam around the environment and eventually eat all grass.  \n",
    "Game completion in reality would be very unrealistic. The sheep would die from too much electricity.\n",
    "\n",
    "<br>\n",
    "\n",
    "Next, let's play the Random Agent 1000 times. Notice how the simulation in lack of perception believes it can successfully  \n",
    "complete **~40-45%** of the games."
   ]
  },
  {
   "cell_type": "code",
   "execution_count": 6,
   "metadata": {},
   "outputs": [
    {
     "name": "stdout",
     "output_type": "stream",
     "text": [
      "\n",
      "Average  performance when successful: 296\n",
      "Average  game length when successful: 203 steps\n",
      "Shortest game length when successful: 23 steps\n",
      "Success rate: 0.428\n",
      "\n"
     ]
    },
    {
     "data": {
      "image/png": "[encoded data removed]",
      "text/plain": [
       "<Figure size 360x360 with 1 Axes>"
      ]
     },
     "metadata": {
      "needs_background": "light"
     },
     "output_type": "display_data"
    },
    {
     "name": "stdout",
     "output_type": "stream",
     "text": [
      "\n",
      "Sheep spent 24805.0 steps on electric fence.\n",
      "\n"
     ]
    }
   ],
   "source": [
    "_1000plays(agent_type='random')"
   ]
  },
  {
   "cell_type": "markdown",
   "metadata": {},
   "source": [
    "<br>\n",
    "\n",
    "![](./ML_R00183658_EXTRA_DIR/R00183658_reading.png)\n",
    "\n",
    "Next, let's simulate the performance under consideration of electrical shocks and the penalty involved.  \n",
    "Notice how the success rate dropped to ~10%.  \n",
    "This is still an unrealistic simulation as the sheep also magically runs through the Fence."
   ]
  },
  {
   "cell_type": "code",
   "execution_count": 7,
   "metadata": {},
   "outputs": [
    {
     "name": "stdout",
     "output_type": "stream",
     "text": [
      "\n",
      "Average  performance when successful: 277\n",
      "Average  game length when successful: 110 steps\n",
      "Shortest game length when successful: 23 steps\n",
      "Success rate: 0.094\n",
      "\n"
     ]
    },
    {
     "data": {
      "image/png": "[encoded data removed]",
      "text/plain": [
       "<Figure size 360x360 with 1 Axes>"
      ]
     },
     "metadata": {
      "needs_background": "light"
     },
     "output_type": "display_data"
    },
    {
     "name": "stdout",
     "output_type": "stream",
     "text": [
      "\n",
      "Sheep spent 9208.0 steps on electric fence.\n",
      "\n"
     ]
    }
   ],
   "source": [
    "_1000plays(agent_type='random', force_shock=True)"
   ]
  },
  {
   "cell_type": "markdown",
   "metadata": {},
   "source": [
    "<br>\n",
    "\n",
    "![](./ML_R00183658_EXTRA_DIR/R00183658_reading.png)\n",
    "\n",
    "**Summary**:  \n",
    "\n",
    "The Random Agent is a pretty poor selection to complete this game, but helped to quickly verify some of the agent & environment interactions."
   ]
  },
  {
   "cell_type": "markdown",
   "metadata": {},
   "source": [
    "---\n",
    "\n",
    "![](./ML_R00183658_EXTRA_DIR/R00183658_reading.png)\n",
    "\n",
    "### Simple-Reflex Agent\n",
    "Unlike the Random Agent, the Simple Reflex Agent considers the actual percepts provided by the environment.  \n",
    "The most notable improvement is that now the sheep is able to **always** eat when it enters a grassy location as it can react on the environments signal.  \n",
    "This will greatly enhance the sheeps performance in completing the game. The sheep will also properly react with a `shock` when hitting a Fence.\n",
    "\n",
    "The move selection from otherwise empty locations is still randomly chosen, which makes this agent also rather unsuitable for larger worlds.\n",
    "\n",
    "**PEAS:**  \n",
    "The task model has been defined earlier. Here I only present the agent transition model.\n",
    "\n",
    "Percept | Action\n",
    "--- | :---:\n",
    "Grass | eat\n",
    "Fence | shock\n",
    "None  | random move ['up', 'down', 'left', 'right']\n"
   ]
  },
  {
   "cell_type": "code",
   "execution_count": 8,
   "metadata": {},
   "outputs": [],
   "source": [
    "def SimplexAgentProgram(percepts):\n",
    "    '''Returns an action based on the Sheep's percepts'''\n",
    "    for p in percepts[1]:      # percept: ([1, 3], [<Sheep>, <Fence>])\n",
    "        if isinstance(p, Grass):\n",
    "            return 'eat'\n",
    "        elif isinstance(p, Fence):\n",
    "            return 'shock'\n",
    "        else:\n",
    "            choice = random.choice((1,2,3,4)) # 1-up, 2-down, 3-left, 4-right\n",
    "    if choice == 1:\n",
    "        return 'up'\n",
    "    elif choice == 2:\n",
    "        return 'down'\n",
    "    elif choice == 3:\n",
    "        return 'left'\n",
    "    elif choice == 4:\n",
    "        return 'right'"
   ]
  },
  {
   "cell_type": "markdown",
   "metadata": {},
   "source": [
    "<br>\n",
    "\n",
    "![](./ML_R00183658_EXTRA_DIR/R00183658_reading.png)\n",
    "\n",
    "Run the next cell multiple times for playing the Simple Reflex Agent. Completing this sample static world still requires a bit of luck."
   ]
  },
  {
   "cell_type": "code",
   "execution_count": 11,
   "metadata": {},
   "outputs": [
    {
     "name": "stdout",
     "output_type": "stream",
     "text": [
      "\n",
      "Game completed in 240 steps.\n",
      "Sheep performance: 0\n",
      "\n"
     ]
    },
    {
     "data": {
      "image/png": "[encoded data removed]",
      "text/plain": [
       "<Figure size 720x360 with 2 Axes>"
      ]
     },
     "metadata": {
      "needs_background": "light"
     },
     "output_type": "display_data"
    },
    {
     "name": "stdout",
     "output_type": "stream",
     "text": [
      "\n",
      "Sheep spent 16.0 steps on electric fence.\n",
      "\n"
     ]
    }
   ],
   "source": [
    "sheep = Sheep(SimplexAgentProgram)\n",
    "_1play(sheep, size=SIZE)\n",
    "\n",
    "print('\\nGame completed in {} steps.'.format(len(sheep.tracker)))\n",
    "print('Sheep performance: {}\\n'.format(sheep.performance))\n",
    "\n",
    "AgentHeatMap(size=SIZE, agent=sheep, tracker=sheep.tracker)"
   ]
  },
  {
   "cell_type": "markdown",
   "metadata": {},
   "source": [
    "<br>\n",
    "\n",
    "![](./ML_R00183658_EXTRA_DIR/R00183658_reading.png)\n",
    "\n",
    "**NOTE:**  \n",
    "Subsequent executions of the _1play show that the sheep often is unable to complete the game. The main cause is running too often  \n",
    "into the electric fence and thereby losing energy required to find a way around the fenced area.\n",
    "\n",
    "<br>\n",
    "\n",
    "Next, let's play the Simple Reflex Agent 1000 times. Notice that with respect to the electric fences, whose location the sheep  \n",
    "can't remember, it is able to complete **~15-19%** of the games. "
   ]
  },
  {
   "cell_type": "code",
   "execution_count": 12,
   "metadata": {},
   "outputs": [
    {
     "name": "stdout",
     "output_type": "stream",
     "text": [
      "\n",
      "Average  performance when successful: 379\n",
      "Average  game length when successful: 77 steps\n",
      "Shortest game length when successful: 26 steps\n",
      "Success rate: 0.178\n",
      "\n"
     ]
    },
    {
     "data": {
      "image/png": "[encoded data removed]",
      "text/plain": [
       "<Figure size 360x360 with 1 Axes>"
      ]
     },
     "metadata": {
      "needs_background": "light"
     },
     "output_type": "display_data"
    },
    {
     "name": "stdout",
     "output_type": "stream",
     "text": [
      "\n",
      "Sheep spent 4746.0 steps on electric fence.\n",
      "\n"
     ]
    }
   ],
   "source": [
    "_1000plays(agent_type='simplex')"
   ]
  },
  {
   "cell_type": "markdown",
   "metadata": {},
   "source": [
    "<br>\n",
    "\n",
    "![](./ML_R00183658_EXTRA_DIR/R00183658_reading.png)\n",
    "\n",
    "**Summary:**\n",
    "\n",
    "The Simple Reflex program allows the agent to make appropriate actions in certain situations, like upon the Grass percept.  \n",
    "This highlights that a proper sensor-actuator mapping has a **positive effect on the agent's performance**.\n",
    "\n",
    "A main weakness is still the fact that the sheep does not remember which state should be avoided, which often causes a  \n",
    "rapid depletion of performance."
   ]
  },
  {
   "cell_type": "markdown",
   "metadata": {},
   "source": [
    "---\n",
    "\n",
    "![](./ML_R00183658_EXTRA_DIR/R00183658_reading.png)\n",
    "\n",
    "### Model-based Agent\n",
    "\n",
    "Now the Model-based agent will be used to further improve the agent's performance. This agent type keeps state of the world that  \n",
    "currently is not observable and guides the agent's decision making process.\n",
    "\n",
    "Using the Model class the sheep tracks either `borings_states` or `painful_states`.   \n",
    "\n",
    "`painful_states` represent locations where the sheep experienced a shock. For future actions the sheep wants to avoid these at any price.  \n",
    "`borings_states` represent locations with no special percept. Knowing about these low-value/low-utility locations the sheep can optimize  \n",
    "its decisions, e.g. avoid a boring state when other actions can lead the agent to yet unexplored locations. The sheep still randomly chooses  \n",
    "from boring_states, if all potential next states already have been explored to avoid the sheep getting stuck.\n",
    "\n",
    "Giving the agent a memory to track state of the world and especially record locations it has visited before can greatly enhance an agent's  \n",
    "capability to survive in larger environments, because it is less likely to loop around in visited states as long as unexplored successor  \n",
    "states/locations exist on the map.\n",
    "\n",
    "**PEAS:**  \n",
    "The task model has been defined earlier. Here I only present the agent transition model.\n",
    "\n",
    "Percept | Action | Model\n",
    "--- | :---: | :---:\n",
    "Grass | eat | None\n",
    "Fence | shock | Add location to painful_states \n",
    "None  | Typically random move ['up', 'down', 'left', 'right'] <p><p> Model: <br> 1. Avoid to action that lead to known painful_state <br> 2. Prefer unkown locations over boring_states | Add location to boring_states"
   ]
  },
  {
   "cell_type": "code",
   "execution_count": 13,
   "metadata": {},
   "outputs": [],
   "source": [
    "def ModelAgentProgram(percept, model):\n",
    "    def rule_match(model, location):\n",
    "        result = []\n",
    "        boring = []\n",
    "    \n",
    "        for move in ['up', 'down', 'left', 'right']:\n",
    "            new_location = location.copy()\n",
    "            if move == 'up':\n",
    "                new_location[0] -= 1\n",
    "            if move == 'down':\n",
    "                new_location[0] += 1\n",
    "            if move == 'left':\n",
    "                new_location[1] -= 1\n",
    "            if move == 'right':\n",
    "                new_location[1] += 1\n",
    "            \n",
    "            if is_allowed_location(new_location):\n",
    "                if new_location not in model.model['painful_states']:\n",
    "                    if new_location in model.model['boring_states']:\n",
    "                        boring.append(move)\n",
    "                        if random.random() > 0.8:\n",
    "                            result.append(move)\n",
    "                    else:\n",
    "                        result.append(move)\n",
    "\n",
    "        #\n",
    "        # If all new_locations are painful or boring, then consider boring states\n",
    "        #\n",
    "        if len(result) == 0:\n",
    "            result = boring.copy()\n",
    "        \n",
    "        return result\n",
    "    \n",
    "    def is_allowed_location(location):\n",
    "        return (1 <= location[0] <= SIZE) and (1 <= location[1] <= SIZE)\n",
    "\n",
    "    location, status = percept\n",
    "    \n",
    "    ## Update state/model here\n",
    "    for p in status:      # percept: ([1, 3], [<Sheep>, <Fence>])\n",
    "        if isinstance(p, Grass):\n",
    "            return 'eat'\n",
    "        elif isinstance(p, Fence):\n",
    "            if location not in model.model['painful_states']:\n",
    "                model.model['painful_states'].append(location)\n",
    "            return 'shock'\n",
    "        else:\n",
    "            if location not in model.model['boring_states']:\n",
    "                model.model['boring_states'].append(location)\n",
    "\n",
    "    possible_choises = rule_match(model, location)      \n",
    "    choice = random.choice(range(len(possible_choises)))\n",
    "    return possible_choises[choice]"
   ]
  },
  {
   "cell_type": "markdown",
   "metadata": {},
   "source": [
    "<br>\n",
    "\n",
    "![](./ML_R00183658_EXTRA_DIR/R00183658_reading.png)\n",
    "\n",
    "Run the next cell multiple times for playing the Model based Agent.  \n",
    "Notice how the sheep enters each well-known Fence location at most once (2,0  2,1  2,2). While playing note how often show sheep completes the game."
   ]
  },
  {
   "cell_type": "code",
   "execution_count": 14,
   "metadata": {},
   "outputs": [
    {
     "name": "stdout",
     "output_type": "stream",
     "text": [
      "\n",
      "Game completed in 30 steps.\n",
      "Sheep performance: 460\n",
      "\n"
     ]
    },
    {
     "data": {
      "image/png": "[encoded data removed]",
      "text/plain": [
       "<Figure size 720x360 with 2 Axes>"
      ]
     },
     "metadata": {
      "needs_background": "light"
     },
     "output_type": "display_data"
    },
    {
     "name": "stdout",
     "output_type": "stream",
     "text": [
      "\n",
      "Sheep spent 1.0 steps on electric fence.\n",
      "\n"
     ]
    }
   ],
   "source": [
    "sheep = Sheep(ModelAgentProgram, agent_type='model')\n",
    "_1play(sheep, size=SIZE)\n",
    "\n",
    "print('\\nGame completed in {} steps.'.format(len(sheep.tracker)))\n",
    "print('Sheep performance: {}\\n'.format(sheep.performance))\n",
    "\n",
    "AgentHeatMap(size=SIZE, agent=sheep, tracker=sheep.tracker)"
   ]
  },
  {
   "cell_type": "markdown",
   "metadata": {},
   "source": [
    "<br>\n",
    "\n",
    "![](./ML_R00183658_EXTRA_DIR/R00183658_reading.png)\n",
    "\n",
    "Next, let's play the Model based Agent 1000 times.  \n",
    "Notice that by memorizing painful states and avoiding them for future actions, the sheep completes **~85-88%** of the games.  \n",
    "In addition, the heatmap greatly visualizes how the sheep avoids the locations with electric fences."
   ]
  },
  {
   "cell_type": "code",
   "execution_count": 15,
   "metadata": {},
   "outputs": [
    {
     "name": "stdout",
     "output_type": "stream",
     "text": [
      "\n",
      "Average  performance when successful: 432\n",
      "Average  game length when successful: 44 steps\n",
      "Shortest game length when successful: 15 steps\n",
      "Success rate: 0.873\n",
      "\n"
     ]
    },
    {
     "data": {
      "image/png": "[encoded data removed]",
      "text/plain": [
       "<Figure size 360x360 with 1 Axes>"
      ]
     },
     "metadata": {
      "needs_background": "light"
     },
     "output_type": "display_data"
    },
    {
     "name": "stdout",
     "output_type": "stream",
     "text": [
      "\n",
      "Sheep spent 2351.0 steps on electric fence.\n",
      "\n"
     ]
    }
   ],
   "source": [
    "_1000plays(agent_type='model')"
   ]
  },
  {
   "cell_type": "markdown",
   "metadata": {},
   "source": [
    "---\n",
    "\n",
    "![](./ML_R00183658_EXTRA_DIR/R00183658_reading.png)\n",
    "\n",
    "### Goal-based Agent\n",
    "Now, let's see if the agent performance can be further enhanced by adding goals, i.e. agents interests.  \n",
    "Goal based agents usually have a deeper understanding of the enrvironment that reache beyond the percepts and world model.\n",
    "\n",
    "Based on the Model based agent above I introduced 2 goals into the agent program:\n",
    "- The sheep does not eat if its performance it above the `eat_threshold`. It will feel miserable otherwise and produce nothing but methane.\n",
    "- Move `right` once the sheep's performance drops below the `eat_threshold`. This gives the sheep a boost to re-find the grass on the right side of the field.\n",
    "\n",
    "\n",
    "**PEAS:**  \n",
    "The task model has been defined earlier. Here I only present the agent transition model.\n",
    "\n",
    "Percept | Action | Model\n",
    "--- | :---: | :---:\n",
    "Grass | eat | None\n",
    "Fence | shock | Add location to `painful_states` \n",
    "None  | Typically random move ['up', 'down', 'left', 'right'] <p><p> **Model:** <br> 1. Avoid to action that lead to known `painful_state` <br> 2. Prefer unkown locations over `boring_states` <p><p> **Goal:** <br> 1. Only eat when `eat_threshold` is crossed <br> 2. Prefer move `right` when `eat_threshold` is crossed | Add location to `boring_states`"
   ]
  },
  {
   "cell_type": "code",
   "execution_count": 16,
   "metadata": {},
   "outputs": [],
   "source": [
    "def GoalModelAgentProgram(percept, model, performance):\n",
    "    goals = {\n",
    "        'eat_threshold': 175,\n",
    "        'action': 'right',\n",
    "    }\n",
    "    \n",
    "    def rule_match(model, location):\n",
    "        result = []\n",
    "        boring = []\n",
    "        \n",
    "    \n",
    "        for move in ['up', 'down', 'left', 'right']:\n",
    "            new_location = location.copy()\n",
    "            if move == 'up':\n",
    "                new_location[0] -= 1\n",
    "            if move == 'down':\n",
    "                new_location[0] += 1\n",
    "            if move == 'left':\n",
    "                new_location[1] -= 1\n",
    "            if move == 'right':\n",
    "                new_location[1] += 1\n",
    "            \n",
    "            if is_allowed_location(new_location):\n",
    "                if new_location not in model.model['painful_states']:\n",
    "                    if new_location in model.model['boring_states']:\n",
    "                        boring.append(move)\n",
    "                        if random.random() > 0.8:\n",
    "                            result.append(move)\n",
    "                    else:\n",
    "                        result.append(move)\n",
    "\n",
    "        #\n",
    "        # If all new_locations are painful or boring, then consider boring states\n",
    "        #\n",
    "        if len(result) == 0:\n",
    "            result = boring.copy()\n",
    "        \n",
    "        return result\n",
    "    \n",
    "    def is_allowed_location(location):\n",
    "        return (1 <= location[0] <= SIZE) and (1 <= location[1] <= SIZE)\n",
    "    \n",
    "    def validate_eat_action(performance):\n",
    "        if performance < goals['eat_threshold']:\n",
    "            return True\n",
    "\n",
    "    def validate_move_action(performance, possible_choises):\n",
    "        if performance < goals['eat_threshold']:\n",
    "            if goals['action'] in possible_choises:\n",
    "                return [goals['action']]\n",
    "        \n",
    "        return possible_choises\n",
    "        \n",
    "    location, status = percept\n",
    "\n",
    "    for p in status:      # percept: ([1, 3], [<Sheep>, <Fence>])\n",
    "        if isinstance(p, Grass):\n",
    "            if validate_eat_action(performance):\n",
    "                return 'eat'\n",
    "        elif isinstance(p, Fence):\n",
    "            if location not in model.model['painful_states']:\n",
    "                model.model['painful_states'].append(location)\n",
    "            return 'shock'\n",
    "        else:\n",
    "            if location not in model.model['boring_states']:\n",
    "                model.model['boring_states'].append(location)\n",
    "    \n",
    "    possible_choises = rule_match(model, location)\n",
    "    possible_choises = validate_move_action(performance, possible_choises)\n",
    "    \n",
    "    choice = random.choice(range(len(possible_choises)))\n",
    "    return possible_choises[choice]"
   ]
  },
  {
   "cell_type": "markdown",
   "metadata": {},
   "source": [
    "<br>\n",
    "\n",
    "![](./ML_R00183658_EXTRA_DIR/R00183658_reading.png)\n",
    "\n",
    "Run the next cell multiple times for playing the Goal based agent. "
   ]
  },
  {
   "cell_type": "code",
   "execution_count": 17,
   "metadata": {},
   "outputs": [
    {
     "name": "stdout",
     "output_type": "stream",
     "text": [
      "\n",
      "Game completed in 211 steps.\n",
      "Sheep performance: 259\n",
      "\n"
     ]
    },
    {
     "data": {
      "image/png": "[encoded data removed]",
      "text/plain": [
       "<Figure size 720x360 with 2 Axes>"
      ]
     },
     "metadata": {
      "needs_background": "light"
     },
     "output_type": "display_data"
    },
    {
     "name": "stdout",
     "output_type": "stream",
     "text": [
      "\n",
      "Sheep spent 3.0 steps on electric fence.\n",
      "\n"
     ]
    }
   ],
   "source": [
    "sheep = Sheep(GoalModelAgentProgram, agent_type='goal')\n",
    "_1play(sheep, size=SIZE)\n",
    "\n",
    "print('\\nGame completed in {} steps.'.format(len(sheep.tracker)))\n",
    "print('Sheep performance: {}\\n'.format(sheep.performance))\n",
    "\n",
    "AgentHeatMap(size=SIZE, agent=sheep, tracker=sheep.tracker)"
   ]
  },
  {
   "cell_type": "markdown",
   "metadata": {},
   "source": [
    "<br>\n",
    "\n",
    "![](./ML_R00183658_EXTRA_DIR/R00183658_reading.png)\n",
    "\n",
    "Let's now see how our goal based sheep performs in the static environemt 1000 times.\n",
    "\n",
    "**~95-97%**: So indeed roughly knowing that the grass is located at the right side of the field helps the sheep to further  \n",
    "improve its success rate in solving the game, even when introducing additional eating constraints.  \n",
    "\n",
    "With 1000 games one also notices a longer runtime, as the sheep needs to wait for its performance to decrease until it  \n",
    "feels hungry again.  \n",
    "\n",
    "One could certainly further improve the goal based agent by using **search** to reach goals."
   ]
  },
  {
   "cell_type": "code",
   "execution_count": 18,
   "metadata": {},
   "outputs": [
    {
     "name": "stdout",
     "output_type": "stream",
     "text": [
      "\n",
      "Average  performance when successful: 232\n",
      "Average  game length when successful: 237 steps\n",
      "Shortest game length when successful: 197 steps\n",
      "Success rate: 0.968\n",
      "\n"
     ]
    },
    {
     "data": {
      "image/png": "[encoded data removed]",
      "text/plain": [
       "<Figure size 360x360 with 1 Axes>"
      ]
     },
     "metadata": {
      "needs_background": "light"
     },
     "output_type": "display_data"
    },
    {
     "name": "stdout",
     "output_type": "stream",
     "text": [
      "\n",
      "Sheep spent 3000.0 steps on electric fence.\n",
      "\n"
     ]
    }
   ],
   "source": [
    "_1000plays(agent_type='goal')"
   ]
  },
  {
   "cell_type": "markdown",
   "metadata": {},
   "source": [
    "---\n",
    "\n",
    "![](./ML_R00183658_EXTRA_DIR/R00183658_reading.png)\n",
    "\n",
    "### Play in a random environment\n",
    "\n",
    "Finally, after the different agents have been implemented and tested against a well defined environment,  \n",
    "let's verify that the agents do work in a random world as well. Herefore, we  overwrite the global `SIZE`  \n",
    "variable and we run a single random game `_1play_random`.  \n",
    "\n",
    "As the above used goal of expecting grass at the right side of the field is not useful in a random environment,  \n",
    "this play will be made with the Model-based agent and risks the sheep to burst from overeating.\n",
    "\n",
    "Please run the following cells multiple times."
   ]
  },
  {
   "cell_type": "code",
   "execution_count": 19,
   "metadata": {},
   "outputs": [
    {
     "name": "stdout",
     "output_type": "stream",
     "text": [
      "\n",
      "Game completed in 554 steps.\n",
      "Sheep performance: 1696\n",
      "\n"
     ]
    },
    {
     "data": {
      "image/png": "[encoded data removed]",
      "text/plain": [
       "<Figure size 720x360 with 2 Axes>"
      ]
     },
     "metadata": {
      "needs_background": "light"
     },
     "output_type": "display_data"
    }
   ],
   "source": [
    "SIZE = 10\n",
    "\n",
    "sheep = Sheep(ModelAgentProgram, agent_type='model')\n",
    "_1play_random(sheep, size=SIZE)\n",
    "\n",
    "print('\\nGame completed in {} steps.'.format(len(sheep.tracker)))\n",
    "print('Sheep performance: {}\\n'.format(sheep.performance))\n",
    "\n",
    "AgentHeatMap(size=SIZE, agent=sheep, tracker=sheep.tracker, random_game=True)"
   ]
  },
  {
   "cell_type": "markdown",
   "metadata": {},
   "source": [
    "<br>\n",
    "\n",
    "![](./ML_R00183658_EXTRA_DIR/R00183658_reading.png)\n",
    "\n",
    "**Fun Finding:**\n",
    "\n",
    "An interesting scenario has been observed during testing. The sheep was completely fenced and could not complete  \n",
    "the game. The ModelAgentProgram based agent tried all possible locations to escape while honoring the Model state  \n",
    "to not step into a known bad location twice.\n",
    "\n",
    "So evolution did very well when sheep learned to jump fences...\n",
    "\n",
    "![\"Fenced Agent\"](./ML_R00183658_EXTRA_DIR/R00183658_fenced_sheep2.png)"
   ]
  },
  {
   "cell_type": "markdown",
   "metadata": {},
   "source": [
    "---\n",
    "---\n",
    "\n",
    "## 1.2 SEARCHING YOUR WORLD\n",
    "\n",
    "**1.**  Formulate a well defined problem statement and identify a goal-state under which your game is complete. Why is this important to search? As part of your solution you should be including the initial state, the set of actions, the transition model, a goal test function and a path cost function.\n",
    "<p>"
   ]
  },
  {
   "cell_type": "markdown",
   "metadata": {},
   "source": [
    "<br>\n",
    "\n",
    "![](./ML_R00183658_EXTRA_DIR/R00183658_reading.png)\n",
    "\n",
    "Let us continue with the static 5x5 setup, as we evaluated the agents' performances in this scenario thoroughly.  \n",
    "We saw with the Model-based agent `_1000plays` execution, that the successful game completion was ~85-87%.  \n",
    "But the sample screenshot below highlights also that the average game length on successful completion is 44 steps,  \n",
    "whereas the shortest game instance was completed in 16 steps only. \n",
    "\n",
    "![](./ML_R00183658_EXTRA_DIR/R00183658_result_model_1000.png)\n",
    "\n",
    "<br>\n",
    "\n",
    "![](./ML_R00183658_EXTRA_DIR/R00183658_reading.png)\n",
    "\n",
    "### Search\n",
    "The use of search can help our agent to make better than random move operations in our 2D world and complete the game in the  \n",
    "fewest steps possible. Search represents a component of an AI agent, which handles planning steps ahead and requires the following input:\n",
    "- **Initial state:** Describes the world at the beginning of the search\n",
    "- **Goal state:** Describes the target outcome for which search is requested to find an action sequence.\n",
    "- **Actions:** Defines the different actions also available to an agent for completing the world\n",
    "- **Transition Model:** Describes how the world is expected to change given simulated actions, i.e. creates successor state in search.\n",
    "- **Goal Test Function:** Checks whether a state is equal to the goal state. If True, search is completed.\n",
    "- **Path Cost Function:** Assigns a cost for transiting from 1 state into a successor state that matches the agents performance measure, e.g. shortest path from initial state to goal state.\n",
    "\n",
    "By providing the full initial state of the problem to the search, we make our environment fully observable so that based on to above components of search a deterministic solution can be found.\n",
    "\n",
    "For the Sheep/Field search the components are defined as follows:\n",
    "- **Initial state:** Tuple of world state and agent location. The world state defines things of interest in the environment: Grass and Fences.\n",
    "- **Goal State:** The goal represents the world the search should reach, i.e. no more grassy locations. Fences remain untouched.\n",
    "- **Actions**: Simulate agent actions to guide search. Return possible `moves` if location is empty. Return `eat` when location has grass. Return `None` when location has Fence.\n",
    "- **Transition Model:** Takes all actions to create successor states in search. `None` stops a tree -> no successor state. `eat` updates state and clears respective location. Else update agents location for successor state."
   ]
  },
  {
   "cell_type": "code",
   "execution_count": 20,
   "metadata": {},
   "outputs": [],
   "source": [
    "class P(Problem):\n",
    "    def __init__(self, initial=None, goal=None):\n",
    "        #self.initial = initial\n",
    "        #self.goal = goal\n",
    "        self.solution = None\n",
    "        \n",
    "        self.initial = ((\n",
    "            0, 0, 'F', 'G', 'G',\n",
    "            0, 0, 'F', 'G', 'G',\n",
    "            0, 0, 'F', 0, 0,\n",
    "            0, 0, 0, 0, 0,\n",
    "            0, 0, 0, 0, 0),\n",
    "            (1, 1)\n",
    "        )\n",
    "\n",
    "        self.goal  = (\n",
    "            '0', '0', 'F', '0', '0',\n",
    "            '0', '0', 'F', '0', '0',\n",
    "            '0', '0', 'F', '0', '0',\n",
    "            '0', '0', '0', '0', '0',\n",
    "            '0', '0', '0', '0', '0'\n",
    "        )\n",
    "\n",
    "\n",
    "    def actions(self, state):\n",
    "        action_list = ['left', 'right', 'up', 'down']\n",
    "        #action_list = ['up', 'right', 'down', 'left']\n",
    "        location = state[1]\n",
    "        \n",
    "        dim = np.sqrt(len(state[0])).astype(int)\n",
    "        state = np.array(state[0]).reshape(dim,dim)\n",
    "                \n",
    "        #\n",
    "        # If the sheep is at the edge of the world remove impossible moves\n",
    "        #\n",
    "        if location[0] == 1: action_list.remove('up')\n",
    "        if location[0] == state.shape[0]: action_list.remove('down')\n",
    "        if location[1] == 1: action_list.remove('left')\n",
    "        if location[1] == state.shape[1]: action_list.remove('right')\n",
    "        \n",
    "        #\n",
    "        # Handle Grass 'G' and Fence 'F'\n",
    "        # 'G' => eat\n",
    "        # 'F' => electrical shock is not good for the sheep, \n",
    "        #        it will loose its mind and this search path has to stop\n",
    "        #\n",
    "        loc_row, loc_col = location[0], location[1]\n",
    "        if state[loc_row - 1][loc_col - 1] == 'G': \n",
    "            action_list = ['eat']\n",
    "        if state[loc_row - 1][loc_col - 1] == 'F': action_list = []\n",
    "                    \n",
    "        return action_list \n",
    "    \n",
    "    def result(self, state, action):\n",
    "        '''\n",
    "        For the search tree node creation we receive on of the parent nodes' action\n",
    "        and return a result based on the search transition model. \n",
    "        The result includes the updated world state and location of the simulated agent.\n",
    "        The 'actions' method ensure that only valid and possible actions are provided \n",
    "        to new nodes.\n",
    "        '''\n",
    "        \n",
    "        #\n",
    "        # Prepare state matrix and location for easier manipulation\n",
    "        #\n",
    "        location = state[1]\n",
    "        dim = np.sqrt(len(state[0])).astype(int)\n",
    "        state = np.array(state[0]).reshape(dim,dim)\n",
    "        loc_row, loc_col = location[0], location[1]\n",
    "\n",
    "        #\n",
    "        # State transition model:\n",
    "        #    - Update world if grass is eaten\n",
    "        #    - Update simulated agent location\n",
    "        #\n",
    "        if action == 'eat': state[loc_row - 1][loc_col - 1] = 0\n",
    "        if action == 'up': loc_row -= 1\n",
    "        if action == 'down': loc_row += 1\n",
    "        if action == 'left': loc_col -= 1\n",
    "        if action == 'right': loc_col += 1\n",
    "        \n",
    "        #\n",
    "        # Prepare return data: state and location\n",
    "        #\n",
    "        state = state.flatten()\n",
    "        location = (loc_row, loc_col)\n",
    "        \n",
    "        return (tuple(state), location)\n",
    "\n",
    "    def goal_test(self, state):\n",
    "        if isinstance(self.goal, list):\n",
    "            return is_in(state, self.goal)\n",
    "        else:\n",
    "            dim = np.sqrt(len(state[0])).astype(int)\n",
    "            return state[0] == self.goal\n",
    "\n",
    "    def print_solution(self):\n",
    "        node, actions_executed = self.solution, []\n",
    "\n",
    "        while node.parent:\n",
    "            actions_executed.append((node, node.action))\n",
    "            node = node.parent\n",
    "        \n",
    "        print(\"Solution state:  \", self.solution)\n",
    "        print(\"Solution cost :  \", self.solution.path_cost)\n",
    "        print(\"Solution nodes:  \", _ids)\n",
    "        print(\"Solution path :  \")\n",
    "\n",
    "        for n in actions_executed[::-1]:\n",
    "            print('    > Reached Node {} with action {}'.format(n[0], n[1]))\n",
    "\n",
    "    def get_seq(self):\n",
    "        node, actions_executed = self.solution, []\n",
    "        seq = []\n",
    "\n",
    "        while node.parent:\n",
    "            seq.insert(0, node.action)\n",
    "            node = node.parent\n",
    "\n",
    "        return seq "
   ]
  },
  {
   "cell_type": "markdown",
   "metadata": {},
   "source": [
    "**2.**  \n",
    "Select three uninformed search techniques and discuss their appropriateness to your world under appropriate headings for search.\n",
    "<p>"
   ]
  },
  {
   "cell_type": "markdown",
   "metadata": {},
   "source": [
    "<br>\n",
    "\n",
    "![](./ML_R00183658_EXTRA_DIR/R00183658_reading.png)\n",
    "\n",
    "According to the agent we simulate the actions + transitional model of the search allows state loops **(redundant path)** which cause tree search algorithms to run infinitely.  \n",
    "Therefore **graph search** solutions must be used for this environment to avoid transiting into previously **explored states**.\n",
    "\n",
    "**Depth-first Graph Search (DFS)**:  \n",
    "- Operation: DFS uses a **LIFO** (Last in First Out) queue. This means the last created state will immediately be expanded until a graph loop is encountered.\n",
    "- **Result will differ** based on the **order of the action_list**.\n",
    "- It is **complete** for the given finite state space of the sheep world.\n",
    "- It is **not optimal**, because by expanding the deepest node first everytime, the search algorithm will always take the the first action from the action_list for the next expansion and may find longer than optimal paths for the sheep to eat all grass.\n",
    "- Complexity is bounded by state space, and negligible for a 5x5 world.\n",
    "\n",
    "**Breath-first Graph Search (BFS)**: \n",
    "- Operation: BFS uses a **FIFO** (First in First Out) queue. Hence, all state for a given depths are evaluated first before depth+1 .\n",
    "- It is **complete** for the given finite state space of the sheep world.\n",
    "- Search is **optimal**, the sheep will find the shortest solution to eat all grass.\n",
    "- Complexity is bounded by state space, and negligible for a 5x5 world.\n",
    "\n",
    "**Best First Graph Search**:\n",
    "- Implements a priority queue and allows us to guide search to minimize a specific value most valuable for reaching thw goal.\n",
    "- Here we want to **optimize the minimization of locations in search state holding Grass. Hence, states with lower number of Grass are prioritized for expansion.**\n",
    "- **Complete** and **optimal** for Sheep world example.\n",
    "- Time and Space complexity much less than Breath-first Graph Search"
   ]
  },
  {
   "cell_type": "markdown",
   "metadata": {},
   "source": [
    "**3.**  \n",
    "Implement the three uninformed search techniques discussed for your world.  \n",
    "Discuss the results."
   ]
  },
  {
   "cell_type": "markdown",
   "metadata": {},
   "source": [
    "<br>\n",
    "\n",
    "![](./ML_R00183658_EXTRA_DIR/R00183658_reading.png)\n",
    "\n",
    "### The search Node\n",
    "(from AIMA repo, slightly modified)"
   ]
  },
  {
   "cell_type": "code",
   "execution_count": 21,
   "metadata": {},
   "outputs": [],
   "source": [
    "from itertools import count\n",
    "\n",
    "#########################################################################\n",
    "#\n",
    "# class Node is copied from AIMA code\n",
    "# \n",
    "# A micro change was implemented in __init__ to increase an iterator \n",
    "# counter every time a new node is generated.\n",
    "#\n",
    "#########################################################################\n",
    "\n",
    "class Node:\n",
    "    \"\"\"A node in a search tree. Contains a pointer to the parent (the node\n",
    "    that this is a successor of) and to the actual state for this node. Note\n",
    "    that if a state is arrived at by two paths, then there are two nodes with\n",
    "    the same state.  Also includes the action that got us to this state, and\n",
    "    the total path_cost (also known as g) to reach the node.  Other functions\n",
    "    may add an f and h value; see best_first_graph_search and astar_search for\n",
    "    an explanation of how the f and h values are handled. You will not need to\n",
    "    subclass this class.\"\"\"\n",
    "    \n",
    "    def __init__(self, state, parent=None, action=None, path_cost=0):\n",
    "        \"\"\"Create a search tree Node, derived from a parent by an action.\"\"\"\n",
    "        self.state = state\n",
    "        self.parent = parent\n",
    "        self.action = action\n",
    "        self.path_cost = path_cost\n",
    "        self.depth = 0\n",
    "        self.id = next(_ids)\n",
    "        if parent:\n",
    "            self.depth = parent.depth + 1\n",
    "\n",
    "    def __repr__(self):\n",
    "        return \"<Node {}>\".format(self.state)\n",
    "\n",
    "    def __lt__(self, node):\n",
    "        return self.state < node.state\n",
    "\n",
    "    def expand(self, problem):\n",
    "        \"\"\"List the nodes reachable in one step from this node.\"\"\"\n",
    "        return [self.child_node(problem, action)\n",
    "                for action in problem.actions(self.state)]\n",
    "\n",
    "    def child_node(self, problem, action):\n",
    "        \"\"\"[Figure 3.10]\"\"\"\n",
    "        next_state = problem.result(self.state, action)\n",
    "        next_node = Node(next_state, self, action,\n",
    "                         problem.path_cost(self.path_cost, self.state,\n",
    "                                           action, next_state))\n",
    "        return next_node\n",
    "\n",
    "    def solution(self):\n",
    "        \"\"\"Return the sequence of actions to go from the root to this node.\"\"\"\n",
    "        return [node.action for node in self.path()[1:]]\n",
    "\n",
    "    def path(self):\n",
    "        \"\"\"Return a list of nodes forming the path from the root to this node.\"\"\"\n",
    "        node, path_back = self, []\n",
    "        while node:\n",
    "            path_back.append(node)\n",
    "            node = node.parent\n",
    "        return list(reversed(path_back))\n",
    "\n",
    "    # We want for a queue of nodes in breadth_first_graph_search or\n",
    "    # astar_search to have no duplicated states, so we treat nodes\n",
    "    # with the same state as equal. [Problem: this may not be what you\n",
    "    # want in other contexts.]\n",
    "\n",
    "    def __eq__(self, other):\n",
    "        return isinstance(other, Node) and self.state == other.state\n",
    "\n",
    "    def __hash__(self):\n",
    "        return hash(self.state)"
   ]
  },
  {
   "cell_type": "markdown",
   "metadata": {},
   "source": [
    "<br>\n",
    "\n",
    "![](./ML_R00183658_EXTRA_DIR/R00183658_reading.png)\n",
    "\n",
    "### DFS\n",
    "(from AIMA repo)"
   ]
  },
  {
   "cell_type": "code",
   "execution_count": 22,
   "metadata": {},
   "outputs": [
    {
     "name": "stdout",
     "output_type": "stream",
     "text": [
      "Solution state:   <Node (('0', '0', 'F', '0', '0', '0', '0', 'F', '0', '0', '0', '0', 'F', '0', '0', '0', '0', '0', '0', '0', '0', '0', '0', '0', '0'), (1, 5))>\n",
      "Solution cost :   18\n",
      "Solution nodes:   count(221)\n",
      "Solution path :  \n",
      "    > Reached Node <Node (('0', '0', 'F', 'G', 'G', '0', '0', 'F', 'G', 'G', '0', '0', 'F', '0', '0', '0', '0', '0', '0', '0', '0', '0', '0', '0', '0'), (2, 1))> with action down\n",
      "    > Reached Node <Node (('0', '0', 'F', 'G', 'G', '0', '0', 'F', 'G', 'G', '0', '0', 'F', '0', '0', '0', '0', '0', '0', '0', '0', '0', '0', '0', '0'), (3, 1))> with action down\n",
      "    > Reached Node <Node (('0', '0', 'F', 'G', 'G', '0', '0', 'F', 'G', 'G', '0', '0', 'F', '0', '0', '0', '0', '0', '0', '0', '0', '0', '0', '0', '0'), (4, 1))> with action down\n",
      "    > Reached Node <Node (('0', '0', 'F', 'G', 'G', '0', '0', 'F', 'G', 'G', '0', '0', 'F', '0', '0', '0', '0', '0', '0', '0', '0', '0', '0', '0', '0'), (5, 1))> with action down\n",
      "    > Reached Node <Node (('0', '0', 'F', 'G', 'G', '0', '0', 'F', 'G', 'G', '0', '0', 'F', '0', '0', '0', '0', '0', '0', '0', '0', '0', '0', '0', '0'), (5, 2))> with action right\n",
      "    > Reached Node <Node (('0', '0', 'F', 'G', 'G', '0', '0', 'F', 'G', 'G', '0', '0', 'F', '0', '0', '0', '0', '0', '0', '0', '0', '0', '0', '0', '0'), (5, 3))> with action right\n",
      "    > Reached Node <Node (('0', '0', 'F', 'G', 'G', '0', '0', 'F', 'G', 'G', '0', '0', 'F', '0', '0', '0', '0', '0', '0', '0', '0', '0', '0', '0', '0'), (4, 3))> with action up\n",
      "    > Reached Node <Node (('0', '0', 'F', 'G', 'G', '0', '0', 'F', 'G', 'G', '0', '0', 'F', '0', '0', '0', '0', '0', '0', '0', '0', '0', '0', '0', '0'), (4, 4))> with action right\n",
      "    > Reached Node <Node (('0', '0', 'F', 'G', 'G', '0', '0', 'F', 'G', 'G', '0', '0', 'F', '0', '0', '0', '0', '0', '0', '0', '0', '0', '0', '0', '0'), (3, 4))> with action up\n",
      "    > Reached Node <Node (('0', '0', 'F', 'G', 'G', '0', '0', 'F', 'G', 'G', '0', '0', 'F', '0', '0', '0', '0', '0', '0', '0', '0', '0', '0', '0', '0'), (2, 4))> with action up\n",
      "    > Reached Node <Node (('0', '0', 'F', 'G', 'G', '0', '0', 'F', '0', 'G', '0', '0', 'F', '0', '0', '0', '0', '0', '0', '0', '0', '0', '0', '0', '0'), (2, 4))> with action eat\n",
      "    > Reached Node <Node (('0', '0', 'F', 'G', 'G', '0', '0', 'F', '0', 'G', '0', '0', 'F', '0', '0', '0', '0', '0', '0', '0', '0', '0', '0', '0', '0'), (1, 4))> with action up\n",
      "    > Reached Node <Node (('0', '0', 'F', '0', 'G', '0', '0', 'F', '0', 'G', '0', '0', 'F', '0', '0', '0', '0', '0', '0', '0', '0', '0', '0', '0', '0'), (1, 4))> with action eat\n",
      "    > Reached Node <Node (('0', '0', 'F', '0', 'G', '0', '0', 'F', '0', 'G', '0', '0', 'F', '0', '0', '0', '0', '0', '0', '0', '0', '0', '0', '0', '0'), (2, 4))> with action down\n",
      "    > Reached Node <Node (('0', '0', 'F', '0', 'G', '0', '0', 'F', '0', 'G', '0', '0', 'F', '0', '0', '0', '0', '0', '0', '0', '0', '0', '0', '0', '0'), (2, 5))> with action right\n",
      "    > Reached Node <Node (('0', '0', 'F', '0', 'G', '0', '0', 'F', '0', '0', '0', '0', 'F', '0', '0', '0', '0', '0', '0', '0', '0', '0', '0', '0', '0'), (2, 5))> with action eat\n",
      "    > Reached Node <Node (('0', '0', 'F', '0', 'G', '0', '0', 'F', '0', '0', '0', '0', 'F', '0', '0', '0', '0', '0', '0', '0', '0', '0', '0', '0', '0'), (1, 5))> with action up\n",
      "    > Reached Node <Node (('0', '0', 'F', '0', '0', '0', '0', 'F', '0', '0', '0', '0', 'F', '0', '0', '0', '0', '0', '0', '0', '0', '0', '0', '0', '0'), (1, 5))> with action eat\n",
      "Wall time: 14 ms\n"
     ]
    }
   ],
   "source": [
    "%%time\n",
    "\n",
    "## _ids counts the nodes generated during search\n",
    "_ids = count(0)\n",
    "\n",
    "\n",
    "#########################################################################\n",
    "#\n",
    "# depth_first_graph_search is copied from AIMA code\n",
    "#\n",
    "#########################################################################\n",
    "\n",
    "def depth_first_graph_search(problem):\n",
    "    \"\"\"Search the deepest nodes in the search tree first.\n",
    "        Search through the successors of a problem to find a goal.\n",
    "        The argument frontier should be an empty queue.\n",
    "        Does not get trapped by loops.\n",
    "        If two paths reach a state, only use the first one. [Figure 3.7]\"\"\"\n",
    "    frontier = [(Node(problem.initial))]  # Stack\n",
    "    explored = set()\n",
    "    while frontier:\n",
    "        node = frontier.pop()\n",
    "        if problem.goal_test(node.state):\n",
    "            return node\n",
    "        explored.add(node.state)\n",
    "        frontier.extend(child for child in node.expand(problem)\n",
    "                        if child.state not in explored and\n",
    "                        child not in frontier)\n",
    "    return None\n",
    "\n",
    "problem = P()\n",
    "problem.solution = depth_first_graph_search(problem)\n",
    "problem.print_solution()"
   ]
  },
  {
   "cell_type": "markdown",
   "metadata": {},
   "source": [
    "<br>\n",
    "\n",
    "![](./ML_R00183658_EXTRA_DIR/R00183658_reading.png)\n",
    "\n",
    "### BFS\n",
    "(from AIMA)"
   ]
  },
  {
   "cell_type": "code",
   "execution_count": 23,
   "metadata": {},
   "outputs": [
    {
     "name": "stdout",
     "output_type": "stream",
     "text": [
      "Solution state:   <Node (('0', '0', 'F', '0', '0', '0', '0', 'F', '0', '0', '0', '0', 'F', '0', '0', '0', '0', '0', '0', '0', '0', '0', '0', '0', '0'), (1, 4))>\n",
      "Solution cost :   15\n",
      "Solution nodes:   count(183)\n",
      "Solution path :  \n",
      "    > Reached Node <Node (('0', '0', 'F', 'G', 'G', '0', '0', 'F', 'G', 'G', '0', '0', 'F', '0', '0', '0', '0', '0', '0', '0', '0', '0', '0', '0', '0'), (1, 2))> with action right\n",
      "    > Reached Node <Node (('0', '0', 'F', 'G', 'G', '0', '0', 'F', 'G', 'G', '0', '0', 'F', '0', '0', '0', '0', '0', '0', '0', '0', '0', '0', '0', '0'), (2, 2))> with action down\n",
      "    > Reached Node <Node (('0', '0', 'F', 'G', 'G', '0', '0', 'F', 'G', 'G', '0', '0', 'F', '0', '0', '0', '0', '0', '0', '0', '0', '0', '0', '0', '0'), (3, 2))> with action down\n",
      "    > Reached Node <Node (('0', '0', 'F', 'G', 'G', '0', '0', 'F', 'G', 'G', '0', '0', 'F', '0', '0', '0', '0', '0', '0', '0', '0', '0', '0', '0', '0'), (4, 2))> with action down\n",
      "    > Reached Node <Node (('0', '0', 'F', 'G', 'G', '0', '0', 'F', 'G', 'G', '0', '0', 'F', '0', '0', '0', '0', '0', '0', '0', '0', '0', '0', '0', '0'), (4, 3))> with action right\n",
      "    > Reached Node <Node (('0', '0', 'F', 'G', 'G', '0', '0', 'F', 'G', 'G', '0', '0', 'F', '0', '0', '0', '0', '0', '0', '0', '0', '0', '0', '0', '0'), (4, 4))> with action right\n",
      "    > Reached Node <Node (('0', '0', 'F', 'G', 'G', '0', '0', 'F', 'G', 'G', '0', '0', 'F', '0', '0', '0', '0', '0', '0', '0', '0', '0', '0', '0', '0'), (3, 4))> with action up\n",
      "    > Reached Node <Node (('0', '0', 'F', 'G', 'G', '0', '0', 'F', 'G', 'G', '0', '0', 'F', '0', '0', '0', '0', '0', '0', '0', '0', '0', '0', '0', '0'), (2, 4))> with action up\n",
      "    > Reached Node <Node (('0', '0', 'F', 'G', 'G', '0', '0', 'F', '0', 'G', '0', '0', 'F', '0', '0', '0', '0', '0', '0', '0', '0', '0', '0', '0', '0'), (2, 4))> with action eat\n",
      "    > Reached Node <Node (('0', '0', 'F', 'G', 'G', '0', '0', 'F', '0', 'G', '0', '0', 'F', '0', '0', '0', '0', '0', '0', '0', '0', '0', '0', '0', '0'), (2, 5))> with action right\n",
      "    > Reached Node <Node (('0', '0', 'F', 'G', 'G', '0', '0', 'F', '0', '0', '0', '0', 'F', '0', '0', '0', '0', '0', '0', '0', '0', '0', '0', '0', '0'), (2, 5))> with action eat\n",
      "    > Reached Node <Node (('0', '0', 'F', 'G', 'G', '0', '0', 'F', '0', '0', '0', '0', 'F', '0', '0', '0', '0', '0', '0', '0', '0', '0', '0', '0', '0'), (1, 5))> with action up\n",
      "    > Reached Node <Node (('0', '0', 'F', 'G', '0', '0', '0', 'F', '0', '0', '0', '0', 'F', '0', '0', '0', '0', '0', '0', '0', '0', '0', '0', '0', '0'), (1, 5))> with action eat\n",
      "    > Reached Node <Node (('0', '0', 'F', 'G', '0', '0', '0', 'F', '0', '0', '0', '0', 'F', '0', '0', '0', '0', '0', '0', '0', '0', '0', '0', '0', '0'), (1, 4))> with action left\n",
      "    > Reached Node <Node (('0', '0', 'F', '0', '0', '0', '0', 'F', '0', '0', '0', '0', 'F', '0', '0', '0', '0', '0', '0', '0', '0', '0', '0', '0', '0'), (1, 4))> with action eat\n",
      "Wall time: 18 ms\n"
     ]
    }
   ],
   "source": [
    "%%time\n",
    "\n",
    "## _ids counts the nodes generated during search\n",
    "_ids = count(0)\n",
    "\n",
    "\n",
    "#########################################################################\n",
    "#\n",
    "# breadth_first_graph_search is copied from AIMA code\n",
    "#\n",
    "#########################################################################\n",
    "\n",
    "def breadth_first_graph_search(problem):\n",
    "    \"\"\"[Figure 3.11]\n",
    "    Note that this function can be implemented in a\n",
    "    single line as below:\n",
    "    return graph_search(problem, FIFOQueue())\n",
    "    \"\"\"\n",
    "    node = Node(problem.initial)\n",
    "    if problem.goal_test(node.state):\n",
    "        return node\n",
    "    frontier = deque([node])\n",
    "    explored = set()\n",
    "    while frontier:\n",
    "        node = frontier.popleft()\n",
    "        explored.add(node.state)\n",
    "        for child in node.expand(problem):\n",
    "            if child.state not in explored and child not in frontier:\n",
    "                if problem.goal_test(child.state):\n",
    "                    return child\n",
    "                frontier.append(child)\n",
    "    return None\n",
    "\n",
    "problem = P()\n",
    "problem.solution = breadth_first_graph_search(problem)\n",
    "problem.print_solution()"
   ]
  },
  {
   "cell_type": "markdown",
   "metadata": {},
   "source": [
    "<br>\n",
    "\n",
    "![](./ML_R00183658_EXTRA_DIR/R00183658_reading.png)\n",
    "\n",
    "### Best First Search\n",
    "(from AIMA)\n",
    "\n",
    "As mentioned above the search is guided / prioritized by `lambda node: node.state[0].count('G')`, which gives expansion priority the states that reduce the amount of \"grassy\" locations on the field.\n"
   ]
  },
  {
   "cell_type": "code",
   "execution_count": 24,
   "metadata": {},
   "outputs": [
    {
     "name": "stdout",
     "output_type": "stream",
     "text": [
      "Solution state:   <Node (('0', '0', 'F', '0', '0', '0', '0', 'F', '0', '0', '0', '0', 'F', '0', '0', '0', '0', '0', '0', '0', '0', '0', '0', '0', '0'), (2, 5))>\n",
      "Solution cost :   15\n",
      "Solution nodes:   count(61)\n",
      "Solution path :  \n",
      "    > Reached Node <Node (('0', '0', 'F', 'G', 'G', '0', '0', 'F', 'G', 'G', '0', '0', 'F', '0', '0', '0', '0', '0', '0', '0', '0', '0', '0', '0', '0'), (1, 2))> with action right\n",
      "    > Reached Node <Node (('0', '0', 'F', 'G', 'G', '0', '0', 'F', 'G', 'G', '0', '0', 'F', '0', '0', '0', '0', '0', '0', '0', '0', '0', '0', '0', '0'), (2, 2))> with action down\n",
      "    > Reached Node <Node (('0', '0', 'F', 'G', 'G', '0', '0', 'F', 'G', 'G', '0', '0', 'F', '0', '0', '0', '0', '0', '0', '0', '0', '0', '0', '0', '0'), (3, 2))> with action down\n",
      "    > Reached Node <Node (('0', '0', 'F', 'G', 'G', '0', '0', 'F', 'G', 'G', '0', '0', 'F', '0', '0', '0', '0', '0', '0', '0', '0', '0', '0', '0', '0'), (4, 2))> with action down\n",
      "    > Reached Node <Node (('0', '0', 'F', 'G', 'G', '0', '0', 'F', 'G', 'G', '0', '0', 'F', '0', '0', '0', '0', '0', '0', '0', '0', '0', '0', '0', '0'), (4, 3))> with action right\n",
      "    > Reached Node <Node (('0', '0', 'F', 'G', 'G', '0', '0', 'F', 'G', 'G', '0', '0', 'F', '0', '0', '0', '0', '0', '0', '0', '0', '0', '0', '0', '0'), (4, 4))> with action right\n",
      "    > Reached Node <Node (('0', '0', 'F', 'G', 'G', '0', '0', 'F', 'G', 'G', '0', '0', 'F', '0', '0', '0', '0', '0', '0', '0', '0', '0', '0', '0', '0'), (3, 4))> with action up\n",
      "    > Reached Node <Node (('0', '0', 'F', 'G', 'G', '0', '0', 'F', 'G', 'G', '0', '0', 'F', '0', '0', '0', '0', '0', '0', '0', '0', '0', '0', '0', '0'), (2, 4))> with action up\n",
      "    > Reached Node <Node (('0', '0', 'F', 'G', 'G', '0', '0', 'F', '0', 'G', '0', '0', 'F', '0', '0', '0', '0', '0', '0', '0', '0', '0', '0', '0', '0'), (2, 4))> with action eat\n",
      "    > Reached Node <Node (('0', '0', 'F', 'G', 'G', '0', '0', 'F', '0', 'G', '0', '0', 'F', '0', '0', '0', '0', '0', '0', '0', '0', '0', '0', '0', '0'), (1, 4))> with action up\n",
      "    > Reached Node <Node (('0', '0', 'F', '0', 'G', '0', '0', 'F', '0', 'G', '0', '0', 'F', '0', '0', '0', '0', '0', '0', '0', '0', '0', '0', '0', '0'), (1, 4))> with action eat\n",
      "    > Reached Node <Node (('0', '0', 'F', '0', 'G', '0', '0', 'F', '0', 'G', '0', '0', 'F', '0', '0', '0', '0', '0', '0', '0', '0', '0', '0', '0', '0'), (1, 5))> with action right\n",
      "    > Reached Node <Node (('0', '0', 'F', '0', '0', '0', '0', 'F', '0', 'G', '0', '0', 'F', '0', '0', '0', '0', '0', '0', '0', '0', '0', '0', '0', '0'), (1, 5))> with action eat\n",
      "    > Reached Node <Node (('0', '0', 'F', '0', '0', '0', '0', 'F', '0', 'G', '0', '0', 'F', '0', '0', '0', '0', '0', '0', '0', '0', '0', '0', '0', '0'), (2, 5))> with action down\n",
      "    > Reached Node <Node (('0', '0', 'F', '0', '0', '0', '0', 'F', '0', '0', '0', '0', 'F', '0', '0', '0', '0', '0', '0', '0', '0', '0', '0', '0', '0'), (2, 5))> with action eat\n",
      "Wall time: 3.99 ms\n"
     ]
    }
   ],
   "source": [
    "%%time\n",
    "\n",
    "## _ids counts the nodes generated during search\n",
    "_ids = count(0)\n",
    "\n",
    "\n",
    "######################################################################\n",
    "#\n",
    "# best_first_graph_search is copied from AIMA code\n",
    "#\n",
    "######################################################################\n",
    "\n",
    "def best_first_graph_search(problem, f):\n",
    "    \"\"\"Search the nodes with the lowest f scores first.\n",
    "    You specify the function f(node) that you want to minimize; for example,\n",
    "    if f is a heuristic estimate to the goal, then we have greedy best\n",
    "    first search; if f is node.depth then we have breadth-first search.\n",
    "    There is a subtlety: the line \"f = memoize(f, 'f')\" means that the f\n",
    "    values will be cached on the nodes as they are computed. So after doing\n",
    "    a best first search you can examine the f values of the path returned.\"\"\"\n",
    "    f = memoize(f, 'f')\n",
    "    node = Node(problem.initial)\n",
    "    frontier = PriorityQueue('min', f)\n",
    "    frontier.append(node)\n",
    "    explored = set()\n",
    "    while frontier:\n",
    "        node = frontier.pop()\n",
    "        if problem.goal_test(node.state):\n",
    "            return node\n",
    "        explored.add(node.state)\n",
    "        for child in node.expand(problem):\n",
    "            if child.state not in explored and child not in frontier:\n",
    "                frontier.append(child)\n",
    "            elif child in frontier:\n",
    "                if f(child) < frontier[child]:\n",
    "                    del frontier[child]\n",
    "                    frontier.append(child)\n",
    "    return None\n",
    "\n",
    "\n",
    "problem = P()\n",
    "problem.solution = best_first_graph_search(problem, lambda node: node.state[0].count('G'))\n",
    "problem.print_solution()"
   ]
  },
  {
   "cell_type": "markdown",
   "metadata": {},
   "source": [
    "<br>\n",
    "\n",
    "![](./ML_R00183658_EXTRA_DIR/R00183658_3searches.png)\n",
    "\n",
    "<br>\n",
    "\n",
    "![](./ML_R00183658_EXTRA_DIR/R00183658_reading.png)\n",
    "\n",
    "### Discussion:\n",
    "\n",
    "We finally confirmed, that by making the environment observable and using search, we can find solutions to the game that  \n",
    "are much shorter than the Model based agent was able to find. In addition, search completely avoids Fence locations.  \n",
    "Hence, a Sheep agent relying on such search would maximize performance by: \n",
    "- ensuring shortest past\n",
    "- avoiding performance penalty by hitting a fence\n",
    "\n",
    "Comparing the state space explored, Best First Search offers a good advantage over the the 2 searches in terms of computational cost.  \n",
    "\n",
    "![](./ML_R00183658_EXTRA_DIR/R00183658_search_algs.png)\n",
    "\n",
    "\n",
    "<br>\n",
    "\n",
    "![](./ML_R00183658_EXTRA_DIR/R00183658_reading.png)\n",
    "\n",
    "In addition, this is also visible in time complexity, which is ~2x-3x lower for Best First Search."
   ]
  },
  {
   "cell_type": "code",
   "execution_count": 25,
   "metadata": {},
   "outputs": [
    {
     "name": "stdout",
     "output_type": "stream",
     "text": [
      "DFS: 11.026463 seconds\n",
      "BFS: 9.231654 seconds\n",
      "Best First: 3.492469 seconds\n"
     ]
    }
   ],
   "source": [
    "from datetime import datetime\n",
    "\n",
    "RUNS = 1000\n",
    "\n",
    "start = datetime.now()\n",
    "for i in range(RUNS):\n",
    "    depth_first_graph_search(problem)\n",
    "duration = datetime.now() - start\n",
    "print('DFS: {} seconds'.format(duration.total_seconds()))\n",
    "\n",
    "start = datetime.now()\n",
    "for i in range(RUNS):\n",
    "    breadth_first_graph_search(problem)\n",
    "duration = datetime.now() - start\n",
    "print('BFS: {} seconds'.format(duration.total_seconds()))\n",
    "\n",
    "start = datetime.now()\n",
    "for i in range(RUNS):\n",
    "    best_first_graph_search(problem, lambda node: node.state[0].count('G'))\n",
    "duration = datetime.now() - start\n",
    "print('Best First: {} seconds'.format(duration.total_seconds()))"
   ]
  },
  {
   "cell_type": "markdown",
   "metadata": {},
   "source": [
    "<br>\n",
    "\n",
    "![](./ML_R00183658_EXTRA_DIR/R00183658_reading.png)\n",
    "\n",
    "Search incorporated into an agent. Skeleton taken from AIMA code."
   ]
  },
  {
   "cell_type": "code",
   "execution_count": 26,
   "metadata": {},
   "outputs": [],
   "source": [
    "class SearchAgent(SimpleProblemSolvingAgentProgram):\n",
    "    \"\"\"Abstract framework for a problem-solving agent. [Figure 3.1]\"\"\"\n",
    "\n",
    "    def __init__(self, initial_state=None, goal=None, location=None):\n",
    "        \"\"\"State is an abstract representation of the state\n",
    "        of the world, and seq is the list of actions required\n",
    "        to get to a particular state from the initial state(root).\"\"\"\n",
    "        self.state = initial_state\n",
    "        self.goal = goal\n",
    "        self.location = location\n",
    "        self.performance = 100\n",
    "        self.performance_history = []\n",
    "        self.solution = None\n",
    "        self.seq = []\n",
    "        self.tracker = []\n",
    "\n",
    "    def __call__(self, percept):\n",
    "        \"\"\"[Figure 3.1] Formulate a goal and problem, then\n",
    "        search for a sequence of actions to solve it.\"\"\"\n",
    "        self.state = self.update_state(self.state, percept)\n",
    "        if not self.seq:\n",
    "            goal = self.formulate_goal()\n",
    "            problem = self.formulate_problem(self.state, goal)\n",
    "            self.seq = self.search(problem)\n",
    "            if not self.seq:\n",
    "                return None\n",
    "        return self.seq.pop(0)\n",
    "\n",
    "    def update_state(self, state, percept):\n",
    "        loc_row, loc_col = self.location[0], self.location[1]\n",
    "        self.location = (loc_row, loc_col)\n",
    "        self.tracker.append(percept[0])\n",
    "        for p in percept[1]:\n",
    "            if isinstance(p, Grass):\n",
    "                self.performance += 100\n",
    "        self.performance -= 1\n",
    "        self.performance_history.append(self.performance)\n",
    "\n",
    "    def formulate_goal(self):\n",
    "        return self.goal \n",
    "\n",
    "    def formulate_problem(self, state, goal):\n",
    "        return P(initial=state, goal=goal)\n",
    "\n",
    "    def search(self, problem):\n",
    "        self.solution = best_first_graph_search(problem, lambda node: node.state[0].count('G'))\n",
    "        seq = self.get_seq()\n",
    "        print('  > The Sheep planned: ', seq)\n",
    "        return seq\n",
    "\n",
    "    def get_seq(self):\n",
    "        node, actions_executed = self.solution, []\n",
    "        seq = []\n",
    "\n",
    "        while node.parent:\n",
    "            seq.insert(0, node.action)\n",
    "            node = node.parent\n",
    "\n",
    "        return seq \n",
    "\n",
    "initial = ((\n",
    "    0, 0, 'F', 'G', 'G',\n",
    "    0, 0, 'F', 'G', 'G',\n",
    "    0, 0, 'F', 0, 0,\n",
    "    0, 0, 0, 0, 0,\n",
    "    0, 0, 0, 0, 0),\n",
    "    (1, 1)\n",
    ")\n",
    "\n",
    "goal  = (\n",
    "    '0', '0', 'F', '0', '0',\n",
    "    '0', '0', 'F', '0', '0',\n",
    "    '0', '0', 'F', '0', '0',\n",
    "    '0', '0', '0', '0', '0',\n",
    "    '0', '0', '0', '0', '0'\n",
    ")"
   ]
  },
  {
   "cell_type": "code",
   "execution_count": 27,
   "metadata": {},
   "outputs": [
    {
     "name": "stdout",
     "output_type": "stream",
     "text": [
      "  > The Sheep planned:  ['right', 'down', 'down', 'down', 'right', 'right', 'up', 'up', 'eat', 'up', 'eat', 'right', 'eat', 'down', 'eat']\n",
      "\n",
      "Game completed in 15 steps.\n"
     ]
    },
    {
     "data": {
      "image/png": "[encoded data removed]",
      "text/plain": [
       "<Figure size 720x360 with 2 Axes>"
      ]
     },
     "metadata": {
      "needs_background": "light"
     },
     "output_type": "display_data"
    },
    {
     "name": "stdout",
     "output_type": "stream",
     "text": [
      "\n",
      "Sheep spent 0.0 steps on electric fence.\n",
      "\n"
     ]
    }
   ],
   "source": [
    "SIZE = 5\n",
    "sheep = SearchAgent(initial_state=initial, goal=goal, location=[1,1])\n",
    "_1play(sheep, size=SIZE)\n",
    "\n",
    "print('\\nGame completed in {} steps.'.format(len(sheep.tracker)))\n",
    "AgentHeatMap(size=SIZE, agent=sheep, tracker=sheep.tracker)"
   ]
  },
  {
   "cell_type": "markdown",
   "metadata": {},
   "source": [
    "<br>\n",
    "\n",
    "![](./ML_R00183658_EXTRA_DIR/R00183658_reading.png)\n",
    "\n",
    "**A perfect game run**  \n",
    "The heatmap shows how the sheep was guided the shortest path around the fence (without ever touching it) straight to the grass.\n",
    "\n",
    "<br>"
   ]
  },
  {
   "cell_type": "markdown",
   "metadata": {},
   "source": [
    "---\n",
    "---\n",
    "\n",
    "### 1.3  Forward-Chaining and Backward Chaining\n",
    "\n",
    "`NOTE:` Copied from Assignment for reference.\n",
    "\n",
    "Forward-Chaining and Backward-Chaining introduces the capacity for inference in an environment.  How does this benefit the  \n",
    "operation of an agent, in particularly in your world? Provide a short critical analysis of both approaches. Thereafter  \n",
    "demonstrate their applicability by utilising them in your world  \n",
    "(Note: if this requires a bending of the rules in your world that is ok - the important part is the discussion/analysis)."
   ]
  },
  {
   "cell_type": "markdown",
   "metadata": {},
   "source": [
    "<br>\n",
    "\n",
    "![](./ML_R00183658_EXTRA_DIR/R00183658_reading.png)\n",
    "\n",
    "**Introduction**  \n",
    "The introduction of Logic allows an agent to chose actions based on multiple perception along a time line.  \n",
    "Therefore an agent is not bound to the percepts of the current state or data it stored in a model, but the use of logic instead provides  \n",
    "a grammar to build more complex `sentences` describing the world. These sentences about the world can be represent facts the agent knows  \n",
    "(single literals) or clauses involving multiple literals to describe more complex states. Additionally, these sentences are stored in a\n",
    "knowledge base (KB).\n",
    "\n",
    "By carefully modeling the KB and sentences in it, an agent could improve its performance in partially observable worlds when search  \n",
    "is not applicable.\n",
    "\n",
    "In order to use **Forward-Chaining (FC)** or **Backward Chaining (BC)** the above mentioned senteces need to be expressed as `definite` clauses  \n",
    "which are a specialization of **Horn** clauses.\n",
    "- a **definite** clause is a disjunction of literals of which exactly 1 literal is positive and are best described as **implications**\n",
    "- a **Horn** clause is a generalization of a definite clause in which 0 or 1 literals are positive.\n",
    "\n",
    "<br>\n",
    "\n",
    "**Forward-Chaining**  \n",
    "When using Forward-Chaining we have a KB with definite clauses and we ask this KB whether a query **q** is entailed by the content of   \n",
    "the KB. Forward Chaining applies Modus Ponens inference rule to infer knowledge from the sentences the KB includes. It is said to be  \n",
    "a **data-driven** inference, because the whole process starts with the fact the KB knows and then follows the implications that are satisfied  \n",
    "by the fact literals. If **q** is entailed, the KB inference found a chain of Modus Ponens inferences that proof **q**, hence the name  \n",
    "forward-chaining. A disadavantage of FC is that by staring from facts a lot of irrevlant inferences may be executed until finally a statement  \n",
    "can be made whether **q** is entailed or not.\n",
    "\n",
    "**Backward-chaining**  \n",
    "Backward-chaining uses the same operations, but the main difference is that inference starts with the goal, i.e. **q**, and is said to be  \n",
    "**goal-driven**. From the goal the KB first tries to proof the immediate implications that lead to **q** by recursively proofing the implications  \n",
    "backwards to the facts inside the KB. Backward chaining can result in fewer inferences are only relevant inferences are executed: Those that  \n",
    "have implications leading to **q** . E.g. if one of the direct implications leading to **q** are not satisfied, BC stops very quick the inference process.\n",
    "\n",
    "<br>\n",
    "\n",
    "**Applicability to agent world**  \n",
    "For the Sheep World, these inference techniques can be used to infer future states from current and previous percepts and/or knowledge of the world  \n",
    "and thus avoid malicious states.  \n",
    "Imagine a Sheep2.0 that is capable of `sensing` electro-magnetic waves when next to a fence. A rule could say, that once electro-magnetic waves  \n",
    "are noticed, one of the unexplored neighbor locations must include a fence. The sheep can now be very cautious and only choose as next action to  \n",
    "move to locations that are known to be safe, i.e. return to previous location and continue to explore the world further away from risky a shock  \n",
    "by a fence.  \n",
    "In contrast to the search based techniques, now the sheep should be able to walk around the fence without even hitting it.\n"
   ]
  },
  {
   "cell_type": "markdown",
   "metadata": {},
   "source": [
    "<br>\n",
    "\n",
    "![](./ML_R00183658_EXTRA_DIR/R00183658_reading.png)\n",
    "\n",
    "**Sample implementation**  \n",
    "Below I implemented a small FC KB. The search stops when the KB entail the 3 locations of the fence.  \n",
    "To avoid the Fence the sheep now is capable of sensing electro-magnetic waves (EMW) in locations next to a fence.  \n",
    "\n",
    "4 initial clauses have been provided to the KB, each being an implication of a Fence in a location, if there are  \n",
    "electro-magnetic waves in a neighbor location. `DONE` represents the goal, which now is not finding all Grass, but\n",
    "rather locating all Fences."
   ]
  },
  {
   "cell_type": "code",
   "execution_count": 28,
   "metadata": {},
   "outputs": [],
   "source": [
    "def get_percept(location):\n",
    "    percepts = ['EMW01', 'EMW11', 'EMW21', 'EMW32', 'EMW03', 'EMW13', 'EMW23']\n",
    "    e = 'EMW{}{}'.format(location[0],location[1])\n",
    "    return e in percepts\n",
    "\n",
    "def update_KB(KB, location):\n",
    "    if get_percept(location):\n",
    "        KB.tell(expr('EMW{}{}'.format(location[0],location[1])))\n",
    "    else:\n",
    "        id = 'SAFE{}{}'.format(location[0],location[1])\n",
    "        if not pl_fc_entails(sheep_KB, expr(id)):\n",
    "            KB.tell(expr('SAFE{}{}'.format(location[0],location[1])))\n",
    "\n",
    "def next_location(location):\n",
    "    next_list = []\n",
    "    x, y = int(location[0]), int(location[1])\n",
    "    \n",
    "    if x+1 <= 4:\n",
    "        next_list.append([x+1, y])\n",
    "    if y+1 <= 4:\n",
    "        next_list.append([x, y+1])\n",
    "    if x-1 >= 0:\n",
    "        next_list.append([x-1, y])\n",
    "    if y-1 >= 0:\n",
    "        next_list.append([x, y-1])\n",
    "    \n",
    "    return next_list\n",
    "\n",
    "def AgentHeatMap_KB(size, tracker, agent=None, random_game=None):\n",
    "    map = np.zeros((size, size))\n",
    "    for location in tracker:\n",
    "        x, y = location[0], location[1]\n",
    "        map[x][y] +=1\n",
    "        \n",
    "    if not agent:\n",
    "        fig, ax1 = plt.subplots(nrows=1, ncols=1, figsize=(5,5))\n",
    "\n",
    "        im = ax1.imshow(map)\n",
    "        # Loop over data dimensions and create text annotations.\n",
    "        for i in range(size):\n",
    "            for j in range(size):\n",
    "                text = ax1.text(j, i, map[i, j], ha=\"center\", va=\"center\", color=\"w\")\n",
    "        \n",
    "    plt.show()\n",
    "    \n",
    "    if not random_game:\n",
    "        steps_on_fence = map[0][2] + map[1][2] + map[2][2]\n",
    "        print('\\nSheep spent {} steps on electric fence.\\n'.format(steps_on_fence))"
   ]
  },
  {
   "cell_type": "code",
   "execution_count": 29,
   "metadata": {},
   "outputs": [
    {
     "name": "stdout",
     "output_type": "stream",
     "text": [
      "KB: [(((F02 & F12) & F22) ==> DONE), ((EMW01 & EMW03) ==> F02), ((EMW11 & EMW13) ==> F12), (((EMW21 & EMW32) & EMW23) ==> F22)]\n",
      "KB entails all Fences after 389 rounds.\n"
     ]
    }
   ],
   "source": [
    "#####################################\n",
    "#\n",
    "# Using pl_fc_entails from AIMA code\n",
    "#\n",
    "#####################################\n",
    "\n",
    "\n",
    "location = [0,0]\n",
    "tracker = [location]\n",
    "\n",
    "clauses = [\n",
    "    '(F02 & F12 & F22)==>DONE',\n",
    "    '(EMW01 & EMW03)==>F02',\n",
    "    '(EMW11 & EMW13)==>F12',\n",
    "    '(EMW21 & EMW32 & EMW23)==>F22',\n",
    "]\n",
    "\n",
    "sheep_KB = PropDefiniteKB()\n",
    "for clause in clauses:\n",
    "    sheep_KB.tell(expr(clause))\n",
    "\n",
    "print('KB:', sheep_KB.clauses)\n",
    "\n",
    "update_KB(sheep_KB, location)\n",
    "for i in range(1000):\n",
    "    if pl_fc_entails(sheep_KB, expr('EMW{}{}'.format(location[0],location[1]))):\n",
    "        location = tracker[-2]\n",
    "    else:\n",
    "        n = next_location(location)\n",
    "        choice = random.choice(n)\n",
    "        if not pl_fc_entails(sheep_KB, expr('EMW{}{}'.format(choice[0],choice[1]))) or pl_fc_entails(sheep_KB, expr('F{}{}'.format(choice[0],choice[1]))):\n",
    "            location = choice\n",
    "            update_KB(sheep_KB, location)\n",
    "    \n",
    "    tracker.append(location)\n",
    "    \n",
    "    if pl_fc_entails(sheep_KB, expr('DONE')):\n",
    "        print('KB entails all Fences after {} rounds.'.format(i))\n",
    "        break\n"
   ]
  },
  {
   "cell_type": "code",
   "execution_count": 30,
   "metadata": {},
   "outputs": [
    {
     "data": {
      "text/plain": [
       "[(((F02 & F12) & F22) ==> DONE),\n",
       " ((EMW01 & EMW03) ==> F02),\n",
       " ((EMW11 & EMW13) ==> F12),\n",
       " (((EMW21 & EMW32) & EMW23) ==> F22),\n",
       " SAFE00,\n",
       " EMW01,\n",
       " SAFE10,\n",
       " SAFE20,\n",
       " SAFE30,\n",
       " SAFE31,\n",
       " EMW21,\n",
       " EMW32,\n",
       " SAFE40,\n",
       " EMW11,\n",
       " SAFE41,\n",
       " SAFE42,\n",
       " SAFE43,\n",
       " SAFE33,\n",
       " EMW23,\n",
       " SAFE44,\n",
       " SAFE34,\n",
       " SAFE24,\n",
       " SAFE14,\n",
       " EMW13,\n",
       " SAFE04,\n",
       " EMW03]"
      ]
     },
     "execution_count": 30,
     "metadata": {},
     "output_type": "execute_result"
    }
   ],
   "source": [
    "sheep_KB.clauses"
   ]
  },
  {
   "cell_type": "code",
   "execution_count": 31,
   "metadata": {},
   "outputs": [
    {
     "data": {
      "image/png": "[encoded data removed]",
      "text/plain": [
       "<Figure size 360x360 with 1 Axes>"
      ]
     },
     "metadata": {
      "needs_background": "light"
     },
     "output_type": "display_data"
    },
    {
     "name": "stdout",
     "output_type": "stream",
     "text": [
      "\n",
      "Sheep spent 0.0 steps on electric fence.\n",
      "\n"
     ]
    }
   ],
   "source": [
    "AgentHeatMap_KB(5, tracker)"
   ]
  },
  {
   "cell_type": "markdown",
   "metadata": {},
   "source": [
    "<br>\n",
    "\n",
    "![](./ML_R00183658_EXTRA_DIR/R00183658_reading.png)\n",
    "\n",
    "This confirms that making KB-based inference and by making careful decisions when sensing EWR that sheep and move around the  \n",
    "partially observable world without ever hitting a fence. A drawback is the large armount of unneccesary steps currently done"
   ]
  },
  {
   "cell_type": "code",
   "execution_count": null,
   "metadata": {},
   "outputs": [],
   "source": []
  }
 ],
 "metadata": {
  "kernelspec": {
   "display_name": "Python 3",
   "language": "python",
   "name": "python3"
  },
  "language_info": {
   "codemirror_mode": {
    "name": "ipython",
    "version": 3
   },
   "file_extension": ".py",
   "mimetype": "text/x-python",
   "name": "python",
   "nbconvert_exporter": "python",
   "pygments_lexer": "ipython3",
   "version": "3.7.4"
  }
 },
 "nbformat": 4,
 "nbformat_minor": 4
}
