{
 "cells": [
  {
   "cell_type": "markdown",
   "metadata": {},
   "source": [
    "# MISSIONARIES AND CANNIBALS"
   ]
  },
  {
   "cell_type": "markdown",
   "metadata": {},
   "source": [
    "**Formulate the problem precisely, making only those distinctions necessary to ensure a valid solution.**\n",
    "\n",
    "- state Node(m1, c1, b, m2, c2), where \n",
    " - m1,c1 = # of missionaries and cannibals on left river bank\n",
    " - m1,c1 = # of missionaries and cannibals on right river bank\n",
    " - b = boat / 1 = boar in left side, 0 = boat in right side\n",
    "- 1 or too m/c must occupy the boat, The boat cannot cross the river alone\n",
    "- whenever the boat leaves a river bank, missionaries MUST NOT be outnumbered by cannibals\n",
    "\n",
    "Note: The state path output can show events where indeed cannibals outnumber missionaries on a side, but this fact means a cannibal is still sitting in the boat and is considered when selecting the next tour across the river."
   ]
  },
  {
   "cell_type": "code",
   "execution_count": 1,
   "metadata": {},
   "outputs": [],
   "source": [
    "import sys\n",
    "sys.path.append('../..')\n",
    "import numpy as np\n",
    "\n",
    "from search import *"
   ]
  },
  {
   "cell_type": "code",
   "execution_count": 2,
   "metadata": {},
   "outputs": [],
   "source": [
    "# Class MAC implements the specifics of the Missionaries and Cannibals problem.\n",
    "\n",
    "class MAC(Problem):\n",
    "    def actions(self, state):\n",
    "        action_list = []\n",
    "        moves = [[1,1], [1,0], [0,1], [2,0], [0,2]]\n",
    "        \n",
    "        if state[2] == 1:\n",
    "            for move in moves:\n",
    "                result = np.array(state)\n",
    "                result[0:2] -= move\n",
    "                result[3:5] += move\n",
    "                if result[0] >= 0 and result[1] >= 0 and (result[0] == 0 or result[0] >= result[1]):\n",
    "                    action_list.append(list(move))\n",
    "        elif state[2] == 0:\n",
    "            for move in moves:\n",
    "                result = np.array(state)\n",
    "                result[0:2] += move\n",
    "                result[3:5] -= move\n",
    "                if result[3] >= 0 and result[4] >= 0 and (result[3] == 0 or result[3] >= result[4]):\n",
    "                    action_list.append(move)\n",
    "        \n",
    "        return action_list \n",
    "    \n",
    "    def result(self, state, action):\n",
    "        state = np.array(state)\n",
    "        if state[2] == 1:\n",
    "            state[0:2] -= action\n",
    "            state[3:5] += action\n",
    "            state[2] = 0\n",
    "        elif state[2] == 0:\n",
    "            state[0:2] += action\n",
    "            state[3:5] -= action\n",
    "            state[2] = 1\n",
    "        return(tuple(state))\n",
    "    "
   ]
  },
  {
   "cell_type": "markdown",
   "metadata": {},
   "source": [
    "### **Considerations regarding the search algorithms**\n",
    "\n",
    "Note: Space and depth refer to (3,3,1,0,0) initial space\n",
    "\n",
    "- **breadth_first_tree_search**\n",
    " - optimal solution for very small problem (depth 9)\n",
    " - space: 31325 nodes\n",
    " - repeated states due to tree search\n",
    "- **depth_first_tree_search**\n",
    " - does not complete search\n",
    " - space: infinite\n",
    " - repeated states due to tree search\n",
    "- **depth_first_graph_search**\n",
    " - not optimal solution (depth 11)\n",
    " - space: 40 nodes\n",
    "- **breadth_first_graph_search**\n",
    " - optimal solution (depth 9)\n",
    " - space: 65 nodes\n",
    "- **uniform_cost_search**\n",
    " - optimal solution (depth 9)\n",
    " - space: 67 nodes\n",
    "- **depth_limited_search**\n",
    " - not optimal solution (depth 49)\n",
    " - space: 9549 nodes\n",
    "- **iterative_deepening_search**\n",
    " - optimal solution (depth 9)\n",
    " - space: 13851 nodes\n",
    "\n",
    "Given the result breadth_first_graph_search provides the best performance for the Missionary & Cannibals problem. It has slightly higher Space requirements than depth_first_graph_search, but finds an optimal solution.\n",
    "\n",
    "\n",
    "**Test depth_first_graph_search and breadth_first_graph_search with (10,10,1,0,0) initial state**\n",
    "- **depth_first_graph_search**\n",
    " - depth: 41\n",
    " - space: 242 nodes\n",
    "- **breadth_first_graph_search**\n",
    " - depth: 37\n",
    " - space: 254\n"
   ]
  },
  {
   "cell_type": "code",
   "execution_count": 3,
   "metadata": {},
   "outputs": [
    {
     "name": "stdout",
     "output_type": "stream",
     "text": [
      "Solution cost:    9\n",
      "Solution nodes:   count(65)\n",
      "Wall time: 6.08 ms\n"
     ]
    }
   ],
   "source": [
    "%%time\n",
    "\n",
    "mac = MAC(initial=(3,3,1,0,0), goal=(0,0,0,3,3))\n",
    "#solution = breadth_first_tree_search(mac)\n",
    "#solution = depth_first_tree_search(mac)\n",
    "#solution = depth_first_graph_search(mac)\n",
    "solution = breadth_first_graph_search(mac)\n",
    "#solution = uniform_cost_search(mac)\n",
    "#solution = depth_limited_search(mac, limit=50)\n",
    "#solution = iterative_deepening_search(mac)\n",
    "\n",
    "print(\"Solution cost:   \", solution.path_cost)\n",
    "print(\"Solution nodes:  \", solution._ids)"
   ]
  },
  {
   "cell_type": "code",
   "execution_count": 4,
   "metadata": {},
   "outputs": [
    {
     "name": "stdout",
     "output_type": "stream",
     "text": [
      "Reached Node <Node (3, 3, 1, 0, 0)> with action None\n",
      "Reached Node <Node (2, 2, 0, 1, 1)> with action [1, 1]\n",
      "Reached Node <Node (3, 2, 1, 0, 1)> with action [1, 0]\n",
      "Reached Node <Node (2, 1, 0, 1, 2)> with action [1, 1]\n",
      "Reached Node <Node (3, 1, 1, 0, 2)> with action [1, 0]\n",
      "Reached Node <Node (2, 0, 0, 1, 3)> with action [1, 1]\n",
      "Reached Node <Node (3, 0, 1, 0, 3)> with action [1, 0]\n",
      "Reached Node <Node (1, 0, 0, 2, 3)> with action [2, 0]\n",
      "Reached Node <Node (1, 1, 1, 2, 2)> with action [0, 1]\n",
      "Reached Node <Node (0, 0, 0, 3, 3)> with action [1, 1]\n"
     ]
    }
   ],
   "source": [
    "node, actions_executed = solution, []\n",
    "\n",
    "while node:\n",
    "    actions_executed.append((node, node.action))\n",
    "    node = node.parent\n",
    "\n",
    "for n in actions_executed[::-1]:\n",
    "    print('Reached Node {} with action {}'.format(n[0], n[1]))"
   ]
  },
  {
   "cell_type": "code",
   "execution_count": null,
   "metadata": {},
   "outputs": [],
   "source": []
  },
  {
   "cell_type": "code",
   "execution_count": null,
   "metadata": {},
   "outputs": [],
   "source": []
  }
 ],
 "metadata": {
  "kernelspec": {
   "display_name": "Python 3",
   "language": "python",
   "name": "python3"
  },
  "language_info": {
   "codemirror_mode": {
    "name": "ipython",
    "version": 3
   },
   "file_extension": ".py",
   "mimetype": "text/x-python",
   "name": "python",
   "nbconvert_exporter": "python",
   "pygments_lexer": "ipython3",
   "version": "3.7.4"
  }
 },
 "nbformat": 4,
 "nbformat_minor": 4
}
