{
 "cells": [
  {
   "cell_type": "markdown",
   "metadata": {
    "Collapsed": "false"
   },
   "source": [
    "# COMP9016 - Assignment 2\n",
    "## Mike Leske - R00183658"
   ]
  },
  {
   "cell_type": "markdown",
   "metadata": {
    "Collapsed": "false"
   },
   "source": [
    "---\n",
    "<strong style=\"color: red;\">Important Note:</strong>\n",
    "\n",
    "> **This notebook expects the same folder structure as used for assignment 1:**  <p>\n",
    "> `../aima-python/AssignmentTwoSubmissions/<initials_studentID>/ML_R00183658.ipynb`\n",
    ">  \n",
    "> Hence, `sys.path.append('../..')` is used to import AIMA modules from 2 folders up.\n",
    "    \n",
    "---\n",
    "    \n",
    "<br>"
   ]
  },
  {
   "cell_type": "code",
   "execution_count": 1,
   "metadata": {
    "Collapsed": "false"
   },
   "outputs": [],
   "source": [
    "import sys\n",
    "sys.path.append('../..')\n",
    "\n",
    "from probability import *\n",
    "\n",
    "import numpy as np\n",
    "import pandas as pd\n",
    "\n",
    "import random\n",
    "random.seed(123456789)\n",
    "\n",
    "import seaborn as sns\n",
    "import matplotlib.pyplot as plt\n",
    "%matplotlib inline\n",
    "\n",
    "sns.set(style=\"darkgrid\")"
   ]
  },
  {
   "cell_type": "markdown",
   "metadata": {
    "Collapsed": "false"
   },
   "source": [
    "<br>\n",
    "\n",
    "---\n",
    "\n",
    "## 1.1 PROBABILITY DISTRIBUTION TABLE - 5 MARKS"
   ]
  },
  {
   "cell_type": "markdown",
   "metadata": {
    "Collapsed": "false"
   },
   "source": [
    "Each tip is considered a independent variable that is defined by the provided answers.  \n",
    "Therefore, t1..t3 have been implemented as AIMA ProbDist objects with the associated event occurences."
   ]
  },
  {
   "cell_type": "code",
   "execution_count": 2,
   "metadata": {
    "Collapsed": "false"
   },
   "outputs": [],
   "source": [
    "t1 = ProbDist('Tip1', {'never':  1, 'rarely': 4, 'sometimes':  6, 'often': 12, 'always': 23})\n",
    "t2 = ProbDist('Tip2', {'never': 12, 'rarely': 4, 'sometimes': 12, 'often':  4, 'always':  2})\n",
    "t3 = ProbDist('Tip3', {'never': 24, 'rarely': 2, 'sometimes':  5, 'often':  4, 'always':  4})"
   ]
  },
  {
   "cell_type": "markdown",
   "metadata": {
    "Collapsed": "false"
   },
   "source": [
    "<br>\n",
    "\n",
    "The AIMI code ProbDist class automatically calculates probabilities from the absolute values provided above."
   ]
  },
  {
   "cell_type": "code",
   "execution_count": 3,
   "metadata": {
    "Collapsed": "false"
   },
   "outputs": [
    {
     "name": "stdout",
     "output_type": "stream",
     "text": [
      "{'never': 0.021739130434782608, 'rarely': 0.08695652173913043, 'sometimes': 0.13043478260869565, 'often': 0.2608695652173913, 'always': 0.5}\n",
      "{'never': 0.35294117647058826, 'rarely': 0.11764705882352941, 'sometimes': 0.35294117647058826, 'often': 0.11764705882352941, 'always': 0.058823529411764705}\n",
      "{'never': 0.6153846153846154, 'rarely': 0.05128205128205128, 'sometimes': 0.1282051282051282, 'often': 0.10256410256410256, 'always': 0.10256410256410256}\n"
     ]
    }
   ],
   "source": [
    "print(t1.prob)\n",
    "print(t2.prob)\n",
    "print(t3.prob)"
   ]
  },
  {
   "cell_type": "markdown",
   "metadata": {
    "Collapsed": "false"
   },
   "source": [
    "<br>\n",
    "\n",
    "Next, a single pandas Dataframe can be created from the probability values of the 3 ProbDist objects.  \n",
    "seaborn can print the dataframe with color coding to visualize the probability distribution."
   ]
  },
  {
   "cell_type": "code",
   "execution_count": 4,
   "metadata": {
    "Collapsed": "false"
   },
   "outputs": [
    {
     "data": {
      "text/html": [
       "<style  type=\"text/css\" >\n",
       "    #T_964f9482_244e_11ea_a90c_d0c637b54996row0_col0 {\n",
       "            background-color:  #e5e5ff;\n",
       "            color:  #000000;\n",
       "        }    #T_964f9482_244e_11ea_a90c_d0c637b54996row0_col1 {\n",
       "            background-color:  #0000ff;\n",
       "            color:  #f1f1f1;\n",
       "        }    #T_964f9482_244e_11ea_a90c_d0c637b54996row0_col2 {\n",
       "            background-color:  #0000ff;\n",
       "            color:  #f1f1f1;\n",
       "        }    #T_964f9482_244e_11ea_a90c_d0c637b54996row1_col0 {\n",
       "            background-color:  #c7c7ff;\n",
       "            color:  #000000;\n",
       "        }    #T_964f9482_244e_11ea_a90c_d0c637b54996row1_col1 {\n",
       "            background-color:  #b8b8ff;\n",
       "            color:  #000000;\n",
       "        }    #T_964f9482_244e_11ea_a90c_d0c637b54996row1_col2 {\n",
       "            background-color:  #e5e5ff;\n",
       "            color:  #000000;\n",
       "        }    #T_964f9482_244e_11ea_a90c_d0c637b54996row2_col0 {\n",
       "            background-color:  #b1b1ff;\n",
       "            color:  #000000;\n",
       "        }    #T_964f9482_244e_11ea_a90c_d0c637b54996row2_col1 {\n",
       "            background-color:  #0000ff;\n",
       "            color:  #f1f1f1;\n",
       "        }    #T_964f9482_244e_11ea_a90c_d0c637b54996row2_col2 {\n",
       "            background-color:  #c7c7ff;\n",
       "            color:  #000000;\n",
       "        }    #T_964f9482_244e_11ea_a90c_d0c637b54996row3_col0 {\n",
       "            background-color:  #7272ff;\n",
       "            color:  #000000;\n",
       "        }    #T_964f9482_244e_11ea_a90c_d0c637b54996row3_col1 {\n",
       "            background-color:  #b8b8ff;\n",
       "            color:  #000000;\n",
       "        }    #T_964f9482_244e_11ea_a90c_d0c637b54996row3_col2 {\n",
       "            background-color:  #d1d1ff;\n",
       "            color:  #000000;\n",
       "        }    #T_964f9482_244e_11ea_a90c_d0c637b54996row4_col0 {\n",
       "            background-color:  #0000ff;\n",
       "            color:  #f1f1f1;\n",
       "        }    #T_964f9482_244e_11ea_a90c_d0c637b54996row4_col1 {\n",
       "            background-color:  #e5e5ff;\n",
       "            color:  #000000;\n",
       "        }    #T_964f9482_244e_11ea_a90c_d0c637b54996row4_col2 {\n",
       "            background-color:  #d1d1ff;\n",
       "            color:  #000000;\n",
       "        }</style><table id=\"T_964f9482_244e_11ea_a90c_d0c637b54996\" ><thead>    <tr>        <th class=\"blank level0\" ></th>        <th class=\"col_heading level0 col0\" >Tip1</th>        <th class=\"col_heading level0 col1\" >Tip2</th>        <th class=\"col_heading level0 col2\" >Tip3</th>    </tr></thead><tbody>\n",
       "                <tr>\n",
       "                        <th id=\"T_964f9482_244e_11ea_a90c_d0c637b54996level0_row0\" class=\"row_heading level0 row0\" >never</th>\n",
       "                        <td id=\"T_964f9482_244e_11ea_a90c_d0c637b54996row0_col0\" class=\"data row0 col0\" >0.0217391</td>\n",
       "                        <td id=\"T_964f9482_244e_11ea_a90c_d0c637b54996row0_col1\" class=\"data row0 col1\" >0.352941</td>\n",
       "                        <td id=\"T_964f9482_244e_11ea_a90c_d0c637b54996row0_col2\" class=\"data row0 col2\" >0.615385</td>\n",
       "            </tr>\n",
       "            <tr>\n",
       "                        <th id=\"T_964f9482_244e_11ea_a90c_d0c637b54996level0_row1\" class=\"row_heading level0 row1\" >rarely</th>\n",
       "                        <td id=\"T_964f9482_244e_11ea_a90c_d0c637b54996row1_col0\" class=\"data row1 col0\" >0.0869565</td>\n",
       "                        <td id=\"T_964f9482_244e_11ea_a90c_d0c637b54996row1_col1\" class=\"data row1 col1\" >0.117647</td>\n",
       "                        <td id=\"T_964f9482_244e_11ea_a90c_d0c637b54996row1_col2\" class=\"data row1 col2\" >0.0512821</td>\n",
       "            </tr>\n",
       "            <tr>\n",
       "                        <th id=\"T_964f9482_244e_11ea_a90c_d0c637b54996level0_row2\" class=\"row_heading level0 row2\" >sometimes</th>\n",
       "                        <td id=\"T_964f9482_244e_11ea_a90c_d0c637b54996row2_col0\" class=\"data row2 col0\" >0.130435</td>\n",
       "                        <td id=\"T_964f9482_244e_11ea_a90c_d0c637b54996row2_col1\" class=\"data row2 col1\" >0.352941</td>\n",
       "                        <td id=\"T_964f9482_244e_11ea_a90c_d0c637b54996row2_col2\" class=\"data row2 col2\" >0.128205</td>\n",
       "            </tr>\n",
       "            <tr>\n",
       "                        <th id=\"T_964f9482_244e_11ea_a90c_d0c637b54996level0_row3\" class=\"row_heading level0 row3\" >often</th>\n",
       "                        <td id=\"T_964f9482_244e_11ea_a90c_d0c637b54996row3_col0\" class=\"data row3 col0\" >0.26087</td>\n",
       "                        <td id=\"T_964f9482_244e_11ea_a90c_d0c637b54996row3_col1\" class=\"data row3 col1\" >0.117647</td>\n",
       "                        <td id=\"T_964f9482_244e_11ea_a90c_d0c637b54996row3_col2\" class=\"data row3 col2\" >0.102564</td>\n",
       "            </tr>\n",
       "            <tr>\n",
       "                        <th id=\"T_964f9482_244e_11ea_a90c_d0c637b54996level0_row4\" class=\"row_heading level0 row4\" >always</th>\n",
       "                        <td id=\"T_964f9482_244e_11ea_a90c_d0c637b54996row4_col0\" class=\"data row4 col0\" >0.5</td>\n",
       "                        <td id=\"T_964f9482_244e_11ea_a90c_d0c637b54996row4_col1\" class=\"data row4 col1\" >0.0588235</td>\n",
       "                        <td id=\"T_964f9482_244e_11ea_a90c_d0c637b54996row4_col2\" class=\"data row4 col2\" >0.102564</td>\n",
       "            </tr>\n",
       "    </tbody></table>"
      ],
      "text/plain": [
       "<pandas.io.formats.style.Styler at 0x1a51f3b3fc8>"
      ]
     },
     "execution_count": 4,
     "metadata": {},
     "output_type": "execute_result"
    }
   ],
   "source": [
    "distTable = pd.DataFrame(data=t1.prob.values(), index=t1.prob.keys(), columns=['Tip1'])\n",
    "distTable['Tip2'] = t2.prob.values()\n",
    "distTable['Tip3'] = t3.prob.values()\n",
    "#print(distTable)\n",
    "\n",
    "cm = sns.light_palette(\"blue\", as_cmap=True)\n",
    "sns_distTable = distTable.style.background_gradient(cmap=cm)\n",
    "sns_distTable"
   ]
  },
  {
   "cell_type": "markdown",
   "metadata": {
    "Collapsed": "false"
   },
   "source": [
    "<br>\n",
    "\n",
    "pandas can also plot a bar diagram from the dataframe."
   ]
  },
  {
   "cell_type": "code",
   "execution_count": 5,
   "metadata": {
    "Collapsed": "false"
   },
   "outputs": [
    {
     "data": {
      "text/plain": [
       "<matplotlib.legend.Legend at 0x1a51f809bc8>"
      ]
     },
     "execution_count": 5,
     "metadata": {},
     "output_type": "execute_result"
    },
    {
     "data": {
      "image/png": "[encoded data removed]",
      "text/plain": [
       "<Figure size 1008x432 with 1 Axes>"
      ]
     },
     "metadata": {
      "needs_background": "light"
     },
     "output_type": "display_data"
    }
   ],
   "source": [
    "ax = distTable.plot.bar(figsize=(14,6), cmap=\"Paired\")\n",
    "ax.set_title('Distribution for 3 tips from students', fontsize=14)\n",
    "ax.set_ylabel('Probability')\n",
    "\n",
    "box = ax.get_position()\n",
    "ax.set_position([box.x0, box.y0, box.width * 0.8, box.height])\n",
    "ax.legend(loc='center left', bbox_to_anchor=(1, 0.5))"
   ]
  },
  {
   "cell_type": "markdown",
   "metadata": {
    "Collapsed": "false"
   },
   "source": [
    "<br>\n",
    "\n",
    "---\n",
    "\n",
    "## 1.2 BAYESIAN NETWORKS - 20 MARKS\n",
    "\n",
    "You have been given the following Random Variables:\n",
    "- Fossil Fuels\n",
    "- AI\n",
    "- GlobalWarming\n",
    "- Renewable Energy\n",
    "- Traffic\n",
    "- Employed\n",
    "\n",
    "Construct a model of the world using these variables (Note: this is subjective but there should  \n",
    "be a rationale behind your world view and your thought process articulated). Implement a  \n",
    "Bayesian Network using the BayesNet class from the AIMA.\n",
    "- Provide a visual depiction of the network\n",
    "- Detail the associated Conditional Probability Tables.\n",
    "- Demonstrate querying the network."
   ]
  },
  {
   "cell_type": "markdown",
   "metadata": {
    "Collapsed": "false"
   },
   "source": [
    "### Visual depiction and rational\n",
    "\n",
    "![](./ML_R00183658_EXTRA_DIR/bayesian_net_climate.png)\n",
    "\n"
   ]
  },
  {
   "cell_type": "markdown",
   "metadata": {
    "Collapsed": "false"
   },
   "source": [
    "**The central question to predict is whether a powerful form of AI will be developed soon.**  \n",
    "\n",
    "The uprising of such strong **AI** depends on 2 critical factors: \n",
    "1. The **Employment** of all CIT AI students and \n",
    "2. the **Global Warming**.\n",
    "\n",
    "> **Note**: The event \"Global Warming\" is treated as crossing the 2 degree celsius threshold.\n",
    "\n",
    "<br>\n",
    "\n",
    "Clearly, when all CIT AI students are employed and work towards achieving strong AI, there is a high probabality we will see strong **AI**.  \n",
    "\n",
    "However, **Global Warming** has the potential for unseen social and economic changes that may result in riots, unemployment and many other progression-limiting outcomes.\n",
    "\n",
    "> To be precise, if we can prevent Global Warming then chances are high all CIT AI students will be employed in a research-friendly economy.   \n",
    "> Likewise, the prevention of Global Warming provides a good general economic ecosystem for strong AI to arise.  \n",
    "> If we cannot  prevent Global Warming all hell breaks loose and the unemployment of CIT AI students will only be a minor problem.  \n",
    "> In general, there won't be much resources left for anyone to work on AI. But CIT AI students can still make the difference if they find employment.\n",
    "\n",
    "As we know it, **Global Warming** is related to \"traffic\"/mobility and the energy mix mankind uses.  \n",
    "\n",
    "> A high amount of **Traffic** may or may not increase the risk of global warming. It still depends on how vehicles are powered.  \n",
    "But being able to drastically reduce traffic, will certainly have a positive effect on fighting Global Warming.  \n",
    "Here, the probability of **Traffic** expressed the believe that personal traffic can be drastically reduced, e.g. more public transport, car sharing...\n",
    "\n",
    "> Reducing the emissions from **Fossil Fuels** has a strong impact whether Global Warming will happen.  \n",
    "Unfortunately many people in industry and politics enjoy smoking dirty coal in Shisha bars after work. Sigh.  \n",
    "Here, the probability of **Fossil Fuels** expresses the believe that policy makers find ways for mankind to drastically reduce the usage of Fossil Fuels.\n",
    "\n",
    "> If we are able to develop rich sources of **Renewable Energy** and make them available, then even a high amount of Traffic will not \n",
    "neccessarily lead to Global Warming.  \n",
    "Here, the probability of **Renewable Energy** expresses the believe that we'll develop technology so that Renewable Energy will have a much larger share   \n",
    "of the world's energy mix.  \n",
    "\n",
    "<br>"
   ]
  },
  {
   "cell_type": "markdown",
   "metadata": {
    "Collapsed": "false"
   },
   "source": [
    "### Detail the associated Conditional Probability Tables\n",
    "\n",
    "**Fossil Fuels**\n",
    "\n",
    "| False | True |\n",
    "|-------|------|\n",
    "| 0.75  | 0.25 |\n",
    "\n",
    "**Traffic**\n",
    "\n",
    "| False | True |\n",
    "|-------|------|\n",
    "| 0.4   | 0.6  |\n",
    "\n",
    "**Rebewable Energy**\n",
    "\n",
    "| False | True |\n",
    "|-------|------|\n",
    "| 0.6   | 0.4  |\n",
    "\n",
    "**Global Warning**\n",
    "\n",
    "| Fossil Fuels | Traffic | Renewable Energy | Global Warming |\n",
    "|--------------|---------|------------------|----------------|\n",
    "| True         | True    | True             | 0.001          |\n",
    "| True         | True    | False            | 0.4            |\n",
    "| True         | False   | True             | 0.2            |\n",
    "| True         | False   | False            | 0.4            |\n",
    "| False        | True    | True             | 0.25           |\n",
    "| False        | True    | False            | 0.8            |\n",
    "| False        | False   | True             | 0.75           |\n",
    "| False        | False   | False            | 0.999          |\n",
    "\n",
    "**Employed**\n",
    "\n",
    "| Global Warming | Employed |\n",
    "|----------------|----------|\n",
    "| True           | 0.2      |\n",
    "| False          | 0.8      |\n",
    "\n",
    "**AI**\n",
    "\n",
    "| Employed | Global Warming | AI   |\n",
    "|----------|----------------|------|\n",
    "| True     | True           | 0.5  |\n",
    "| True     | False          | 0.9  |\n",
    "| False    | True           | 0.05 |\n",
    "| False    | False          | 0.1  |"
   ]
  },
  {
   "cell_type": "code",
   "execution_count": 6,
   "metadata": {
    "Collapsed": "false"
   },
   "outputs": [],
   "source": [
    "# Fossil_Fuels = Probability to drastically reduce Fossil_Fuels\n",
    "# Traffic = Probability to drastically reduce traffic (e.g. more public transport, car sharing)\n",
    "# Renewable_Energy = Probability to increase share of renewables in global energy mix\n",
    "\n",
    "T, F = True, False\n",
    "\n",
    "agi = BayesNet([\n",
    "    ('Fossil_Fuels', '', 0.25),\n",
    "    ('Traffic', '', 0.6),\n",
    "    ('Renewable_Energy', '', 0.4),\n",
    "    ('Global_Warming', 'Fossil_Fuels Traffic Renewable_Energy',\n",
    "     {(T, T, T): 0.001, (T, T, F): 0.4, (T, F, T): 0.2, (T, F, F): 0.4, (F, T, T): 0.25, (F, T, F): 0.8, (F, F, T): 0.75, (F, F, F): 0.999}),\n",
    "    ('Employed', 'Global_Warming', {T: 0.2, F: 0.8}),\n",
    "    ('AI', 'Employed Global_Warming', {(T, T): 0.5, (T, F): 0.9, (F, T): 0.05, (F, F): 0.1})\n",
    "])"
   ]
  },
  {
   "cell_type": "code",
   "execution_count": 7,
   "metadata": {
    "Collapsed": "false"
   },
   "outputs": [
    {
     "data": {
      "text/plain": [
       "BayesNet([('Fossil_Fuels', ''), ('Traffic', ''), ('Renewable_Energy', ''), ('Global_Warming', 'Fossil_Fuels Traffic Renewable_Energy'), ('Employed', 'Global_Warming'), ('AI', 'Employed Global_Warming')])"
      ]
     },
     "execution_count": 7,
     "metadata": {},
     "output_type": "execute_result"
    }
   ],
   "source": [
    "agi"
   ]
  },
  {
   "cell_type": "code",
   "execution_count": 8,
   "metadata": {
    "Collapsed": "false"
   },
   "outputs": [
    {
     "data": {
      "text/plain": [
       "{(True, True, True): 0.001,\n",
       " (True, True, False): 0.4,\n",
       " (True, False, True): 0.2,\n",
       " (True, False, False): 0.4,\n",
       " (False, True, True): 0.25,\n",
       " (False, True, False): 0.8,\n",
       " (False, False, True): 0.75,\n",
       " (False, False, False): 0.999}"
      ]
     },
     "execution_count": 8,
     "metadata": {},
     "output_type": "execute_result"
    }
   ],
   "source": [
    "agi.variable_node('Global_Warming').cpt"
   ]
  },
  {
   "cell_type": "markdown",
   "metadata": {
    "Collapsed": "false"
   },
   "source": [
    "---\n",
    "\n",
    "### Demonstrate querying the network\n",
    "\n",
    "Inference from a Bayesian Network can be done either via exact methodologies, or approximative algorithms, e.g sampling.\n",
    "\n",
    "The first query uses \"enumaration_ask\" to provide the exact probability of \"AI\" happening, when \"Global Warming\" and \"Employment\" happen.  \n",
    "The remaining queries use likelihood weighting. Likelihood Weighting estimates the likelihood of a variable X, e.g. \"AI\" given provided evidences by sampling events from the Bayesian Network.\n",
    "\n",
    "\n",
    "<br>\n",
    "\n",
    "##### Let's ask the BN whether AI will happen if Global Warming is True and CIT students are Emplyoed."
   ]
  },
  {
   "cell_type": "code",
   "execution_count": 9,
   "metadata": {
    "Collapsed": "false"
   },
   "outputs": [
    {
     "data": {
      "text/plain": [
       "0.5"
      ]
     },
     "execution_count": 9,
     "metadata": {},
     "output_type": "execute_result"
    }
   ],
   "source": [
    "ask = enumeration_ask('AI', {'Global_Warming': True, 'Employed': True}, agi)\n",
    "ask[True]"
   ]
  },
  {
   "cell_type": "markdown",
   "metadata": {
    "Collapsed": "false"
   },
   "source": [
    "The answer is 0.5 and reflects exactly the conditional probability table for bayesian node AI.\n",
    "\n",
    "---\n",
    "<br>\n",
    "\n",
    "##### Next, let's ask the BN whether AI will happen if we fail to cut back on Fossil Fuels, fail reducing Traffic and we fail to develop large-scale Renewable Energy."
   ]
  },
  {
   "cell_type": "code",
   "execution_count": 10,
   "metadata": {
    "Collapsed": "false"
   },
   "outputs": [
    {
     "data": {
      "text/plain": [
       "0.14079999999999873"
      ]
     },
     "execution_count": 10,
     "metadata": {},
     "output_type": "execute_result"
    }
   ],
   "source": [
    "ask = likelihood_weighting('AI', dict(Fossil_Fuels=False, Traffic=False, Renewable_Energy=False), agi, 10000)\n",
    "ask[True]"
   ]
  },
  {
   "cell_type": "markdown",
   "metadata": {
    "Collapsed": "false"
   },
   "source": [
    "~14% probability of achieving AI is not much. Sigh.\n",
    "\n",
    "---\n",
    "<br>\n",
    "\n",
    "##### So will AI happen if we manage reducing the use of Fossil Fuels, Traffic remains as worse as it is and we are able to develop large-scale Renewable Energy."
   ]
  },
  {
   "cell_type": "code",
   "execution_count": 11,
   "metadata": {
    "Collapsed": "false"
   },
   "outputs": [
    {
     "data": {
      "text/plain": [
       "0.6176999999999798"
      ]
     },
     "execution_count": 11,
     "metadata": {},
     "output_type": "execute_result"
    }
   ],
   "source": [
    "ask = likelihood_weighting('AI', dict(Fossil_Fuels=True, Traffic=False, Renewable_Energy=True), agi, 10000)\n",
    "ask[True]"
   ]
  },
  {
   "cell_type": "markdown",
   "metadata": {
    "Collapsed": "false"
   },
   "source": [
    "~62% chance of achieving strong AI. That sounds much better.\n",
    "\n",
    "---\n",
    "<br>\n",
    "\n",
    "##### Why is that? Let's see the probability of Global Warming in this scenario."
   ]
  },
  {
   "cell_type": "code",
   "execution_count": 12,
   "metadata": {
    "Collapsed": "false"
   },
   "outputs": [
    {
     "data": {
      "text/plain": [
       "0.2000999999999946"
      ]
     },
     "execution_count": 12,
     "metadata": {},
     "output_type": "execute_result"
    }
   ],
   "source": [
    "ask = likelihood_weighting('Global_Warming', dict(Fossil_Fuels=True, Traffic=False, Renewable_Energy=True), agi, 10000)\n",
    "ask[True]"
   ]
  },
  {
   "cell_type": "markdown",
   "metadata": {
    "Collapsed": "false"
   },
   "source": [
    "##### Aha! In this scenario the risk of Global Warming (of 2 degrees) is reduced to ~20% and we know this helps CIT students do AI research.\n",
    "\n",
    "<br>"
   ]
  },
  {
   "cell_type": "code",
   "execution_count": 13,
   "metadata": {
    "Collapsed": "false"
   },
   "outputs": [
    {
     "data": {
      "text/plain": [
       "0.6851999999999796"
      ]
     },
     "execution_count": 13,
     "metadata": {},
     "output_type": "execute_result"
    }
   ],
   "source": [
    "ask = likelihood_weighting('Employed', dict(Fossil_Fuels=True, Traffic=False, Renewable_Energy=True), agi, 10000)\n",
    "ask[True]"
   ]
  },
  {
   "cell_type": "markdown",
   "metadata": {
    "Collapsed": "false"
   },
   "source": [
    "As expected. Good chances for \"Employment\" of CIT AI students.\n",
    "\n",
    "---\n",
    "<br>\n",
    "\n",
    "##### Now, let's have the odds play out. Will Global Warming be higher than 2 degree celcius if we do not make assuptions on any of the 3 evidences?"
   ]
  },
  {
   "cell_type": "code",
   "execution_count": 14,
   "metadata": {
    "Collapsed": "false"
   },
   "outputs": [
    {
     "data": {
      "text/plain": [
       "0.5961"
      ]
     },
     "execution_count": 14,
     "metadata": {},
     "output_type": "execute_result"
    }
   ],
   "source": [
    "ask = likelihood_weighting('Global_Warming', dict(), agi, 10000)\n",
    "ask[True]"
   ]
  },
  {
   "cell_type": "markdown",
   "metadata": {
    "Collapsed": "false"
   },
   "source": [
    "Oops. The believes about the evidences let the Bayesian Network concludes we'll shoot straight through that threshold.\n",
    "\n",
    "Will the CIT AI students find good jobs?"
   ]
  },
  {
   "cell_type": "code",
   "execution_count": 15,
   "metadata": {
    "Collapsed": "false"
   },
   "outputs": [
    {
     "data": {
      "text/plain": [
       "0.4387"
      ]
     },
     "execution_count": 15,
     "metadata": {},
     "output_type": "execute_result"
    }
   ],
   "source": [
    "ask = likelihood_weighting('Employed', dict(), agi, 10000)\n",
    "ask[True]"
   ]
  },
  {
   "cell_type": "markdown",
   "metadata": {
    "Collapsed": "false"
   },
   "source": [
    "Not a promising scenario. But not surprising either knowing that with ~60% probability the Global Warning will be beyond the threshold.\n",
    "\n",
    "So then, what are chances we'll see strong AI soon simply based on the believes for Fossil_Fuels, Traffic and Renewable_Energy."
   ]
  },
  {
   "cell_type": "code",
   "execution_count": 16,
   "metadata": {
    "Collapsed": "false"
   },
   "outputs": [
    {
     "data": {
      "text/plain": [
       "0.3744"
      ]
     },
     "execution_count": 16,
     "metadata": {},
     "output_type": "execute_result"
    }
   ],
   "source": [
    "ask = likelihood_weighting('AI', dict(), agi, 10000)\n",
    "ask[True]"
   ]
  },
  {
   "cell_type": "markdown",
   "metadata": {
    "Collapsed": "false"
   },
   "source": [
    "Hmm, less than 40% probabibility.\n",
    "\n",
    "<br>\n",
    "\n",
    "Probably still good enough to collect billions of dollars investment capital in Silicon Valley.  \n",
    "So can't wait for next semester to start. \n",
    "\n",
    ":-)"
   ]
  },
  {
   "cell_type": "markdown",
   "metadata": {
    "Collapsed": "false"
   },
   "source": [
    "<br>\n",
    "\n",
    "---\n",
    "\n",
    "# 2 Q2 - LEARNING: DEVELOPING AND EVALUATING A MODEL"
   ]
  },
  {
   "cell_type": "markdown",
   "metadata": {
    "Collapsed": "false"
   },
   "source": [
    "Choose two appropriate multivariate datasets with a limited number of classes from: https://archive.ics.uci.edu/ml/index.php\n",
    "\n",
    "- Compute the “Prior” probabilities for each of the classes.\n",
    "- Compute the probability of evidence.\n",
    "- Compute the probability of likelihood of evidences (numerator).\n",
    "\n",
    "Articulate your understanding of each as applied to Bayesian networks.  \n",
    "Tip: Demonstrate the suitability of a dataset or highlight why it is not suitable. Use appropriate visualisations to aid your rationale."
   ]
  },
  {
   "cell_type": "markdown",
   "metadata": {
    "Collapsed": "false"
   },
   "source": [
    "<br>\n",
    "<strong style=\"color: red;\">Important Note:</strong>\n",
    "\n",
    "> Due to my decision to implement Naive Bayes myself I cannot fully follow the outline of separating 3.1 from 3.2.  \n",
    "> The remainer of the Jupyter Notebook follows the following structure:  \n",
    "> 1. Articulate your understanding of each as applied to Bayesian networks.  \n",
    "> 2. Implement Naive Bayes class including .fit (learner function) and .predict (prediction function)  \n",
    "> **3. Dataset 1**  \n",
    "> 3.1 Fit dataset  \n",
    "> 3.2 Compute and visualize probabilities of dataset  \n",
    "> 3.3 Make predictions and evaluate performance  \n",
    "> 3.4 Discuss the suitability of a dataset  \n",
    "> **4. Dataset 2**  \n",
    "> 4.1 Fit dataset  \n",
    "> 4.2 Compute and visualize probabilities of dataset  \n",
    "> 4.3 Make predictions and evaluate performance  \n",
    "> 4.4 Discuss the suitability of a dataset   \n",
    "\n",
    "<br>"
   ]
  },
  {
   "cell_type": "markdown",
   "metadata": {
    "Collapsed": "false"
   },
   "source": [
    "---\n",
    "\n",
    "### 1. Articulate your understanding of each as applied to Bayesian networks. \n",
    "\n",
    "**Prior**\n",
    "- Defines the probability of classes/hypotheses without any additional information (evidences)\n",
    "\n",
    "**Probability of evidence**\n",
    "- Marginal probability of the observed information/feature(s).\n",
    "- Acts as normalization factor and is the same for all possible classes/hypotheses.\n",
    "- The same for calculating class probabilities, so usually left out of calculations.\n",
    "\n",
    "**Probability of likelihood of evidence**\n",
    "- Defines the conditional probability of an evidence given a hypothesis.\n",
    "- That is: Knowing the evidence, what is the probability of a class/hypothesis.\n"
   ]
  },
  {
   "cell_type": "markdown",
   "metadata": {
    "Collapsed": "false"
   },
   "source": [
    "#### Applicability to Bayesian Networks\n",
    "\n",
    "In a Bayesian Network random variables (evidences/features) of a given problem domain are represented as nodes.  \n",
    "Nodes are connected to each other to each other via edges forming a directed acyclic graph if direct interaction (dependence) is given.  \n",
    "An edge from node X to node Y indicate, that P(Y) is dependent on X (or X has an effect on Y) and X is called a Parent of Y.  \n",
    "\n",
    "A key assumption in a Bayesian Network is that each variable is conditionally independent of its non-descendants, given its parents.   \n",
    "\n",
    "$P(x_{1}, x_{2},...x_{_{n}})=\\prod_{i=1}^{n}P(x_{i}|parents(X_{i})))$\n",
    "\n",
    "<br>\n",
    "This way the complexity of a given domain is reduced to \"root nodes\" and \"local\" conditional probabilities.  \n",
    "The Bayesian Network has still the power to represent a full joint distribution by factoring local conditional probabilies, effectively implementing the Chain Rule.  \n",
    "<br>\n",
    "<br>\n",
    "\n",
    "In order to allow probability computation in a Bayesian Network one need to provide:\n",
    "\n",
    "- **Marginal probabilities (of evidence)** for all *root nodes* (without parents)\n",
    "- **Conditional probabilities** of all *non-root nodes* given all possible combinations of their parents"
   ]
  },
  {
   "cell_type": "markdown",
   "metadata": {
    "Collapsed": "false"
   },
   "source": [
    "---\n",
    "\n",
    "### 2. Implement Naive Bayes Learner"
   ]
  },
  {
   "cell_type": "code",
   "execution_count": 17,
   "metadata": {
    "Collapsed": "false"
   },
   "outputs": [],
   "source": [
    "from collections import defaultdict\n",
    "\n",
    "#from learning import *\n",
    "\n",
    "from sklearn.metrics import accuracy_score\n",
    "from sklearn.metrics import classification_report\n",
    "from sklearn.metrics import multilabel_confusion_matrix, confusion_matrix"
   ]
  },
  {
   "cell_type": "code",
   "execution_count": 18,
   "metadata": {
    "Collapsed": "false"
   },
   "outputs": [],
   "source": [
    "class NaiveBayes():\n",
    "    \"\"\"\n",
    "    A simple implementation of the Naive Bayes algorithm.\n",
    "\n",
    "    Parameters\n",
    "    ------------\n",
    "    None\n",
    "\n",
    "    Attributes\n",
    "    -----------\n",
    "    p_ : dictionary\n",
    "      Conditional probabilities after fitting the data\n",
    "    target_ : str\n",
    "      target feature class\n",
    "    \"\"\"\n",
    "    \n",
    "    def __init__(self):\n",
    "        self.df = None\n",
    "        self.p_ = None\n",
    "        self.s1_ = 0\n",
    "        self.s2_ = 0\n",
    "    \n",
    "    def fit(self, df, target, smoothing=None):\n",
    "        \"\"\" Fit the training data.\n",
    "        \"\"\"\n",
    "        self.df = df\n",
    "        self.target_ = target\n",
    "        \n",
    "        \"\"\" Initialize probability datastore for 'prior', 'likelihood' and 'evidence'\n",
    "        \"\"\"\n",
    "        self.p_ = defaultdict()\n",
    "        self.p_['prior'] = defaultdict()\n",
    "        self.p_['likelihood'] = defaultdict()\n",
    "        self.p_['evidence'] = defaultdict()\n",
    "        \n",
    "        if smoothing == 'plus1':\n",
    "            self.s1_ = 1\n",
    "            self.s2_ = 2\n",
    "        elif smoothing == 'laplace':\n",
    "            self.s1_ = 1\n",
    "            self.s2_ = df.shape[1]\n",
    "        \n",
    "        for c in self.df[target].unique():\n",
    "            \"\"\" Get dataset records that apply given target 'class'\n",
    "            \"\"\"\n",
    "            target_c = self.df[df[target] == c].shape[0]\n",
    "            \n",
    "            \"\"\" Get the prior probability for a given class\n",
    "            \"\"\"\n",
    "            self.p_['prior'][c] = (target_c + self.s1_) / (self.df.shape[0] + self.s2_)\n",
    "            \n",
    "            \"\"\" For each target class, calculate the conditional probability for all evidences and their conditions\n",
    "            \"\"\"\n",
    "            self.p_['likelihood'][c] = defaultdict()\n",
    "            for f in self.df.columns:\n",
    "                if not f == self.target_:\n",
    "                    for f_cond in self.df[f].unique():\n",
    "                        self.p_['likelihood'][c]['p_{}_{}'.format(f, f_cond)] = (self.df[(self.df[f] == f_cond) & (self.df[target] == c)].shape[0] + self.s1_) / (target_c + self.s2_)\n",
    "        \n",
    "        \"\"\" Calculate Probability of evidences / marginal evidence probabilities\n",
    "        \"\"\"\n",
    "        for f in self.df.columns:\n",
    "            if not f == self.target_:\n",
    "                for f_cond in self.df[f].unique():\n",
    "                    self.p_['evidence']['p_{}_{}'.format(f, f_cond)] = (self.df[(self.df[f] == f_cond)].shape[0] + self.s1_) / (df.shape[0] + self.s2_)\n",
    "        \n",
    "        return self\n",
    "        \n",
    "    def predict(self, evidences, no_prior=False):\n",
    "        \"\"\" Predicting with a condition.\n",
    "        \"\"\"\n",
    "        pred_ = defaultdict()\n",
    "        for c in self.df[self.target_].unique():\n",
    "            \"\"\" Get prior probability for class c\n",
    "            \"\"\"\n",
    "            if no_prior:\n",
    "                p = 1\n",
    "            else:\n",
    "                p = self.p_['prior'][c]\n",
    "            \n",
    "            \"\"\" For all evidences, apply chain rule with conditionally independent likelihoods\n",
    "            \"\"\"\n",
    "            for f in evidences.keys():\n",
    "                p *= self.p_['likelihood'][c]['p_{}_{}'.format(f, evidences[f])]\n",
    "            pred_[c] = p\n",
    "            \n",
    "        \"\"\" Normalize the class probabilities\n",
    "        \"\"\"\n",
    "        pred_sum = sum(pred_.values())\n",
    "        for c in pred_.keys():\n",
    "            pred_[c] = pred_[c] / pred_sum\n",
    "\n",
    "        return max(pred_, key=pred_.get), dict(pred_)"
   ]
  },
  {
   "cell_type": "markdown",
   "metadata": {
    "Collapsed": "false"
   },
   "source": [
    "<br>\n",
    "\n",
    "#### Explanation for above code:\n",
    "\n",
    "The class NaiveBayes comes with two functions:\n",
    "- `fit` implements the learning component, calculating probabilities for a given dataset\n",
    "- `predict` accecpts evidences (conditions) as input and outputs the highest probabilit class and a dictionary with probabilities for each class (e.g. for debugging)\n",
    "\n",
    "<br>\n",
    "\n",
    "Within the `fit` function the a datastore (dictionary) `p_` to hold probabilities is initiated. This datastore gets filled subsequently with:\n",
    "- The target classes' **prior probabilities**\n",
    "- The **conditional probabilities** (probability of likelihood of evidence) for evidences per class\n",
    "- The **probabilities of evidences** (only for documentation purposed as not required for later inference)\n",
    "\n",
    "<br>\n",
    "\n",
    "Optionally smoothing can be activated during learning/fitting. This will slightly shift probabilities to avoid 0 probabilities in absence of certain records.\n",
    "\n",
    "<br>\n",
    "\n",
    "The `predict` function implements the following 2 tasks:\n",
    "- Multiplication for each target class of 'prior' and 'likelihood of evidence' (conditional) probabilities\n",
    "- The multiplication is possible due to Naive Bayes conditional independence assumption.\n",
    "- Normalization over all class probabilities.\n",
    "- The predict function by default considers the classes' prior priobability, but the `no_prior` flag can change this behaviouor (used for balance-scale dataset)"
   ]
  },
  {
   "cell_type": "markdown",
   "metadata": {
    "Collapsed": "false"
   },
   "source": [
    "---\n",
    "\n",
    "### **Dataset 1**\n",
    "\n",
    "**Lenses Data Set**  \n",
    "https://archive.ics.uci.edu/ml/datasets/lenses\n",
    "\n",
    "#### Load dataset and print dataframe."
   ]
  },
  {
   "cell_type": "code",
   "execution_count": 19,
   "metadata": {
    "Collapsed": "false"
   },
   "outputs": [
    {
     "data": {
      "text/html": [
       "<div>\n",
       "<style scoped>\n",
       "    .dataframe tbody tr th:only-of-type {\n",
       "        vertical-align: middle;\n",
       "    }\n",
       "\n",
       "    .dataframe tbody tr th {\n",
       "        vertical-align: top;\n",
       "    }\n",
       "\n",
       "    .dataframe thead th {\n",
       "        text-align: right;\n",
       "    }\n",
       "</style>\n",
       "<table border=\"1\" class=\"dataframe\">\n",
       "  <thead>\n",
       "    <tr style=\"text-align: right;\">\n",
       "      <th></th>\n",
       "      <th>age</th>\n",
       "      <th>prescription</th>\n",
       "      <th>astigmatic</th>\n",
       "      <th>tear_rate</th>\n",
       "      <th>class</th>\n",
       "    </tr>\n",
       "  </thead>\n",
       "  <tbody>\n",
       "    <tr>\n",
       "      <td>1</td>\n",
       "      <td>1</td>\n",
       "      <td>1</td>\n",
       "      <td>1</td>\n",
       "      <td>1</td>\n",
       "      <td>3</td>\n",
       "    </tr>\n",
       "    <tr>\n",
       "      <td>2</td>\n",
       "      <td>1</td>\n",
       "      <td>1</td>\n",
       "      <td>1</td>\n",
       "      <td>2</td>\n",
       "      <td>2</td>\n",
       "    </tr>\n",
       "    <tr>\n",
       "      <td>3</td>\n",
       "      <td>1</td>\n",
       "      <td>1</td>\n",
       "      <td>2</td>\n",
       "      <td>1</td>\n",
       "      <td>3</td>\n",
       "    </tr>\n",
       "    <tr>\n",
       "      <td>4</td>\n",
       "      <td>1</td>\n",
       "      <td>1</td>\n",
       "      <td>2</td>\n",
       "      <td>2</td>\n",
       "      <td>1</td>\n",
       "    </tr>\n",
       "    <tr>\n",
       "      <td>5</td>\n",
       "      <td>1</td>\n",
       "      <td>2</td>\n",
       "      <td>1</td>\n",
       "      <td>1</td>\n",
       "      <td>3</td>\n",
       "    </tr>\n",
       "    <tr>\n",
       "      <td>6</td>\n",
       "      <td>1</td>\n",
       "      <td>2</td>\n",
       "      <td>1</td>\n",
       "      <td>2</td>\n",
       "      <td>2</td>\n",
       "    </tr>\n",
       "    <tr>\n",
       "      <td>7</td>\n",
       "      <td>1</td>\n",
       "      <td>2</td>\n",
       "      <td>2</td>\n",
       "      <td>1</td>\n",
       "      <td>3</td>\n",
       "    </tr>\n",
       "    <tr>\n",
       "      <td>8</td>\n",
       "      <td>1</td>\n",
       "      <td>2</td>\n",
       "      <td>2</td>\n",
       "      <td>2</td>\n",
       "      <td>1</td>\n",
       "    </tr>\n",
       "    <tr>\n",
       "      <td>9</td>\n",
       "      <td>2</td>\n",
       "      <td>1</td>\n",
       "      <td>1</td>\n",
       "      <td>1</td>\n",
       "      <td>3</td>\n",
       "    </tr>\n",
       "    <tr>\n",
       "      <td>10</td>\n",
       "      <td>2</td>\n",
       "      <td>1</td>\n",
       "      <td>1</td>\n",
       "      <td>2</td>\n",
       "      <td>2</td>\n",
       "    </tr>\n",
       "    <tr>\n",
       "      <td>11</td>\n",
       "      <td>2</td>\n",
       "      <td>1</td>\n",
       "      <td>2</td>\n",
       "      <td>1</td>\n",
       "      <td>3</td>\n",
       "    </tr>\n",
       "    <tr>\n",
       "      <td>12</td>\n",
       "      <td>2</td>\n",
       "      <td>1</td>\n",
       "      <td>2</td>\n",
       "      <td>2</td>\n",
       "      <td>1</td>\n",
       "    </tr>\n",
       "    <tr>\n",
       "      <td>13</td>\n",
       "      <td>2</td>\n",
       "      <td>2</td>\n",
       "      <td>1</td>\n",
       "      <td>1</td>\n",
       "      <td>3</td>\n",
       "    </tr>\n",
       "    <tr>\n",
       "      <td>14</td>\n",
       "      <td>2</td>\n",
       "      <td>2</td>\n",
       "      <td>1</td>\n",
       "      <td>2</td>\n",
       "      <td>2</td>\n",
       "    </tr>\n",
       "    <tr>\n",
       "      <td>15</td>\n",
       "      <td>2</td>\n",
       "      <td>2</td>\n",
       "      <td>2</td>\n",
       "      <td>1</td>\n",
       "      <td>3</td>\n",
       "    </tr>\n",
       "    <tr>\n",
       "      <td>16</td>\n",
       "      <td>2</td>\n",
       "      <td>2</td>\n",
       "      <td>2</td>\n",
       "      <td>2</td>\n",
       "      <td>3</td>\n",
       "    </tr>\n",
       "    <tr>\n",
       "      <td>17</td>\n",
       "      <td>3</td>\n",
       "      <td>1</td>\n",
       "      <td>1</td>\n",
       "      <td>1</td>\n",
       "      <td>3</td>\n",
       "    </tr>\n",
       "    <tr>\n",
       "      <td>18</td>\n",
       "      <td>3</td>\n",
       "      <td>1</td>\n",
       "      <td>1</td>\n",
       "      <td>2</td>\n",
       "      <td>3</td>\n",
       "    </tr>\n",
       "    <tr>\n",
       "      <td>19</td>\n",
       "      <td>3</td>\n",
       "      <td>1</td>\n",
       "      <td>2</td>\n",
       "      <td>1</td>\n",
       "      <td>3</td>\n",
       "    </tr>\n",
       "    <tr>\n",
       "      <td>20</td>\n",
       "      <td>3</td>\n",
       "      <td>1</td>\n",
       "      <td>2</td>\n",
       "      <td>2</td>\n",
       "      <td>1</td>\n",
       "    </tr>\n",
       "    <tr>\n",
       "      <td>21</td>\n",
       "      <td>3</td>\n",
       "      <td>2</td>\n",
       "      <td>1</td>\n",
       "      <td>1</td>\n",
       "      <td>3</td>\n",
       "    </tr>\n",
       "    <tr>\n",
       "      <td>22</td>\n",
       "      <td>3</td>\n",
       "      <td>2</td>\n",
       "      <td>1</td>\n",
       "      <td>2</td>\n",
       "      <td>2</td>\n",
       "    </tr>\n",
       "    <tr>\n",
       "      <td>23</td>\n",
       "      <td>3</td>\n",
       "      <td>2</td>\n",
       "      <td>2</td>\n",
       "      <td>1</td>\n",
       "      <td>3</td>\n",
       "    </tr>\n",
       "    <tr>\n",
       "      <td>24</td>\n",
       "      <td>3</td>\n",
       "      <td>2</td>\n",
       "      <td>2</td>\n",
       "      <td>2</td>\n",
       "      <td>3</td>\n",
       "    </tr>\n",
       "  </tbody>\n",
       "</table>\n",
       "</div>"
      ],
      "text/plain": [
       "    age  prescription  astigmatic  tear_rate  class\n",
       "1     1             1           1          1      3\n",
       "2     1             1           1          2      2\n",
       "3     1             1           2          1      3\n",
       "4     1             1           2          2      1\n",
       "5     1             2           1          1      3\n",
       "6     1             2           1          2      2\n",
       "7     1             2           2          1      3\n",
       "8     1             2           2          2      1\n",
       "9     2             1           1          1      3\n",
       "10    2             1           1          2      2\n",
       "11    2             1           2          1      3\n",
       "12    2             1           2          2      1\n",
       "13    2             2           1          1      3\n",
       "14    2             2           1          2      2\n",
       "15    2             2           2          1      3\n",
       "16    2             2           2          2      3\n",
       "17    3             1           1          1      3\n",
       "18    3             1           1          2      3\n",
       "19    3             1           2          1      3\n",
       "20    3             1           2          2      1\n",
       "21    3             2           1          1      3\n",
       "22    3             2           1          2      2\n",
       "23    3             2           2          1      3\n",
       "24    3             2           2          2      3"
      ]
     },
     "execution_count": 19,
     "metadata": {},
     "output_type": "execute_result"
    }
   ],
   "source": [
    "f1 = './ML_R00183658_DATA/lenses.data'\n",
    "df1 = pd.read_csv(f1, delimiter=',', header=None, names=['age', 'prescription', 'astigmatic', 'tear_rate', 'class'])\n",
    "df1"
   ]
  },
  {
   "cell_type": "markdown",
   "metadata": {
    "Collapsed": "false"
   },
   "source": [
    "<br>\n",
    "\n",
    "Let's visualize the count per class and the the distribution of age per class.  \n",
    "One notices that class 3 dominates the dataset. Also \"tear rate\" seems to be a strong indicator for the class.  \n",
    "Still, the dataset is very very small with its 24 records.\n",
    "\n",
    "<br>"
   ]
  },
  {
   "cell_type": "code",
   "execution_count": 20,
   "metadata": {
    "Collapsed": "false"
   },
   "outputs": [
    {
     "data": {
      "text/plain": [
       "Text(0.5, 1.0, 'Tear rate per class')"
      ]
     },
     "execution_count": 20,
     "metadata": {},
     "output_type": "execute_result"
    },
    {
     "data": {
      "image/png": "[encoded data removed]",
      "text/plain": [
       "<Figure size 1296x216 with 3 Axes>"
      ]
     },
     "metadata": {
      "needs_background": "light"
     },
     "output_type": "display_data"
    }
   ],
   "source": [
    "fig, axs = plt.subplots(ncols=3, figsize=(18,3))\n",
    "sns.countplot(y='class', data=df1, ax=axs[0])\n",
    "sns.countplot(y='class', hue='age', data=df1, ax=axs[1])\n",
    "sns.countplot(y='class', hue='tear_rate', data=df1, ax=axs[2])\n",
    "axs[0].set_title('Count per class')\n",
    "axs[1].set_title('Age count per class')\n",
    "axs[2].set_title('Tear rate per class')"
   ]
  },
  {
   "cell_type": "markdown",
   "metadata": {
    "Collapsed": "false"
   },
   "source": [
    "### Let the NaiveBayes learner fit the data and print the probabilities\n",
    "\n",
    "The dataset is very small so that some feature combinations do not occur.  \n",
    "For example the record [1, 1, 1, 1] is only known to match class 3. Classes 1 and 2 would receive a probability of 0.0.  \n",
    "To avoid 0.0 probabilities, smoothing can be used so that the absence of a record would still result in a small positive probability.  "
   ]
  },
  {
   "cell_type": "code",
   "execution_count": 21,
   "metadata": {
    "Collapsed": "false"
   },
   "outputs": [
    {
     "data": {
      "text/plain": [
       "defaultdict(None,\n",
       "            {'prior': defaultdict(None,\n",
       "                         {3: 0.6153846153846154,\n",
       "                          2: 0.23076923076923078,\n",
       "                          1: 0.19230769230769232}),\n",
       "             'likelihood': defaultdict(None,\n",
       "                         {3: defaultdict(None,\n",
       "                                      {'p_age_1': 0.29411764705882354,\n",
       "                                       'p_age_2': 0.35294117647058826,\n",
       "                                       'p_age_3': 0.4117647058823529,\n",
       "                                       'p_prescription_1': 0.47058823529411764,\n",
       "                                       'p_prescription_2': 0.5294117647058824,\n",
       "                                       'p_astigmatic_1': 0.47058823529411764,\n",
       "                                       'p_astigmatic_2': 0.5294117647058824,\n",
       "                                       'p_tear_rate_1': 0.7647058823529411,\n",
       "                                       'p_tear_rate_2': 0.23529411764705882}),\n",
       "                          2: defaultdict(None,\n",
       "                                      {'p_age_1': 0.42857142857142855,\n",
       "                                       'p_age_2': 0.42857142857142855,\n",
       "                                       'p_age_3': 0.2857142857142857,\n",
       "                                       'p_prescription_1': 0.42857142857142855,\n",
       "                                       'p_prescription_2': 0.5714285714285714,\n",
       "                                       'p_astigmatic_1': 0.8571428571428571,\n",
       "                                       'p_astigmatic_2': 0.14285714285714285,\n",
       "                                       'p_tear_rate_1': 0.14285714285714285,\n",
       "                                       'p_tear_rate_2': 0.8571428571428571}),\n",
       "                          1: defaultdict(None,\n",
       "                                      {'p_age_1': 0.5,\n",
       "                                       'p_age_2': 0.3333333333333333,\n",
       "                                       'p_age_3': 0.3333333333333333,\n",
       "                                       'p_prescription_1': 0.6666666666666666,\n",
       "                                       'p_prescription_2': 0.3333333333333333,\n",
       "                                       'p_astigmatic_1': 0.16666666666666666,\n",
       "                                       'p_astigmatic_2': 0.8333333333333334,\n",
       "                                       'p_tear_rate_1': 0.16666666666666666,\n",
       "                                       'p_tear_rate_2': 0.8333333333333334})}),\n",
       "             'evidence': defaultdict(None,\n",
       "                         {'p_age_1': 0.34615384615384615,\n",
       "                          'p_age_2': 0.34615384615384615,\n",
       "                          'p_age_3': 0.34615384615384615,\n",
       "                          'p_prescription_1': 0.5,\n",
       "                          'p_prescription_2': 0.5,\n",
       "                          'p_astigmatic_1': 0.5,\n",
       "                          'p_astigmatic_2': 0.5,\n",
       "                          'p_tear_rate_1': 0.5,\n",
       "                          'p_tear_rate_2': 0.5})})"
      ]
     },
     "execution_count": 21,
     "metadata": {},
     "output_type": "execute_result"
    }
   ],
   "source": [
    "nb1 = NaiveBayes()\n",
    "nb1.fit(df1, target='class', smoothing='plus1')\n",
    "nb1.p_"
   ]
  },
  {
   "cell_type": "markdown",
   "metadata": {
    "Collapsed": "false"
   },
   "source": [
    "<br>\n",
    "\n",
    "**One can see that a small dataset like this can experience quite a large shift in probabilities with smoothing.**\n",
    "\n",
    "\n",
    "**With plus1 smoothing:**\n",
    "```\n",
    "defaultdict(None,\n",
    "            {'prior': defaultdict(None,\n",
    "                         {3: 0.6153846153846154,\n",
    "                          2: 0.23076923076923078,\n",
    "                          1: 0.19230769230769232}),\n",
    "             'likelihood': defaultdict(None,\n",
    "                          ...\n",
    "                          1: defaultdict(None,\n",
    "                                      {'p_age_1': 0.5,\n",
    "                                       'p_age_2': 0.3333333333333333,\n",
    "                                       'p_age_3': 0.3333333333333333,\n",
    "                                       'p_prescription_1': 0.6666666666666666,\n",
    "                                       'p_prescription_2': 0.3333333333333333,\n",
    "                                       'p_astigmatic_1': 0.16666666666666666,\n",
    "                                       'p_astigmatic_2': 0.8333333333333334,\n",
    "                                       'p_tear_rate_1': 0.16666666666666666,\n",
    "                                       'p_tear_rate_2': 0.8333333333333334})}),\n",
    "             ...\n",
    "```\n",
    "\n",
    "\n",
    "**Without smoothing:**\n",
    "\n",
    "```\n",
    "defaultdict(None,\n",
    "            {'prior': defaultdict(None,\n",
    "                         {3: 0.625,\n",
    "                          2: 0.20833333333333334,\n",
    "                          1: 0.16666666666666666}),\n",
    "             'likelihood': defaultdict(None,\n",
    "                          ...\n",
    "                          1: defaultdict(None,\n",
    "                                      {'p_age_1': 0.5,\n",
    "                                       'p_age_2': 0.25,\n",
    "                                       'p_age_3': 0.25,\n",
    "                                       'p_prescription_1': 0.75,\n",
    "                                       'p_prescription_2': 0.25,\n",
    "                                       'p_astigmatic_1': 0.0,\n",
    "                                       'p_astigmatic_2': 1.0,\n",
    "                                       'p_tear_rate_1': 0.0,\n",
    "                                       'p_tear_rate_2': 1.0})}),\n",
    "             ...\n",
    "```"
   ]
  },
  {
   "cell_type": "markdown",
   "metadata": {
    "Collapsed": "false"
   },
   "source": [
    "<br>\n",
    "\n",
    "The Naive Bayes `fit` function already populated the probability dictionary `p_` with all relevant probabilities.\n",
    "Here are some sample calculations.\n",
    "\n",
    "<br>\n",
    "\n",
    "For calculating the **prior probabilities** we count how often a certain class occurs over all records. In total there are 24 records.\n",
    "\n",
    "<br>\n",
    "\n",
    "**Without smoothing:**\n",
    "  \n",
    "$P(c) = \\frac{countClassRecords}{totalRecords}\\ = \\frac{countClassRecords}{24}\\$\n",
    "\n",
    "$P(1) = \\frac{4}{24}\\ = 0.16666666666666666$\n",
    "\n",
    "$P(2) = \\frac{5}{24}\\ = 0.20833333333333334$\n",
    "\n",
    "$P(3) = \\frac{15}{24}\\ = 0.625$\n",
    "\n",
    "<br>\n",
    "\n",
    "**With plus1 smooting:**  \n",
    "Plus1 smoothing add `+1` to the nominator and `+2` to the denominator.  \n",
    "\n",
    "$P(c) = \\frac{countClassRecords + 1}{totalRecords + 2}\\ = \\frac{countClassRecords + 1}{26}\\$\n",
    "\n",
    "$P(1) = \\frac{5}{26}\\ = 0.19230769230769232$\n",
    "\n",
    "$P(2) = \\frac{6}{26}\\ = 0.23076923076923078$\n",
    "\n",
    "$P(3) = \\frac{16}{26}\\ = 0.6153846153846154$\n",
    "\n",
    "<br>\n",
    "\n",
    "Now, let's calculate the **conditional probabilities** for age per class (with smoothing)\n",
    "\n",
    "             'likelihood': defaultdict(None,\n",
    "                         {3: defaultdict(None,\n",
    "                                      {'p_age_1': 0.29411764705882354,\n",
    "                                       'p_age_2': 0.35294117647058826,\n",
    "                                       'p_age_3': 0.4117647058823529,'\n",
    "\n",
    "We know that class 3 has 15 records.\n",
    "From the \"age count per class diagram\" we see, that within class 3 we have 4x age=1, 5x age=2 and 6x age=3.\n",
    "\n",
    "The conditional probabilities are calculation as follows (still with plus1 smoothing):\n",
    "\n",
    "$P(c) = \\frac{countAgeXClassY + 1}{totalClass=Y + 2}\\$\n",
    "\n",
    "$P(age=1|class=3) = \\frac{4 + 1}{15 + 2}\\ = \\frac{5}{17}\\ = 0.29411764705882354$\n",
    "\n",
    "$P(age=2|class=3) = \\frac{5 + 1}{15 + 2}\\ = \\frac{6}{17}\\ = 0.35294117647058826$\n",
    "\n",
    "$P(age=3|class=3) = \\frac{6 + 1}{15 + 2}\\ = \\frac{7}{17}\\ = 0.4117647058823529$\n",
    "\n",
    "<br>\n",
    "\n",
    "Calculating the **probability of evidence** just involves the probabilities of each feature instances.  \n",
    "For example, if `tear_rate=1` occurs in 12 out of 24 records, the associated **probability of evidence** = 0.5 ."
   ]
  },
  {
   "cell_type": "markdown",
   "metadata": {
    "Collapsed": "false"
   },
   "source": [
    "#### Print Prior Probability table"
   ]
  },
  {
   "cell_type": "code",
   "execution_count": 22,
   "metadata": {
    "Collapsed": "false"
   },
   "outputs": [
    {
     "data": {
      "text/html": [
       "<style  type=\"text/css\" >\n",
       "    #T_978c0db8_244e_11ea_955c_d0c637b54996row0_col0 {\n",
       "            background-color:  #0000ff;\n",
       "            color:  #f1f1f1;\n",
       "        }    #T_978c0db8_244e_11ea_955c_d0c637b54996row1_col0 {\n",
       "            background-color:  #d1d1ff;\n",
       "            color:  #000000;\n",
       "        }    #T_978c0db8_244e_11ea_955c_d0c637b54996row2_col0 {\n",
       "            background-color:  #e5e5ff;\n",
       "            color:  #000000;\n",
       "        }</style><table id=\"T_978c0db8_244e_11ea_955c_d0c637b54996\" ><thead>    <tr>        <th class=\"blank level0\" ></th>        <th class=\"col_heading level0 col0\" >Prior</th>    </tr></thead><tbody>\n",
       "                <tr>\n",
       "                        <th id=\"T_978c0db8_244e_11ea_955c_d0c637b54996level0_row0\" class=\"row_heading level0 row0\" >3</th>\n",
       "                        <td id=\"T_978c0db8_244e_11ea_955c_d0c637b54996row0_col0\" class=\"data row0 col0\" >0.615385</td>\n",
       "            </tr>\n",
       "            <tr>\n",
       "                        <th id=\"T_978c0db8_244e_11ea_955c_d0c637b54996level0_row1\" class=\"row_heading level0 row1\" >2</th>\n",
       "                        <td id=\"T_978c0db8_244e_11ea_955c_d0c637b54996row1_col0\" class=\"data row1 col0\" >0.230769</td>\n",
       "            </tr>\n",
       "            <tr>\n",
       "                        <th id=\"T_978c0db8_244e_11ea_955c_d0c637b54996level0_row2\" class=\"row_heading level0 row2\" >1</th>\n",
       "                        <td id=\"T_978c0db8_244e_11ea_955c_d0c637b54996row2_col0\" class=\"data row2 col0\" >0.192308</td>\n",
       "            </tr>\n",
       "    </tbody></table>"
      ],
      "text/plain": [
       "<pandas.io.formats.style.Styler at 0x1a520400d08>"
      ]
     },
     "execution_count": 22,
     "metadata": {},
     "output_type": "execute_result"
    }
   ],
   "source": [
    "priorTable = pd.DataFrame(data=nb1.p_['prior'].values(), index=nb1.p_['prior'].keys(), columns=['Prior'])\n",
    "\n",
    "cm = sns.light_palette(\"blue\", as_cmap=True)\n",
    "sns_priorTable = priorTable.style.background_gradient(cmap=cm)\n",
    "sns_priorTable"
   ]
  },
  {
   "cell_type": "markdown",
   "metadata": {
    "Collapsed": "false"
   },
   "source": [
    "#### Print Likelihood of Evidence / Conditional Probability Table"
   ]
  },
  {
   "cell_type": "code",
   "execution_count": 23,
   "metadata": {
    "Collapsed": "false"
   },
   "outputs": [
    {
     "data": {
      "text/html": [
       "<style  type=\"text/css\" >\n",
       "    #T_97905086_244e_11ea_be38_d0c637b54996row0_col0 {\n",
       "            background-color:  #7272ff;\n",
       "            color:  #000000;\n",
       "        }    #T_97905086_244e_11ea_be38_d0c637b54996row0_col1 {\n",
       "            background-color:  #8a8aff;\n",
       "            color:  #000000;\n",
       "        }    #T_97905086_244e_11ea_be38_d0c637b54996row0_col2 {\n",
       "            background-color:  #ccccff;\n",
       "            color:  #000000;\n",
       "        }    #T_97905086_244e_11ea_be38_d0c637b54996row1_col0 {\n",
       "            background-color:  #adadff;\n",
       "            color:  #000000;\n",
       "        }    #T_97905086_244e_11ea_be38_d0c637b54996row1_col1 {\n",
       "            background-color:  #8a8aff;\n",
       "            color:  #000000;\n",
       "        }    #T_97905086_244e_11ea_be38_d0c637b54996row1_col2 {\n",
       "            background-color:  #b3b3ff;\n",
       "            color:  #000000;\n",
       "        }    #T_97905086_244e_11ea_be38_d0c637b54996row2_col0 {\n",
       "            background-color:  #adadff;\n",
       "            color:  #000000;\n",
       "        }    #T_97905086_244e_11ea_be38_d0c637b54996row2_col1 {\n",
       "            background-color:  #b8b8ff;\n",
       "            color:  #000000;\n",
       "        }    #T_97905086_244e_11ea_be38_d0c637b54996row2_col2 {\n",
       "            background-color:  #9999ff;\n",
       "            color:  #000000;\n",
       "        }    #T_97905086_244e_11ea_be38_d0c637b54996row3_col0 {\n",
       "            background-color:  #3a3aff;\n",
       "            color:  #f1f1f1;\n",
       "        }    #T_97905086_244e_11ea_be38_d0c637b54996row3_col1 {\n",
       "            background-color:  #8a8aff;\n",
       "            color:  #000000;\n",
       "        }    #T_97905086_244e_11ea_be38_d0c637b54996row3_col2 {\n",
       "            background-color:  #8080ff;\n",
       "            color:  #000000;\n",
       "        }    #T_97905086_244e_11ea_be38_d0c637b54996row4_col0 {\n",
       "            background-color:  #adadff;\n",
       "            color:  #000000;\n",
       "        }    #T_97905086_244e_11ea_be38_d0c637b54996row4_col1 {\n",
       "            background-color:  #5c5cff;\n",
       "            color:  #f1f1f1;\n",
       "        }    #T_97905086_244e_11ea_be38_d0c637b54996row4_col2 {\n",
       "            background-color:  #6666ff;\n",
       "            color:  #000000;\n",
       "        }    #T_97905086_244e_11ea_be38_d0c637b54996row5_col0 {\n",
       "            background-color:  #e5e5ff;\n",
       "            color:  #000000;\n",
       "        }    #T_97905086_244e_11ea_be38_d0c637b54996row5_col1 {\n",
       "            background-color:  #0000ff;\n",
       "            color:  #f1f1f1;\n",
       "        }    #T_97905086_244e_11ea_be38_d0c637b54996row5_col2 {\n",
       "            background-color:  #8080ff;\n",
       "            color:  #000000;\n",
       "        }    #T_97905086_244e_11ea_be38_d0c637b54996row6_col0 {\n",
       "            background-color:  #0000ff;\n",
       "            color:  #f1f1f1;\n",
       "        }    #T_97905086_244e_11ea_be38_d0c637b54996row6_col1 {\n",
       "            background-color:  #e5e5ff;\n",
       "            color:  #000000;\n",
       "        }    #T_97905086_244e_11ea_be38_d0c637b54996row6_col2 {\n",
       "            background-color:  #6666ff;\n",
       "            color:  #000000;\n",
       "        }    #T_97905086_244e_11ea_be38_d0c637b54996row7_col0 {\n",
       "            background-color:  #e5e5ff;\n",
       "            color:  #000000;\n",
       "        }    #T_97905086_244e_11ea_be38_d0c637b54996row7_col1 {\n",
       "            background-color:  #e5e5ff;\n",
       "            color:  #000000;\n",
       "        }    #T_97905086_244e_11ea_be38_d0c637b54996row7_col2 {\n",
       "            background-color:  #0000ff;\n",
       "            color:  #f1f1f1;\n",
       "        }    #T_97905086_244e_11ea_be38_d0c637b54996row8_col0 {\n",
       "            background-color:  #0000ff;\n",
       "            color:  #f1f1f1;\n",
       "        }    #T_97905086_244e_11ea_be38_d0c637b54996row8_col1 {\n",
       "            background-color:  #0000ff;\n",
       "            color:  #f1f1f1;\n",
       "        }    #T_97905086_244e_11ea_be38_d0c637b54996row8_col2 {\n",
       "            background-color:  #e5e5ff;\n",
       "            color:  #000000;\n",
       "        }</style><table id=\"T_97905086_244e_11ea_be38_d0c637b54996\" ><thead>    <tr>        <th class=\"blank level0\" ></th>        <th class=\"col_heading level0 col0\" >P(E | c=1)</th>        <th class=\"col_heading level0 col1\" >P(E | c=2)</th>        <th class=\"col_heading level0 col2\" >P(E | c=3)</th>    </tr></thead><tbody>\n",
       "                <tr>\n",
       "                        <th id=\"T_97905086_244e_11ea_be38_d0c637b54996level0_row0\" class=\"row_heading level0 row0\" >p_age_1</th>\n",
       "                        <td id=\"T_97905086_244e_11ea_be38_d0c637b54996row0_col0\" class=\"data row0 col0\" >0.5</td>\n",
       "                        <td id=\"T_97905086_244e_11ea_be38_d0c637b54996row0_col1\" class=\"data row0 col1\" >0.428571</td>\n",
       "                        <td id=\"T_97905086_244e_11ea_be38_d0c637b54996row0_col2\" class=\"data row0 col2\" >0.294118</td>\n",
       "            </tr>\n",
       "            <tr>\n",
       "                        <th id=\"T_97905086_244e_11ea_be38_d0c637b54996level0_row1\" class=\"row_heading level0 row1\" >p_age_2</th>\n",
       "                        <td id=\"T_97905086_244e_11ea_be38_d0c637b54996row1_col0\" class=\"data row1 col0\" >0.333333</td>\n",
       "                        <td id=\"T_97905086_244e_11ea_be38_d0c637b54996row1_col1\" class=\"data row1 col1\" >0.428571</td>\n",
       "                        <td id=\"T_97905086_244e_11ea_be38_d0c637b54996row1_col2\" class=\"data row1 col2\" >0.352941</td>\n",
       "            </tr>\n",
       "            <tr>\n",
       "                        <th id=\"T_97905086_244e_11ea_be38_d0c637b54996level0_row2\" class=\"row_heading level0 row2\" >p_age_3</th>\n",
       "                        <td id=\"T_97905086_244e_11ea_be38_d0c637b54996row2_col0\" class=\"data row2 col0\" >0.333333</td>\n",
       "                        <td id=\"T_97905086_244e_11ea_be38_d0c637b54996row2_col1\" class=\"data row2 col1\" >0.285714</td>\n",
       "                        <td id=\"T_97905086_244e_11ea_be38_d0c637b54996row2_col2\" class=\"data row2 col2\" >0.411765</td>\n",
       "            </tr>\n",
       "            <tr>\n",
       "                        <th id=\"T_97905086_244e_11ea_be38_d0c637b54996level0_row3\" class=\"row_heading level0 row3\" >p_prescription_1</th>\n",
       "                        <td id=\"T_97905086_244e_11ea_be38_d0c637b54996row3_col0\" class=\"data row3 col0\" >0.666667</td>\n",
       "                        <td id=\"T_97905086_244e_11ea_be38_d0c637b54996row3_col1\" class=\"data row3 col1\" >0.428571</td>\n",
       "                        <td id=\"T_97905086_244e_11ea_be38_d0c637b54996row3_col2\" class=\"data row3 col2\" >0.470588</td>\n",
       "            </tr>\n",
       "            <tr>\n",
       "                        <th id=\"T_97905086_244e_11ea_be38_d0c637b54996level0_row4\" class=\"row_heading level0 row4\" >p_prescription_2</th>\n",
       "                        <td id=\"T_97905086_244e_11ea_be38_d0c637b54996row4_col0\" class=\"data row4 col0\" >0.333333</td>\n",
       "                        <td id=\"T_97905086_244e_11ea_be38_d0c637b54996row4_col1\" class=\"data row4 col1\" >0.571429</td>\n",
       "                        <td id=\"T_97905086_244e_11ea_be38_d0c637b54996row4_col2\" class=\"data row4 col2\" >0.529412</td>\n",
       "            </tr>\n",
       "            <tr>\n",
       "                        <th id=\"T_97905086_244e_11ea_be38_d0c637b54996level0_row5\" class=\"row_heading level0 row5\" >p_astigmatic_1</th>\n",
       "                        <td id=\"T_97905086_244e_11ea_be38_d0c637b54996row5_col0\" class=\"data row5 col0\" >0.166667</td>\n",
       "                        <td id=\"T_97905086_244e_11ea_be38_d0c637b54996row5_col1\" class=\"data row5 col1\" >0.857143</td>\n",
       "                        <td id=\"T_97905086_244e_11ea_be38_d0c637b54996row5_col2\" class=\"data row5 col2\" >0.470588</td>\n",
       "            </tr>\n",
       "            <tr>\n",
       "                        <th id=\"T_97905086_244e_11ea_be38_d0c637b54996level0_row6\" class=\"row_heading level0 row6\" >p_astigmatic_2</th>\n",
       "                        <td id=\"T_97905086_244e_11ea_be38_d0c637b54996row6_col0\" class=\"data row6 col0\" >0.833333</td>\n",
       "                        <td id=\"T_97905086_244e_11ea_be38_d0c637b54996row6_col1\" class=\"data row6 col1\" >0.142857</td>\n",
       "                        <td id=\"T_97905086_244e_11ea_be38_d0c637b54996row6_col2\" class=\"data row6 col2\" >0.529412</td>\n",
       "            </tr>\n",
       "            <tr>\n",
       "                        <th id=\"T_97905086_244e_11ea_be38_d0c637b54996level0_row7\" class=\"row_heading level0 row7\" >p_tear_rate_1</th>\n",
       "                        <td id=\"T_97905086_244e_11ea_be38_d0c637b54996row7_col0\" class=\"data row7 col0\" >0.166667</td>\n",
       "                        <td id=\"T_97905086_244e_11ea_be38_d0c637b54996row7_col1\" class=\"data row7 col1\" >0.142857</td>\n",
       "                        <td id=\"T_97905086_244e_11ea_be38_d0c637b54996row7_col2\" class=\"data row7 col2\" >0.764706</td>\n",
       "            </tr>\n",
       "            <tr>\n",
       "                        <th id=\"T_97905086_244e_11ea_be38_d0c637b54996level0_row8\" class=\"row_heading level0 row8\" >p_tear_rate_2</th>\n",
       "                        <td id=\"T_97905086_244e_11ea_be38_d0c637b54996row8_col0\" class=\"data row8 col0\" >0.833333</td>\n",
       "                        <td id=\"T_97905086_244e_11ea_be38_d0c637b54996row8_col1\" class=\"data row8 col1\" >0.857143</td>\n",
       "                        <td id=\"T_97905086_244e_11ea_be38_d0c637b54996row8_col2\" class=\"data row8 col2\" >0.235294</td>\n",
       "            </tr>\n",
       "    </tbody></table>"
      ],
      "text/plain": [
       "<pandas.io.formats.style.Styler at 0x1a52015b608>"
      ]
     },
     "execution_count": 23,
     "metadata": {},
     "output_type": "execute_result"
    }
   ],
   "source": [
    "likelihoodTable = pd.DataFrame(data=nb1.p_['likelihood'][1].values(), index=nb1.p_['likelihood'][1].keys(), columns=['P(E | c=1)'])\n",
    "likelihoodTable['P(E | c=2)'] = nb1.p_['likelihood'][2].values()\n",
    "likelihoodTable['P(E | c=3)'] = nb1.p_['likelihood'][3].values()\n",
    "\n",
    "cm = sns.light_palette(\"blue\", as_cmap=True)\n",
    "sns_likelihoodTable = likelihoodTable.style.background_gradient(cmap=cm)\n",
    "sns_likelihoodTable"
   ]
  },
  {
   "cell_type": "markdown",
   "metadata": {
    "Collapsed": "false"
   },
   "source": [
    "#### Print Probability of evidence table"
   ]
  },
  {
   "cell_type": "code",
   "execution_count": 24,
   "metadata": {
    "Collapsed": "false"
   },
   "outputs": [
    {
     "data": {
      "text/html": [
       "<style  type=\"text/css\" >\n",
       "    #T_9793d080_244e_11ea_b1a5_d0c637b54996row0_col0 {\n",
       "            background-color:  #e5e5ff;\n",
       "            color:  #000000;\n",
       "        }    #T_9793d080_244e_11ea_b1a5_d0c637b54996row1_col0 {\n",
       "            background-color:  #e5e5ff;\n",
       "            color:  #000000;\n",
       "        }    #T_9793d080_244e_11ea_b1a5_d0c637b54996row2_col0 {\n",
       "            background-color:  #e5e5ff;\n",
       "            color:  #000000;\n",
       "        }    #T_9793d080_244e_11ea_b1a5_d0c637b54996row3_col0 {\n",
       "            background-color:  #0000ff;\n",
       "            color:  #f1f1f1;\n",
       "        }    #T_9793d080_244e_11ea_b1a5_d0c637b54996row4_col0 {\n",
       "            background-color:  #0000ff;\n",
       "            color:  #f1f1f1;\n",
       "        }    #T_9793d080_244e_11ea_b1a5_d0c637b54996row5_col0 {\n",
       "            background-color:  #0000ff;\n",
       "            color:  #f1f1f1;\n",
       "        }    #T_9793d080_244e_11ea_b1a5_d0c637b54996row6_col0 {\n",
       "            background-color:  #0000ff;\n",
       "            color:  #f1f1f1;\n",
       "        }    #T_9793d080_244e_11ea_b1a5_d0c637b54996row7_col0 {\n",
       "            background-color:  #0000ff;\n",
       "            color:  #f1f1f1;\n",
       "        }    #T_9793d080_244e_11ea_b1a5_d0c637b54996row8_col0 {\n",
       "            background-color:  #0000ff;\n",
       "            color:  #f1f1f1;\n",
       "        }</style><table id=\"T_9793d080_244e_11ea_b1a5_d0c637b54996\" ><thead>    <tr>        <th class=\"blank level0\" ></th>        <th class=\"col_heading level0 col0\" >Evidence</th>    </tr></thead><tbody>\n",
       "                <tr>\n",
       "                        <th id=\"T_9793d080_244e_11ea_b1a5_d0c637b54996level0_row0\" class=\"row_heading level0 row0\" >p_age_1</th>\n",
       "                        <td id=\"T_9793d080_244e_11ea_b1a5_d0c637b54996row0_col0\" class=\"data row0 col0\" >0.346154</td>\n",
       "            </tr>\n",
       "            <tr>\n",
       "                        <th id=\"T_9793d080_244e_11ea_b1a5_d0c637b54996level0_row1\" class=\"row_heading level0 row1\" >p_age_2</th>\n",
       "                        <td id=\"T_9793d080_244e_11ea_b1a5_d0c637b54996row1_col0\" class=\"data row1 col0\" >0.346154</td>\n",
       "            </tr>\n",
       "            <tr>\n",
       "                        <th id=\"T_9793d080_244e_11ea_b1a5_d0c637b54996level0_row2\" class=\"row_heading level0 row2\" >p_age_3</th>\n",
       "                        <td id=\"T_9793d080_244e_11ea_b1a5_d0c637b54996row2_col0\" class=\"data row2 col0\" >0.346154</td>\n",
       "            </tr>\n",
       "            <tr>\n",
       "                        <th id=\"T_9793d080_244e_11ea_b1a5_d0c637b54996level0_row3\" class=\"row_heading level0 row3\" >p_prescription_1</th>\n",
       "                        <td id=\"T_9793d080_244e_11ea_b1a5_d0c637b54996row3_col0\" class=\"data row3 col0\" >0.5</td>\n",
       "            </tr>\n",
       "            <tr>\n",
       "                        <th id=\"T_9793d080_244e_11ea_b1a5_d0c637b54996level0_row4\" class=\"row_heading level0 row4\" >p_prescription_2</th>\n",
       "                        <td id=\"T_9793d080_244e_11ea_b1a5_d0c637b54996row4_col0\" class=\"data row4 col0\" >0.5</td>\n",
       "            </tr>\n",
       "            <tr>\n",
       "                        <th id=\"T_9793d080_244e_11ea_b1a5_d0c637b54996level0_row5\" class=\"row_heading level0 row5\" >p_astigmatic_1</th>\n",
       "                        <td id=\"T_9793d080_244e_11ea_b1a5_d0c637b54996row5_col0\" class=\"data row5 col0\" >0.5</td>\n",
       "            </tr>\n",
       "            <tr>\n",
       "                        <th id=\"T_9793d080_244e_11ea_b1a5_d0c637b54996level0_row6\" class=\"row_heading level0 row6\" >p_astigmatic_2</th>\n",
       "                        <td id=\"T_9793d080_244e_11ea_b1a5_d0c637b54996row6_col0\" class=\"data row6 col0\" >0.5</td>\n",
       "            </tr>\n",
       "            <tr>\n",
       "                        <th id=\"T_9793d080_244e_11ea_b1a5_d0c637b54996level0_row7\" class=\"row_heading level0 row7\" >p_tear_rate_1</th>\n",
       "                        <td id=\"T_9793d080_244e_11ea_b1a5_d0c637b54996row7_col0\" class=\"data row7 col0\" >0.5</td>\n",
       "            </tr>\n",
       "            <tr>\n",
       "                        <th id=\"T_9793d080_244e_11ea_b1a5_d0c637b54996level0_row8\" class=\"row_heading level0 row8\" >p_tear_rate_2</th>\n",
       "                        <td id=\"T_9793d080_244e_11ea_b1a5_d0c637b54996row8_col0\" class=\"data row8 col0\" >0.5</td>\n",
       "            </tr>\n",
       "    </tbody></table>"
      ],
      "text/plain": [
       "<pandas.io.formats.style.Styler at 0x1a52029dc88>"
      ]
     },
     "execution_count": 24,
     "metadata": {},
     "output_type": "execute_result"
    }
   ],
   "source": [
    "evidenceTable = pd.DataFrame(data=nb1.p_['evidence'].values(), index=nb1.p_['evidence'].keys(), columns=['Evidence'])\n",
    "\n",
    "cm = sns.light_palette(\"blue\", as_cmap=True)\n",
    "sns_evidenceTable = evidenceTable.style.background_gradient(cmap=cm)\n",
    "sns_evidenceTable"
   ]
  },
  {
   "cell_type": "markdown",
   "metadata": {
    "Collapsed": "false"
   },
   "source": [
    "#### Make single predictions for evidences provided."
   ]
  },
  {
   "cell_type": "code",
   "execution_count": 25,
   "metadata": {
    "Collapsed": "false"
   },
   "outputs": [
    {
     "name": "stdout",
     "output_type": "stream",
     "text": [
      "3 {3: 0.8147142897761581, 2: 0.13795598808759452, 1: 0.04732972213624749}\n"
     ]
    }
   ],
   "source": [
    "evidences = {\n",
    "    'age': '1',\n",
    "    'prescription': '1',\n",
    "    'astigmatic': '1',\n",
    "    'tear_rate': '1'\n",
    "}\n",
    "\n",
    "c, pred = nb1.predict(evidences)\n",
    "print(c, pred)"
   ]
  },
  {
   "cell_type": "markdown",
   "metadata": {
    "Collapsed": "false"
   },
   "source": [
    "> As expected class \"3\" is predicted, because this was the only class seen for these evidences during the fit.  \n",
    "> Smoothing ensures to still assign some (much lower) probability to classes 1 and 2.\n",
    ">  \n",
    "> Without smooting the response would have been:  \n",
    "> `3 {3: 1.0, 2: 0.0, 1: 0.0}`"
   ]
  },
  {
   "cell_type": "code",
   "execution_count": 26,
   "metadata": {
    "Collapsed": "false"
   },
   "outputs": [
    {
     "name": "stdout",
     "output_type": "stream",
     "text": [
      "2 {3: 0.19062263550470057, 2: 0.6294254563556048, 1: 0.1799519081396947}\n"
     ]
    }
   ],
   "source": [
    "evidences = {\n",
    "    'age': '1',\n",
    "    'prescription': '1',\n",
    "    'astigmatic': '1',\n",
    "    'tear_rate': '2'\n",
    "}\n",
    "\n",
    "c, pred = nb1.predict(evidences)\n",
    "print(c, pred)"
   ]
  },
  {
   "cell_type": "markdown",
   "metadata": {
    "Collapsed": "false"
   },
   "source": [
    "<br>\n",
    "\n",
    "From the dataset visualization we know that tear_rate=1 is a strong indicator for class 3.  \n",
    "When changing the evidence to tear_rate=2, the class predictions change heavily and reflect the real dataset.\n",
    "\n",
    "<br>"
   ]
  },
  {
   "cell_type": "markdown",
   "metadata": {
    "Collapsed": "false"
   },
   "source": [
    "#### Lets now make predictions for the whole dataset\n",
    "\n",
    "Note: The dataset discussion section further below elaborate why the dataset was not split into train and test set."
   ]
  },
  {
   "cell_type": "code",
   "execution_count": 27,
   "metadata": {
    "Collapsed": "false"
   },
   "outputs": [
    {
     "name": "stdout",
     "output_type": "stream",
     "text": [
      "y_true : [3, 2, 3, 1, 3, 2, 3, 1, 3, 2, 3, 1, 3, 2, 3, 3, 3, 3, 3, 1, 3, 2, 3, 3]\n",
      "y_preds: [3, 2, 3, 1, 3, 2, 3, 1, 3, 2, 3, 1, 3, 2, 3, 1, 3, 2, 3, 1, 3, 2, 3, 3]\n",
      "\n",
      "Accuracy: 0.9166666666666666\n",
      "\n",
      "Classification report:\n",
      "               precision    recall  f1-score   support\n",
      "\n",
      "           1       0.80      1.00      0.89         4\n",
      "           2       0.83      1.00      0.91         5\n",
      "           3       1.00      0.87      0.93        15\n",
      "\n",
      "    accuracy                           0.92        24\n",
      "   macro avg       0.88      0.96      0.91        24\n",
      "weighted avg       0.93      0.92      0.92        24\n",
      "\n"
     ]
    }
   ],
   "source": [
    "y_pred = []\n",
    "y_true = list(df1['class'])\n",
    "\n",
    "for index, row in df1.iterrows():\n",
    "    evidences = {\n",
    "        'age': row['age'],\n",
    "        'prescription': row['prescription'],\n",
    "        'astigmatic': row['astigmatic'],\n",
    "        'tear_rate': row['tear_rate']\n",
    "    }\n",
    "    c, pred = nb1.predict(evidences)\n",
    "    y_pred.append(c)\n",
    "\n",
    "acc = accuracy_score(y_true, y_pred)\n",
    "clr = classification_report(y_true, y_pred)\n",
    "cm = confusion_matrix(y_pred, y_true, labels=[1, 2, 3])\n",
    "\n",
    "print('y_true :', y_true)\n",
    "print('y_preds:', y_pred)\n",
    "print('\\nAccuracy:', acc)\n",
    "print('\\nClassification report:\\n', clr)"
   ]
  },
  {
   "cell_type": "code",
   "execution_count": 28,
   "metadata": {
    "Collapsed": "false"
   },
   "outputs": [
    {
     "data": {
      "image/png": "[encoded data removed]",
      "text/plain": [
       "<Figure size 576x432 with 2 Axes>"
      ]
     },
     "metadata": {
      "needs_background": "light"
     },
     "output_type": "display_data"
    }
   ],
   "source": [
    "ticklabels = ['1', '2', '3']\n",
    "\n",
    "df_cm = pd.DataFrame(cm, range(3), range(3))\n",
    "plt.figure(figsize=(8,6))\n",
    "sns.heatmap(df_cm, annot=True, xticklabels=ticklabels, yticklabels=ticklabels, cmap=\"Blues\")\n",
    "\n",
    "plt.title('Confusion Matrix')\n",
    "plt.xlabel('True Class')\n",
    "plt.ylabel('Predicted Class')\n",
    "plt.show()"
   ]
  },
  {
   "cell_type": "markdown",
   "metadata": {
    "Collapsed": "false"
   },
   "source": [
    "<br>\n",
    "\n",
    "Across the whole dataset the Naive Bayes learner was able to predict 22/24 or 91,67% correctly.  \n",
    "The confusion matrix highlights that essentially 2 class 3 recods have been misclassified as class 1 and 2 respectively.  \n",
    "\n",
    "<br>\n",
    "\n",
    "Finally, let's quickly analyse the performance without smoothing."
   ]
  },
  {
   "cell_type": "code",
   "execution_count": 29,
   "metadata": {
    "Collapsed": "false"
   },
   "outputs": [
    {
     "name": "stdout",
     "output_type": "stream",
     "text": [
      "y_true : [3, 2, 3, 1, 3, 2, 3, 1, 3, 2, 3, 1, 3, 2, 3, 3, 3, 3, 3, 1, 3, 2, 3, 3]\n",
      "y_preds: [3, 2, 3, 1, 3, 2, 3, 1, 3, 2, 3, 1, 3, 2, 3, 3, 3, 2, 3, 1, 3, 2, 3, 3]\n",
      "\n",
      "Accuracy: 0.9583333333333334\n",
      "\n",
      "Classification report:\n",
      "               precision    recall  f1-score   support\n",
      "\n",
      "           1       1.00      1.00      1.00         4\n",
      "           2       0.83      1.00      0.91         5\n",
      "           3       1.00      0.93      0.97        15\n",
      "\n",
      "    accuracy                           0.96        24\n",
      "   macro avg       0.94      0.98      0.96        24\n",
      "weighted avg       0.97      0.96      0.96        24\n",
      "\n"
     ]
    }
   ],
   "source": [
    "nb1_1 = NaiveBayes()\n",
    "nb1_1.fit(df1, target='class')\n",
    "\n",
    "y_pred = []\n",
    "y_true = list(df1['class'])\n",
    "\n",
    "for index, row in df1.iterrows():\n",
    "    evidences = {\n",
    "        'age': row['age'],\n",
    "        'prescription': row['prescription'],\n",
    "        'astigmatic': row['astigmatic'],\n",
    "        'tear_rate': row['tear_rate']\n",
    "    }\n",
    "    c, pred = nb1_1.predict(evidences)\n",
    "    y_pred.append(c)\n",
    "\n",
    "acc = accuracy_score(y_true, y_pred)\n",
    "clr = classification_report(y_true, y_pred)\n",
    "cm = confusion_matrix(y_pred, y_true, labels=[1, 2, 3])\n",
    "\n",
    "print('y_true :', y_true)\n",
    "print('y_preds:', y_pred)\n",
    "print('\\nAccuracy:', acc)\n",
    "print('\\nClassification report:\\n', clr)"
   ]
  },
  {
   "cell_type": "code",
   "execution_count": 30,
   "metadata": {
    "Collapsed": "false"
   },
   "outputs": [
    {
     "data": {
      "image/png": "[encoded data removed]",
      "text/plain": [
       "<Figure size 576x432 with 2 Axes>"
      ]
     },
     "metadata": {
      "needs_background": "light"
     },
     "output_type": "display_data"
    }
   ],
   "source": [
    "ticklabels = ['1', '2', '3']\n",
    "\n",
    "df_cm = pd.DataFrame(cm, range(3), range(3))\n",
    "plt.figure(figsize=(8,6))\n",
    "sns.heatmap(df_cm, annot=True, xticklabels=ticklabels, yticklabels=ticklabels, cmap=\"Blues\")\n",
    "\n",
    "plt.title('Confusion Matrix')\n",
    "plt.xlabel('True Class')\n",
    "plt.ylabel('Predicted Class')\n",
    "plt.show()"
   ]
  },
  {
   "cell_type": "markdown",
   "metadata": {
    "Collapsed": "false"
   },
   "source": [
    "<br>\n",
    "\n",
    "The learner without smoothing performs slightly better on this very small dataset.  \n",
    "It only misinterprets a single record of class 3 as class 2.\n",
    "\n",
    "<br>"
   ]
  },
  {
   "cell_type": "markdown",
   "metadata": {
    "Collapsed": "false"
   },
   "source": [
    "### Suitability of dataset\n",
    "\n",
    "As mentioned above, the dataset is very very small and can be used for demonstrating concepts, but already the size  \n",
    "of 24 records in total makes it a pretty lousy example to do fancy learning.  \n",
    "\n",
    "In addition the inner structure of the dataset is heavily mocked up. 3 \"age\" groups split the dataset in 3x8 records.  \n",
    "Hence, for each \"age\" group a full permutation of the other features is provided: 2^^3 = 8 records.  \n",
    "\n",
    "In a classical machine learning example one would split the dataset into training and test set.  \n",
    "Here, the size of the dataset is a limiting factor and leaving out certain records for training, will render the learner incapable of learning associated classes.  \n",
    " \n",
    "Given the exhaustive nature of the record structure, the dataset looks like a translation from a rules-based system:  \n",
    "> If tear_rate=1, then \"class 3\", else if age=1 and  ...  then ... , else ... \n",
    "\n"
   ]
  },
  {
   "cell_type": "markdown",
   "metadata": {
    "Collapsed": "false"
   },
   "source": [
    "---\n",
    "\n",
    "### **Dataset 2**\n",
    "\n",
    "**Balance Scale Data Set**  \n",
    "http://archive.ics.uci.edu/ml/datasets/balance+scale\n",
    "\n",
    "### Load dataset and print dataframe."
   ]
  },
  {
   "cell_type": "code",
   "execution_count": 31,
   "metadata": {
    "Collapsed": "false"
   },
   "outputs": [
    {
     "data": {
      "text/html": [
       "<div>\n",
       "<style scoped>\n",
       "    .dataframe tbody tr th:only-of-type {\n",
       "        vertical-align: middle;\n",
       "    }\n",
       "\n",
       "    .dataframe tbody tr th {\n",
       "        vertical-align: top;\n",
       "    }\n",
       "\n",
       "    .dataframe thead th {\n",
       "        text-align: right;\n",
       "    }\n",
       "</style>\n",
       "<table border=\"1\" class=\"dataframe\">\n",
       "  <thead>\n",
       "    <tr style=\"text-align: right;\">\n",
       "      <th></th>\n",
       "      <th>class</th>\n",
       "      <th>Left-Weight</th>\n",
       "      <th>Left-Distance</th>\n",
       "      <th>Right-Weight</th>\n",
       "      <th>Right-Distance</th>\n",
       "    </tr>\n",
       "  </thead>\n",
       "  <tbody>\n",
       "    <tr>\n",
       "      <td>0</td>\n",
       "      <td>B</td>\n",
       "      <td>1</td>\n",
       "      <td>1</td>\n",
       "      <td>1</td>\n",
       "      <td>1</td>\n",
       "    </tr>\n",
       "    <tr>\n",
       "      <td>1</td>\n",
       "      <td>R</td>\n",
       "      <td>1</td>\n",
       "      <td>1</td>\n",
       "      <td>1</td>\n",
       "      <td>2</td>\n",
       "    </tr>\n",
       "    <tr>\n",
       "      <td>2</td>\n",
       "      <td>R</td>\n",
       "      <td>1</td>\n",
       "      <td>1</td>\n",
       "      <td>1</td>\n",
       "      <td>3</td>\n",
       "    </tr>\n",
       "    <tr>\n",
       "      <td>3</td>\n",
       "      <td>R</td>\n",
       "      <td>1</td>\n",
       "      <td>1</td>\n",
       "      <td>1</td>\n",
       "      <td>4</td>\n",
       "    </tr>\n",
       "    <tr>\n",
       "      <td>4</td>\n",
       "      <td>R</td>\n",
       "      <td>1</td>\n",
       "      <td>1</td>\n",
       "      <td>1</td>\n",
       "      <td>5</td>\n",
       "    </tr>\n",
       "    <tr>\n",
       "      <td>...</td>\n",
       "      <td>...</td>\n",
       "      <td>...</td>\n",
       "      <td>...</td>\n",
       "      <td>...</td>\n",
       "      <td>...</td>\n",
       "    </tr>\n",
       "    <tr>\n",
       "      <td>620</td>\n",
       "      <td>L</td>\n",
       "      <td>5</td>\n",
       "      <td>5</td>\n",
       "      <td>5</td>\n",
       "      <td>1</td>\n",
       "    </tr>\n",
       "    <tr>\n",
       "      <td>621</td>\n",
       "      <td>L</td>\n",
       "      <td>5</td>\n",
       "      <td>5</td>\n",
       "      <td>5</td>\n",
       "      <td>2</td>\n",
       "    </tr>\n",
       "    <tr>\n",
       "      <td>622</td>\n",
       "      <td>L</td>\n",
       "      <td>5</td>\n",
       "      <td>5</td>\n",
       "      <td>5</td>\n",
       "      <td>3</td>\n",
       "    </tr>\n",
       "    <tr>\n",
       "      <td>623</td>\n",
       "      <td>L</td>\n",
       "      <td>5</td>\n",
       "      <td>5</td>\n",
       "      <td>5</td>\n",
       "      <td>4</td>\n",
       "    </tr>\n",
       "    <tr>\n",
       "      <td>624</td>\n",
       "      <td>B</td>\n",
       "      <td>5</td>\n",
       "      <td>5</td>\n",
       "      <td>5</td>\n",
       "      <td>5</td>\n",
       "    </tr>\n",
       "  </tbody>\n",
       "</table>\n",
       "<p>625 rows × 5 columns</p>\n",
       "</div>"
      ],
      "text/plain": [
       "    class  Left-Weight  Left-Distance  Right-Weight  Right-Distance\n",
       "0       B            1              1             1               1\n",
       "1       R            1              1             1               2\n",
       "2       R            1              1             1               3\n",
       "3       R            1              1             1               4\n",
       "4       R            1              1             1               5\n",
       "..    ...          ...            ...           ...             ...\n",
       "620     L            5              5             5               1\n",
       "621     L            5              5             5               2\n",
       "622     L            5              5             5               3\n",
       "623     L            5              5             5               4\n",
       "624     B            5              5             5               5\n",
       "\n",
       "[625 rows x 5 columns]"
      ]
     },
     "execution_count": 31,
     "metadata": {},
     "output_type": "execute_result"
    }
   ],
   "source": [
    "f2 = './ML_R00183658_DATA/balance-scale.data'\n",
    "df2 = pd.read_csv(f2, delimiter=',', header=None, names=['class', 'Left-Weight', 'Left-Distance', 'Right-Weight', 'Right-Distance'])\n",
    "df2"
   ]
  },
  {
   "cell_type": "code",
   "execution_count": 32,
   "metadata": {
    "Collapsed": "false"
   },
   "outputs": [
    {
     "data": {
      "text/plain": [
       "Text(0.5, 1.0, 'Left-Distance value per class')"
      ]
     },
     "execution_count": 32,
     "metadata": {},
     "output_type": "execute_result"
    },
    {
     "data": {
      "image/png": "[encoded data removed]",
      "text/plain": [
       "<Figure size 1296x360 with 3 Axes>"
      ]
     },
     "metadata": {
      "needs_background": "light"
     },
     "output_type": "display_data"
    }
   ],
   "source": [
    "fig, axs = plt.subplots(ncols=3, figsize=(18,5))\n",
    "sns.countplot(y='class', data=df2, ax=axs[0])\n",
    "sns.countplot(y='class', hue='Left-Weight', data=df2, ax=axs[1])\n",
    "sns.countplot(y='class', hue='Left-Distance', data=df2, ax=axs[2])\n",
    "axs[0].set_title('Count per class')\n",
    "axs[1].set_title('Left-Weight value per class')\n",
    "axs[2].set_title('Left-Distance value per class')"
   ]
  },
  {
   "cell_type": "markdown",
   "metadata": {
    "Collapsed": "false"
   },
   "source": [
    "**The dataset is large enogh so that we can properly split the dataset into training and test set.**  \n",
    "  \n",
    "**The plots above indicate a very strong inbalance in classes that will affect the prior probabilities of a Bayesian Learner.**  \n",
    "**Therefore, the training set will contain 525 records, the test set will contain 100 records to have a certain number of class \"B\" records in the test set.**"
   ]
  },
  {
   "cell_type": "code",
   "execution_count": 33,
   "metadata": {
    "Collapsed": "false"
   },
   "outputs": [
    {
     "name": "stdout",
     "output_type": "stream",
     "text": [
      "(625, 5)\n",
      "(525, 5)\n",
      "(100, 5)\n"
     ]
    }
   ],
   "source": [
    "idx = random.sample(range(1, df2.shape[0]), 100)\n",
    "df2_train = df2.drop(idx)\n",
    "df2_test = df2.loc[idx]\n",
    "\n",
    "print(df2.shape)\n",
    "print(df2_train.shape)\n",
    "print(df2_test.shape)"
   ]
  },
  {
   "cell_type": "markdown",
   "metadata": {
    "Collapsed": "false"
   },
   "source": [
    "### Let the NaiveBayes learner fit the data and print the probabilities\n",
    "\n",
    "Again, plus1 smoothing will be used."
   ]
  },
  {
   "cell_type": "code",
   "execution_count": 34,
   "metadata": {
    "Collapsed": "false"
   },
   "outputs": [
    {
     "data": {
      "text/plain": [
       "defaultdict(None,\n",
       "            {'prior': defaultdict(None,\n",
       "                         {'B': 0.0777988614800759,\n",
       "                          'R': 0.4573055028462998,\n",
       "                          'L': 0.4667931688804554}),\n",
       "             'likelihood': defaultdict(None,\n",
       "                         {'B': defaultdict(None,\n",
       "                                      {'p_Left-Weight_1': 0.21428571428571427,\n",
       "                                       'p_Left-Weight_2': 0.21428571428571427,\n",
       "                                       'p_Left-Weight_3': 0.19047619047619047,\n",
       "                                       'p_Left-Weight_4': 0.23809523809523808,\n",
       "                                       'p_Left-Weight_5': 0.21428571428571427,\n",
       "                                       'p_Left-Distance_1': 0.21428571428571427,\n",
       "                                       'p_Left-Distance_2': 0.2619047619047619,\n",
       "                                       'p_Left-Distance_3': 0.16666666666666666,\n",
       "                                       'p_Left-Distance_4': 0.21428571428571427,\n",
       "                                       'p_Left-Distance_5': 0.21428571428571427,\n",
       "                                       'p_Right-Weight_1': 0.21428571428571427,\n",
       "                                       'p_Right-Weight_2': 0.2619047619047619,\n",
       "                                       'p_Right-Weight_3': 0.19047619047619047,\n",
       "                                       'p_Right-Weight_4': 0.19047619047619047,\n",
       "                                       'p_Right-Weight_5': 0.21428571428571427,\n",
       "                                       'p_Right-Distance_1': 0.21428571428571427,\n",
       "                                       'p_Right-Distance_2': 0.21428571428571427,\n",
       "                                       'p_Right-Distance_3': 0.16666666666666666,\n",
       "                                       'p_Right-Distance_4': 0.2619047619047619,\n",
       "                                       'p_Right-Distance_5': 0.21428571428571427}),\n",
       "                          'R': defaultdict(None,\n",
       "                                      {'p_Left-Weight_1': 0.35537190082644626,\n",
       "                                       'p_Left-Weight_2': 0.23140495867768596,\n",
       "                                       'p_Left-Weight_3': 0.17355371900826447,\n",
       "                                       'p_Left-Weight_4': 0.1446280991735537,\n",
       "                                       'p_Left-Weight_5': 0.10743801652892562,\n",
       "                                       'p_Left-Distance_1': 0.34297520661157027,\n",
       "                                       'p_Left-Distance_2': 0.2396694214876033,\n",
       "                                       'p_Left-Distance_3': 0.19421487603305784,\n",
       "                                       'p_Left-Distance_4': 0.1446280991735537,\n",
       "                                       'p_Left-Distance_5': 0.09090909090909091,\n",
       "                                       'p_Right-Weight_1': 0.06611570247933884,\n",
       "                                       'p_Right-Weight_2': 0.14049586776859505,\n",
       "                                       'p_Right-Weight_3': 0.23553719008264462,\n",
       "                                       'p_Right-Weight_4': 0.2809917355371901,\n",
       "                                       'p_Right-Weight_5': 0.2892561983471074,\n",
       "                                       'p_Right-Distance_1': 0.05785123966942149,\n",
       "                                       'p_Right-Distance_2': 0.15702479338842976,\n",
       "                                       'p_Right-Distance_3': 0.21074380165289255,\n",
       "                                       'p_Right-Distance_4': 0.2809917355371901,\n",
       "                                       'p_Right-Distance_5': 0.30578512396694213}),\n",
       "                          'L': defaultdict(None,\n",
       "                                      {'p_Left-Weight_1': 0.06882591093117409,\n",
       "                                       'p_Left-Weight_2': 0.14979757085020243,\n",
       "                                       'p_Left-Weight_3': 0.20242914979757085,\n",
       "                                       'p_Left-Weight_4': 0.2631578947368421,\n",
       "                                       'p_Left-Weight_5': 0.32793522267206476,\n",
       "                                       'p_Left-Distance_1': 0.06072874493927125,\n",
       "                                       'p_Left-Distance_2': 0.14979757085020243,\n",
       "                                       'p_Left-Distance_3': 0.2145748987854251,\n",
       "                                       'p_Left-Distance_4': 0.2631578947368421,\n",
       "                                       'p_Left-Distance_5': 0.32388663967611336,\n",
       "                                       'p_Right-Weight_1': 0.3481781376518219,\n",
       "                                       'p_Right-Weight_2': 0.24696356275303644,\n",
       "                                       'p_Right-Weight_3': 0.17408906882591094,\n",
       "                                       'p_Right-Weight_4': 0.13765182186234817,\n",
       "                                       'p_Right-Weight_5': 0.10526315789473684,\n",
       "                                       'p_Right-Distance_1': 0.3319838056680162,\n",
       "                                       'p_Right-Distance_2': 0.25101214574898784,\n",
       "                                       'p_Right-Distance_3': 0.19433198380566802,\n",
       "                                       'p_Right-Distance_4': 0.1417004048582996,\n",
       "                                       'p_Right-Distance_5': 0.0931174089068826})}),\n",
       "             'evidence': defaultdict(None,\n",
       "                         {'p_Left-Weight_1': 0.20872865275142316,\n",
       "                          'p_Left-Weight_2': 0.18975332068311196,\n",
       "                          'p_Left-Weight_3': 0.1859582542694497,\n",
       "                          'p_Left-Weight_4': 0.2049335863377609,\n",
       "                          'p_Left-Weight_5': 0.21631878557874762,\n",
       "                          'p_Left-Distance_1': 0.19924098671726756,\n",
       "                          'p_Left-Distance_2': 0.19734345351043645,\n",
       "                          'p_Left-Distance_3': 0.19924098671726756,\n",
       "                          'p_Left-Distance_4': 0.2030360531309298,\n",
       "                          'p_Left-Distance_5': 0.20683111954459202,\n",
       "                          'p_Right-Weight_1': 0.20683111954459202,\n",
       "                          'p_Right-Weight_2': 0.19734345351043645,\n",
       "                          'p_Right-Weight_3': 0.20113851992409867,\n",
       "                          'p_Right-Weight_4': 0.2049335863377609,\n",
       "                          'p_Right-Weight_5': 0.1954459203036053,\n",
       "                          'p_Right-Distance_1': 0.1954459203036053,\n",
       "                          'p_Right-Distance_2': 0.2030360531309298,\n",
       "                          'p_Right-Distance_3': 0.19734345351043645,\n",
       "                          'p_Right-Distance_4': 0.2125237191650854,\n",
       "                          'p_Right-Distance_5': 0.19734345351043645})})"
      ]
     },
     "execution_count": 34,
     "metadata": {},
     "output_type": "execute_result"
    }
   ],
   "source": [
    "nb2 = NaiveBayes()\n",
    "nb2.fit(df2_train, target='class', smoothing='plus1')\n",
    "nb2.p_"
   ]
  },
  {
   "cell_type": "markdown",
   "metadata": {
    "Collapsed": "false"
   },
   "source": [
    "<br>\n",
    "<strong style=\"color: red;\">Note:</strong>\n",
    "\n",
    "The same operations as manually explained for dataset 1 apply here for the 2nd dataset.  \n",
    "I will not repeat the manual steps, but only print the 3 probability tables using pandas and seaborn.\n",
    "\n",
    "<br>"
   ]
  },
  {
   "cell_type": "code",
   "execution_count": 35,
   "metadata": {
    "Collapsed": "false"
   },
   "outputs": [
    {
     "data": {
      "text/html": [
       "<style  type=\"text/css\" >\n",
       "    #T_9866793a_244e_11ea_9ca4_d0c637b54996row0_col0 {\n",
       "            background-color:  #e5e5ff;\n",
       "            color:  #000000;\n",
       "        }    #T_9866793a_244e_11ea_9ca4_d0c637b54996row1_col0 {\n",
       "            background-color:  #0505ff;\n",
       "            color:  #f1f1f1;\n",
       "        }    #T_9866793a_244e_11ea_9ca4_d0c637b54996row2_col0 {\n",
       "            background-color:  #0000ff;\n",
       "            color:  #f1f1f1;\n",
       "        }</style><table id=\"T_9866793a_244e_11ea_9ca4_d0c637b54996\" ><thead>    <tr>        <th class=\"blank level0\" ></th>        <th class=\"col_heading level0 col0\" >Prior</th>    </tr></thead><tbody>\n",
       "                <tr>\n",
       "                        <th id=\"T_9866793a_244e_11ea_9ca4_d0c637b54996level0_row0\" class=\"row_heading level0 row0\" >B</th>\n",
       "                        <td id=\"T_9866793a_244e_11ea_9ca4_d0c637b54996row0_col0\" class=\"data row0 col0\" >0.0777989</td>\n",
       "            </tr>\n",
       "            <tr>\n",
       "                        <th id=\"T_9866793a_244e_11ea_9ca4_d0c637b54996level0_row1\" class=\"row_heading level0 row1\" >R</th>\n",
       "                        <td id=\"T_9866793a_244e_11ea_9ca4_d0c637b54996row1_col0\" class=\"data row1 col0\" >0.457306</td>\n",
       "            </tr>\n",
       "            <tr>\n",
       "                        <th id=\"T_9866793a_244e_11ea_9ca4_d0c637b54996level0_row2\" class=\"row_heading level0 row2\" >L</th>\n",
       "                        <td id=\"T_9866793a_244e_11ea_9ca4_d0c637b54996row2_col0\" class=\"data row2 col0\" >0.466793</td>\n",
       "            </tr>\n",
       "    </tbody></table>"
      ],
      "text/plain": [
       "<pandas.io.formats.style.Styler at 0x1a5207ff048>"
      ]
     },
     "execution_count": 35,
     "metadata": {},
     "output_type": "execute_result"
    }
   ],
   "source": [
    "priorTable2 = pd.DataFrame(data=nb2.p_['prior'].values(), index=nb2.p_['prior'].keys(), columns=['Prior'])\n",
    "\n",
    "cm = sns.light_palette(\"blue\", as_cmap=True)\n",
    "sns_priorTable2 = priorTable2.style.background_gradient(cmap=cm)\n",
    "sns_priorTable2"
   ]
  },
  {
   "cell_type": "code",
   "execution_count": 36,
   "metadata": {
    "Collapsed": "false"
   },
   "outputs": [
    {
     "data": {
      "text/html": [
       "<style  type=\"text/css\" >\n",
       "    #T_986ed7ac_244e_11ea_91bd_d0c637b54996row0_col0 {\n",
       "            background-color:  #7373ff;\n",
       "            color:  #000000;\n",
       "        }    #T_986ed7ac_244e_11ea_91bd_d0c637b54996row0_col1 {\n",
       "            background-color:  #dfdfff;\n",
       "            color:  #000000;\n",
       "        }    #T_986ed7ac_244e_11ea_91bd_d0c637b54996row0_col2 {\n",
       "            background-color:  #0000ff;\n",
       "            color:  #f1f1f1;\n",
       "        }    #T_986ed7ac_244e_11ea_91bd_d0c637b54996row1_col0 {\n",
       "            background-color:  #7373ff;\n",
       "            color:  #000000;\n",
       "        }    #T_986ed7ac_244e_11ea_91bd_d0c637b54996row1_col1 {\n",
       "            background-color:  #9e9eff;\n",
       "            color:  #000000;\n",
       "        }    #T_986ed7ac_244e_11ea_91bd_d0c637b54996row1_col2 {\n",
       "            background-color:  #5f5fff;\n",
       "            color:  #000000;\n",
       "        }    #T_986ed7ac_244e_11ea_91bd_d0c637b54996row2_col0 {\n",
       "            background-color:  #adadff;\n",
       "            color:  #000000;\n",
       "        }    #T_986ed7ac_244e_11ea_91bd_d0c637b54996row2_col1 {\n",
       "            background-color:  #7474ff;\n",
       "            color:  #000000;\n",
       "        }    #T_986ed7ac_244e_11ea_91bd_d0c637b54996row2_col2 {\n",
       "            background-color:  #8c8cff;\n",
       "            color:  #000000;\n",
       "        }    #T_986ed7ac_244e_11ea_91bd_d0c637b54996row3_col0 {\n",
       "            background-color:  #3a3aff;\n",
       "            color:  #f1f1f1;\n",
       "        }    #T_986ed7ac_244e_11ea_91bd_d0c637b54996row3_col1 {\n",
       "            background-color:  #4444ff;\n",
       "            color:  #f1f1f1;\n",
       "        }    #T_986ed7ac_244e_11ea_91bd_d0c637b54996row3_col2 {\n",
       "            background-color:  #a3a3ff;\n",
       "            color:  #000000;\n",
       "        }    #T_986ed7ac_244e_11ea_91bd_d0c637b54996row4_col0 {\n",
       "            background-color:  #7373ff;\n",
       "            color:  #000000;\n",
       "        }    #T_986ed7ac_244e_11ea_91bd_d0c637b54996row4_col1 {\n",
       "            background-color:  #1010ff;\n",
       "            color:  #f1f1f1;\n",
       "        }    #T_986ed7ac_244e_11ea_91bd_d0c637b54996row4_col2 {\n",
       "            background-color:  #c0c0ff;\n",
       "            color:  #000000;\n",
       "        }    #T_986ed7ac_244e_11ea_91bd_d0c637b54996row5_col0 {\n",
       "            background-color:  #7373ff;\n",
       "            color:  #000000;\n",
       "        }    #T_986ed7ac_244e_11ea_91bd_d0c637b54996row5_col1 {\n",
       "            background-color:  #e5e5ff;\n",
       "            color:  #000000;\n",
       "        }    #T_986ed7ac_244e_11ea_91bd_d0c637b54996row5_col2 {\n",
       "            background-color:  #0909ff;\n",
       "            color:  #f1f1f1;\n",
       "        }    #T_986ed7ac_244e_11ea_91bd_d0c637b54996row6_col0 {\n",
       "            background-color:  #0000ff;\n",
       "            color:  #f1f1f1;\n",
       "        }    #T_986ed7ac_244e_11ea_91bd_d0c637b54996row6_col1 {\n",
       "            background-color:  #9e9eff;\n",
       "            color:  #000000;\n",
       "        }    #T_986ed7ac_244e_11ea_91bd_d0c637b54996row6_col2 {\n",
       "            background-color:  #5959ff;\n",
       "            color:  #f1f1f1;\n",
       "        }    #T_986ed7ac_244e_11ea_91bd_d0c637b54996row7_col0 {\n",
       "            background-color:  #e5e5ff;\n",
       "            color:  #000000;\n",
       "        }    #T_986ed7ac_244e_11ea_91bd_d0c637b54996row7_col1 {\n",
       "            background-color:  #6a6aff;\n",
       "            color:  #000000;\n",
       "        }    #T_986ed7ac_244e_11ea_91bd_d0c637b54996row7_col2 {\n",
       "            background-color:  #7c7cff;\n",
       "            color:  #000000;\n",
       "        }    #T_986ed7ac_244e_11ea_91bd_d0c637b54996row8_col0 {\n",
       "            background-color:  #7373ff;\n",
       "            color:  #000000;\n",
       "        }    #T_986ed7ac_244e_11ea_91bd_d0c637b54996row8_col1 {\n",
       "            background-color:  #4444ff;\n",
       "            color:  #f1f1f1;\n",
       "        }    #T_986ed7ac_244e_11ea_91bd_d0c637b54996row8_col2 {\n",
       "            background-color:  #a3a3ff;\n",
       "            color:  #000000;\n",
       "        }    #T_986ed7ac_244e_11ea_91bd_d0c637b54996row9_col0 {\n",
       "            background-color:  #7373ff;\n",
       "            color:  #000000;\n",
       "        }    #T_986ed7ac_244e_11ea_91bd_d0c637b54996row9_col1 {\n",
       "            background-color:  #1313ff;\n",
       "            color:  #f1f1f1;\n",
       "        }    #T_986ed7ac_244e_11ea_91bd_d0c637b54996row9_col2 {\n",
       "            background-color:  #ccccff;\n",
       "            color:  #000000;\n",
       "        }    #T_986ed7ac_244e_11ea_91bd_d0c637b54996row10_col0 {\n",
       "            background-color:  #7373ff;\n",
       "            color:  #000000;\n",
       "        }    #T_986ed7ac_244e_11ea_91bd_d0c637b54996row10_col1 {\n",
       "            background-color:  #0000ff;\n",
       "            color:  #f1f1f1;\n",
       "        }    #T_986ed7ac_244e_11ea_91bd_d0c637b54996row10_col2 {\n",
       "            background-color:  #dfdfff;\n",
       "            color:  #000000;\n",
       "        }    #T_986ed7ac_244e_11ea_91bd_d0c637b54996row11_col0 {\n",
       "            background-color:  #0000ff;\n",
       "            color:  #f1f1f1;\n",
       "        }    #T_986ed7ac_244e_11ea_91bd_d0c637b54996row11_col1 {\n",
       "            background-color:  #5151ff;\n",
       "            color:  #f1f1f1;\n",
       "        }    #T_986ed7ac_244e_11ea_91bd_d0c637b54996row11_col2 {\n",
       "            background-color:  #a6a6ff;\n",
       "            color:  #000000;\n",
       "        }    #T_986ed7ac_244e_11ea_91bd_d0c637b54996row12_col0 {\n",
       "            background-color:  #adadff;\n",
       "            color:  #000000;\n",
       "        }    #T_986ed7ac_244e_11ea_91bd_d0c637b54996row12_col1 {\n",
       "            background-color:  #8b8bff;\n",
       "            color:  #000000;\n",
       "        }    #T_986ed7ac_244e_11ea_91bd_d0c637b54996row12_col2 {\n",
       "            background-color:  #5d5dff;\n",
       "            color:  #000000;\n",
       "        }    #T_986ed7ac_244e_11ea_91bd_d0c637b54996row13_col0 {\n",
       "            background-color:  #adadff;\n",
       "            color:  #000000;\n",
       "        }    #T_986ed7ac_244e_11ea_91bd_d0c637b54996row13_col1 {\n",
       "            background-color:  #a8a8ff;\n",
       "            color:  #000000;\n",
       "        }    #T_986ed7ac_244e_11ea_91bd_d0c637b54996row13_col2 {\n",
       "            background-color:  #3939ff;\n",
       "            color:  #f1f1f1;\n",
       "        }    #T_986ed7ac_244e_11ea_91bd_d0c637b54996row14_col0 {\n",
       "            background-color:  #7373ff;\n",
       "            color:  #000000;\n",
       "        }    #T_986ed7ac_244e_11ea_91bd_d0c637b54996row14_col1 {\n",
       "            background-color:  #c2c2ff;\n",
       "            color:  #000000;\n",
       "        }    #T_986ed7ac_244e_11ea_91bd_d0c637b54996row14_col2 {\n",
       "            background-color:  #3232ff;\n",
       "            color:  #f1f1f1;\n",
       "        }    #T_986ed7ac_244e_11ea_91bd_d0c637b54996row15_col0 {\n",
       "            background-color:  #7373ff;\n",
       "            color:  #000000;\n",
       "        }    #T_986ed7ac_244e_11ea_91bd_d0c637b54996row15_col1 {\n",
       "            background-color:  #0d0dff;\n",
       "            color:  #f1f1f1;\n",
       "        }    #T_986ed7ac_244e_11ea_91bd_d0c637b54996row15_col2 {\n",
       "            background-color:  #e5e5ff;\n",
       "            color:  #000000;\n",
       "        }    #T_986ed7ac_244e_11ea_91bd_d0c637b54996row16_col0 {\n",
       "            background-color:  #7373ff;\n",
       "            color:  #000000;\n",
       "        }    #T_986ed7ac_244e_11ea_91bd_d0c637b54996row16_col1 {\n",
       "            background-color:  #4d4dff;\n",
       "            color:  #f1f1f1;\n",
       "        }    #T_986ed7ac_244e_11ea_91bd_d0c637b54996row16_col2 {\n",
       "            background-color:  #9999ff;\n",
       "            color:  #000000;\n",
       "        }    #T_986ed7ac_244e_11ea_91bd_d0c637b54996row17_col0 {\n",
       "            background-color:  #e5e5ff;\n",
       "            color:  #000000;\n",
       "        }    #T_986ed7ac_244e_11ea_91bd_d0c637b54996row17_col1 {\n",
       "            background-color:  #7b7bff;\n",
       "            color:  #000000;\n",
       "        }    #T_986ed7ac_244e_11ea_91bd_d0c637b54996row17_col2 {\n",
       "            background-color:  #7070ff;\n",
       "            color:  #000000;\n",
       "        }    #T_986ed7ac_244e_11ea_91bd_d0c637b54996row18_col0 {\n",
       "            background-color:  #0000ff;\n",
       "            color:  #f1f1f1;\n",
       "        }    #T_986ed7ac_244e_11ea_91bd_d0c637b54996row18_col1 {\n",
       "            background-color:  #a5a5ff;\n",
       "            color:  #000000;\n",
       "        }    #T_986ed7ac_244e_11ea_91bd_d0c637b54996row18_col2 {\n",
       "            background-color:  #3939ff;\n",
       "            color:  #f1f1f1;\n",
       "        }    #T_986ed7ac_244e_11ea_91bd_d0c637b54996row19_col0 {\n",
       "            background-color:  #7373ff;\n",
       "            color:  #000000;\n",
       "        }    #T_986ed7ac_244e_11ea_91bd_d0c637b54996row19_col1 {\n",
       "            background-color:  #ccccff;\n",
       "            color:  #000000;\n",
       "        }    #T_986ed7ac_244e_11ea_91bd_d0c637b54996row19_col2 {\n",
       "            background-color:  #2626ff;\n",
       "            color:  #f1f1f1;\n",
       "        }</style><table id=\"T_986ed7ac_244e_11ea_91bd_d0c637b54996\" ><thead>    <tr>        <th class=\"blank level0\" ></th>        <th class=\"col_heading level0 col0\" >P(c=B | E)</th>        <th class=\"col_heading level0 col1\" >P(c=L | E)</th>        <th class=\"col_heading level0 col2\" >P(c=R | E)</th>    </tr></thead><tbody>\n",
       "                <tr>\n",
       "                        <th id=\"T_986ed7ac_244e_11ea_91bd_d0c637b54996level0_row0\" class=\"row_heading level0 row0\" >p_Left-Weight_1</th>\n",
       "                        <td id=\"T_986ed7ac_244e_11ea_91bd_d0c637b54996row0_col0\" class=\"data row0 col0\" >0.214286</td>\n",
       "                        <td id=\"T_986ed7ac_244e_11ea_91bd_d0c637b54996row0_col1\" class=\"data row0 col1\" >0.0688259</td>\n",
       "                        <td id=\"T_986ed7ac_244e_11ea_91bd_d0c637b54996row0_col2\" class=\"data row0 col2\" >0.355372</td>\n",
       "            </tr>\n",
       "            <tr>\n",
       "                        <th id=\"T_986ed7ac_244e_11ea_91bd_d0c637b54996level0_row1\" class=\"row_heading level0 row1\" >p_Left-Weight_2</th>\n",
       "                        <td id=\"T_986ed7ac_244e_11ea_91bd_d0c637b54996row1_col0\" class=\"data row1 col0\" >0.214286</td>\n",
       "                        <td id=\"T_986ed7ac_244e_11ea_91bd_d0c637b54996row1_col1\" class=\"data row1 col1\" >0.149798</td>\n",
       "                        <td id=\"T_986ed7ac_244e_11ea_91bd_d0c637b54996row1_col2\" class=\"data row1 col2\" >0.231405</td>\n",
       "            </tr>\n",
       "            <tr>\n",
       "                        <th id=\"T_986ed7ac_244e_11ea_91bd_d0c637b54996level0_row2\" class=\"row_heading level0 row2\" >p_Left-Weight_3</th>\n",
       "                        <td id=\"T_986ed7ac_244e_11ea_91bd_d0c637b54996row2_col0\" class=\"data row2 col0\" >0.190476</td>\n",
       "                        <td id=\"T_986ed7ac_244e_11ea_91bd_d0c637b54996row2_col1\" class=\"data row2 col1\" >0.202429</td>\n",
       "                        <td id=\"T_986ed7ac_244e_11ea_91bd_d0c637b54996row2_col2\" class=\"data row2 col2\" >0.173554</td>\n",
       "            </tr>\n",
       "            <tr>\n",
       "                        <th id=\"T_986ed7ac_244e_11ea_91bd_d0c637b54996level0_row3\" class=\"row_heading level0 row3\" >p_Left-Weight_4</th>\n",
       "                        <td id=\"T_986ed7ac_244e_11ea_91bd_d0c637b54996row3_col0\" class=\"data row3 col0\" >0.238095</td>\n",
       "                        <td id=\"T_986ed7ac_244e_11ea_91bd_d0c637b54996row3_col1\" class=\"data row3 col1\" >0.263158</td>\n",
       "                        <td id=\"T_986ed7ac_244e_11ea_91bd_d0c637b54996row3_col2\" class=\"data row3 col2\" >0.144628</td>\n",
       "            </tr>\n",
       "            <tr>\n",
       "                        <th id=\"T_986ed7ac_244e_11ea_91bd_d0c637b54996level0_row4\" class=\"row_heading level0 row4\" >p_Left-Weight_5</th>\n",
       "                        <td id=\"T_986ed7ac_244e_11ea_91bd_d0c637b54996row4_col0\" class=\"data row4 col0\" >0.214286</td>\n",
       "                        <td id=\"T_986ed7ac_244e_11ea_91bd_d0c637b54996row4_col1\" class=\"data row4 col1\" >0.327935</td>\n",
       "                        <td id=\"T_986ed7ac_244e_11ea_91bd_d0c637b54996row4_col2\" class=\"data row4 col2\" >0.107438</td>\n",
       "            </tr>\n",
       "            <tr>\n",
       "                        <th id=\"T_986ed7ac_244e_11ea_91bd_d0c637b54996level0_row5\" class=\"row_heading level0 row5\" >p_Left-Distance_1</th>\n",
       "                        <td id=\"T_986ed7ac_244e_11ea_91bd_d0c637b54996row5_col0\" class=\"data row5 col0\" >0.214286</td>\n",
       "                        <td id=\"T_986ed7ac_244e_11ea_91bd_d0c637b54996row5_col1\" class=\"data row5 col1\" >0.0607287</td>\n",
       "                        <td id=\"T_986ed7ac_244e_11ea_91bd_d0c637b54996row5_col2\" class=\"data row5 col2\" >0.342975</td>\n",
       "            </tr>\n",
       "            <tr>\n",
       "                        <th id=\"T_986ed7ac_244e_11ea_91bd_d0c637b54996level0_row6\" class=\"row_heading level0 row6\" >p_Left-Distance_2</th>\n",
       "                        <td id=\"T_986ed7ac_244e_11ea_91bd_d0c637b54996row6_col0\" class=\"data row6 col0\" >0.261905</td>\n",
       "                        <td id=\"T_986ed7ac_244e_11ea_91bd_d0c637b54996row6_col1\" class=\"data row6 col1\" >0.149798</td>\n",
       "                        <td id=\"T_986ed7ac_244e_11ea_91bd_d0c637b54996row6_col2\" class=\"data row6 col2\" >0.239669</td>\n",
       "            </tr>\n",
       "            <tr>\n",
       "                        <th id=\"T_986ed7ac_244e_11ea_91bd_d0c637b54996level0_row7\" class=\"row_heading level0 row7\" >p_Left-Distance_3</th>\n",
       "                        <td id=\"T_986ed7ac_244e_11ea_91bd_d0c637b54996row7_col0\" class=\"data row7 col0\" >0.166667</td>\n",
       "                        <td id=\"T_986ed7ac_244e_11ea_91bd_d0c637b54996row7_col1\" class=\"data row7 col1\" >0.214575</td>\n",
       "                        <td id=\"T_986ed7ac_244e_11ea_91bd_d0c637b54996row7_col2\" class=\"data row7 col2\" >0.194215</td>\n",
       "            </tr>\n",
       "            <tr>\n",
       "                        <th id=\"T_986ed7ac_244e_11ea_91bd_d0c637b54996level0_row8\" class=\"row_heading level0 row8\" >p_Left-Distance_4</th>\n",
       "                        <td id=\"T_986ed7ac_244e_11ea_91bd_d0c637b54996row8_col0\" class=\"data row8 col0\" >0.214286</td>\n",
       "                        <td id=\"T_986ed7ac_244e_11ea_91bd_d0c637b54996row8_col1\" class=\"data row8 col1\" >0.263158</td>\n",
       "                        <td id=\"T_986ed7ac_244e_11ea_91bd_d0c637b54996row8_col2\" class=\"data row8 col2\" >0.144628</td>\n",
       "            </tr>\n",
       "            <tr>\n",
       "                        <th id=\"T_986ed7ac_244e_11ea_91bd_d0c637b54996level0_row9\" class=\"row_heading level0 row9\" >p_Left-Distance_5</th>\n",
       "                        <td id=\"T_986ed7ac_244e_11ea_91bd_d0c637b54996row9_col0\" class=\"data row9 col0\" >0.214286</td>\n",
       "                        <td id=\"T_986ed7ac_244e_11ea_91bd_d0c637b54996row9_col1\" class=\"data row9 col1\" >0.323887</td>\n",
       "                        <td id=\"T_986ed7ac_244e_11ea_91bd_d0c637b54996row9_col2\" class=\"data row9 col2\" >0.0909091</td>\n",
       "            </tr>\n",
       "            <tr>\n",
       "                        <th id=\"T_986ed7ac_244e_11ea_91bd_d0c637b54996level0_row10\" class=\"row_heading level0 row10\" >p_Right-Weight_1</th>\n",
       "                        <td id=\"T_986ed7ac_244e_11ea_91bd_d0c637b54996row10_col0\" class=\"data row10 col0\" >0.214286</td>\n",
       "                        <td id=\"T_986ed7ac_244e_11ea_91bd_d0c637b54996row10_col1\" class=\"data row10 col1\" >0.348178</td>\n",
       "                        <td id=\"T_986ed7ac_244e_11ea_91bd_d0c637b54996row10_col2\" class=\"data row10 col2\" >0.0661157</td>\n",
       "            </tr>\n",
       "            <tr>\n",
       "                        <th id=\"T_986ed7ac_244e_11ea_91bd_d0c637b54996level0_row11\" class=\"row_heading level0 row11\" >p_Right-Weight_2</th>\n",
       "                        <td id=\"T_986ed7ac_244e_11ea_91bd_d0c637b54996row11_col0\" class=\"data row11 col0\" >0.261905</td>\n",
       "                        <td id=\"T_986ed7ac_244e_11ea_91bd_d0c637b54996row11_col1\" class=\"data row11 col1\" >0.246964</td>\n",
       "                        <td id=\"T_986ed7ac_244e_11ea_91bd_d0c637b54996row11_col2\" class=\"data row11 col2\" >0.140496</td>\n",
       "            </tr>\n",
       "            <tr>\n",
       "                        <th id=\"T_986ed7ac_244e_11ea_91bd_d0c637b54996level0_row12\" class=\"row_heading level0 row12\" >p_Right-Weight_3</th>\n",
       "                        <td id=\"T_986ed7ac_244e_11ea_91bd_d0c637b54996row12_col0\" class=\"data row12 col0\" >0.190476</td>\n",
       "                        <td id=\"T_986ed7ac_244e_11ea_91bd_d0c637b54996row12_col1\" class=\"data row12 col1\" >0.174089</td>\n",
       "                        <td id=\"T_986ed7ac_244e_11ea_91bd_d0c637b54996row12_col2\" class=\"data row12 col2\" >0.235537</td>\n",
       "            </tr>\n",
       "            <tr>\n",
       "                        <th id=\"T_986ed7ac_244e_11ea_91bd_d0c637b54996level0_row13\" class=\"row_heading level0 row13\" >p_Right-Weight_4</th>\n",
       "                        <td id=\"T_986ed7ac_244e_11ea_91bd_d0c637b54996row13_col0\" class=\"data row13 col0\" >0.190476</td>\n",
       "                        <td id=\"T_986ed7ac_244e_11ea_91bd_d0c637b54996row13_col1\" class=\"data row13 col1\" >0.137652</td>\n",
       "                        <td id=\"T_986ed7ac_244e_11ea_91bd_d0c637b54996row13_col2\" class=\"data row13 col2\" >0.280992</td>\n",
       "            </tr>\n",
       "            <tr>\n",
       "                        <th id=\"T_986ed7ac_244e_11ea_91bd_d0c637b54996level0_row14\" class=\"row_heading level0 row14\" >p_Right-Weight_5</th>\n",
       "                        <td id=\"T_986ed7ac_244e_11ea_91bd_d0c637b54996row14_col0\" class=\"data row14 col0\" >0.214286</td>\n",
       "                        <td id=\"T_986ed7ac_244e_11ea_91bd_d0c637b54996row14_col1\" class=\"data row14 col1\" >0.105263</td>\n",
       "                        <td id=\"T_986ed7ac_244e_11ea_91bd_d0c637b54996row14_col2\" class=\"data row14 col2\" >0.289256</td>\n",
       "            </tr>\n",
       "            <tr>\n",
       "                        <th id=\"T_986ed7ac_244e_11ea_91bd_d0c637b54996level0_row15\" class=\"row_heading level0 row15\" >p_Right-Distance_1</th>\n",
       "                        <td id=\"T_986ed7ac_244e_11ea_91bd_d0c637b54996row15_col0\" class=\"data row15 col0\" >0.214286</td>\n",
       "                        <td id=\"T_986ed7ac_244e_11ea_91bd_d0c637b54996row15_col1\" class=\"data row15 col1\" >0.331984</td>\n",
       "                        <td id=\"T_986ed7ac_244e_11ea_91bd_d0c637b54996row15_col2\" class=\"data row15 col2\" >0.0578512</td>\n",
       "            </tr>\n",
       "            <tr>\n",
       "                        <th id=\"T_986ed7ac_244e_11ea_91bd_d0c637b54996level0_row16\" class=\"row_heading level0 row16\" >p_Right-Distance_2</th>\n",
       "                        <td id=\"T_986ed7ac_244e_11ea_91bd_d0c637b54996row16_col0\" class=\"data row16 col0\" >0.214286</td>\n",
       "                        <td id=\"T_986ed7ac_244e_11ea_91bd_d0c637b54996row16_col1\" class=\"data row16 col1\" >0.251012</td>\n",
       "                        <td id=\"T_986ed7ac_244e_11ea_91bd_d0c637b54996row16_col2\" class=\"data row16 col2\" >0.157025</td>\n",
       "            </tr>\n",
       "            <tr>\n",
       "                        <th id=\"T_986ed7ac_244e_11ea_91bd_d0c637b54996level0_row17\" class=\"row_heading level0 row17\" >p_Right-Distance_3</th>\n",
       "                        <td id=\"T_986ed7ac_244e_11ea_91bd_d0c637b54996row17_col0\" class=\"data row17 col0\" >0.166667</td>\n",
       "                        <td id=\"T_986ed7ac_244e_11ea_91bd_d0c637b54996row17_col1\" class=\"data row17 col1\" >0.194332</td>\n",
       "                        <td id=\"T_986ed7ac_244e_11ea_91bd_d0c637b54996row17_col2\" class=\"data row17 col2\" >0.210744</td>\n",
       "            </tr>\n",
       "            <tr>\n",
       "                        <th id=\"T_986ed7ac_244e_11ea_91bd_d0c637b54996level0_row18\" class=\"row_heading level0 row18\" >p_Right-Distance_4</th>\n",
       "                        <td id=\"T_986ed7ac_244e_11ea_91bd_d0c637b54996row18_col0\" class=\"data row18 col0\" >0.261905</td>\n",
       "                        <td id=\"T_986ed7ac_244e_11ea_91bd_d0c637b54996row18_col1\" class=\"data row18 col1\" >0.1417</td>\n",
       "                        <td id=\"T_986ed7ac_244e_11ea_91bd_d0c637b54996row18_col2\" class=\"data row18 col2\" >0.280992</td>\n",
       "            </tr>\n",
       "            <tr>\n",
       "                        <th id=\"T_986ed7ac_244e_11ea_91bd_d0c637b54996level0_row19\" class=\"row_heading level0 row19\" >p_Right-Distance_5</th>\n",
       "                        <td id=\"T_986ed7ac_244e_11ea_91bd_d0c637b54996row19_col0\" class=\"data row19 col0\" >0.214286</td>\n",
       "                        <td id=\"T_986ed7ac_244e_11ea_91bd_d0c637b54996row19_col1\" class=\"data row19 col1\" >0.0931174</td>\n",
       "                        <td id=\"T_986ed7ac_244e_11ea_91bd_d0c637b54996row19_col2\" class=\"data row19 col2\" >0.305785</td>\n",
       "            </tr>\n",
       "    </tbody></table>"
      ],
      "text/plain": [
       "<pandas.io.formats.style.Styler at 0x1a520804508>"
      ]
     },
     "execution_count": 36,
     "metadata": {},
     "output_type": "execute_result"
    }
   ],
   "source": [
    "likelihoodTable2 = pd.DataFrame(data=nb2.p_['likelihood']['B'].values(), index=nb2.p_['likelihood']['B'].keys(), columns=['P(c=B | E)'])\n",
    "likelihoodTable2['P(c=L | E)'] = nb2.p_['likelihood']['L'].values()\n",
    "likelihoodTable2['P(c=R | E)'] = nb2.p_['likelihood']['R'].values()\n",
    "\n",
    "cm = sns.light_palette(\"blue\", as_cmap=True)\n",
    "sns_likelihoodTable2 = likelihoodTable2.style.background_gradient(cmap=cm)\n",
    "sns_likelihoodTable2"
   ]
  },
  {
   "cell_type": "code",
   "execution_count": 37,
   "metadata": {
    "Collapsed": "false"
   },
   "outputs": [
    {
     "data": {
      "text/html": [
       "<style  type=\"text/css\" >\n",
       "    #T_9873dd34_244e_11ea_b11b_d0c637b54996row0_col0 {\n",
       "            background-color:  #3939ff;\n",
       "            color:  #f1f1f1;\n",
       "        }    #T_9873dd34_244e_11ea_b11b_d0c637b54996row1_col0 {\n",
       "            background-color:  #c9c9ff;\n",
       "            color:  #000000;\n",
       "        }    #T_9873dd34_244e_11ea_b11b_d0c637b54996row2_col0 {\n",
       "            background-color:  #e5e5ff;\n",
       "            color:  #000000;\n",
       "        }    #T_9873dd34_244e_11ea_b11b_d0c637b54996row3_col0 {\n",
       "            background-color:  #5656ff;\n",
       "            color:  #f1f1f1;\n",
       "        }    #T_9873dd34_244e_11ea_b11b_d0c637b54996row4_col0 {\n",
       "            background-color:  #0000ff;\n",
       "            color:  #f1f1f1;\n",
       "        }    #T_9873dd34_244e_11ea_b11b_d0c637b54996row5_col0 {\n",
       "            background-color:  #8181ff;\n",
       "            color:  #000000;\n",
       "        }    #T_9873dd34_244e_11ea_b11b_d0c637b54996row6_col0 {\n",
       "            background-color:  #8f8fff;\n",
       "            color:  #000000;\n",
       "        }    #T_9873dd34_244e_11ea_b11b_d0c637b54996row7_col0 {\n",
       "            background-color:  #8181ff;\n",
       "            color:  #000000;\n",
       "        }    #T_9873dd34_244e_11ea_b11b_d0c637b54996row8_col0 {\n",
       "            background-color:  #6464ff;\n",
       "            color:  #000000;\n",
       "        }    #T_9873dd34_244e_11ea_b11b_d0c637b54996row9_col0 {\n",
       "            background-color:  #4848ff;\n",
       "            color:  #f1f1f1;\n",
       "        }    #T_9873dd34_244e_11ea_b11b_d0c637b54996row10_col0 {\n",
       "            background-color:  #4848ff;\n",
       "            color:  #f1f1f1;\n",
       "        }    #T_9873dd34_244e_11ea_b11b_d0c637b54996row11_col0 {\n",
       "            background-color:  #8f8fff;\n",
       "            color:  #000000;\n",
       "        }    #T_9873dd34_244e_11ea_b11b_d0c637b54996row12_col0 {\n",
       "            background-color:  #7272ff;\n",
       "            color:  #000000;\n",
       "        }    #T_9873dd34_244e_11ea_b11b_d0c637b54996row13_col0 {\n",
       "            background-color:  #5656ff;\n",
       "            color:  #f1f1f1;\n",
       "        }    #T_9873dd34_244e_11ea_b11b_d0c637b54996row14_col0 {\n",
       "            background-color:  #9e9eff;\n",
       "            color:  #000000;\n",
       "        }    #T_9873dd34_244e_11ea_b11b_d0c637b54996row15_col0 {\n",
       "            background-color:  #9e9eff;\n",
       "            color:  #000000;\n",
       "        }    #T_9873dd34_244e_11ea_b11b_d0c637b54996row16_col0 {\n",
       "            background-color:  #6464ff;\n",
       "            color:  #000000;\n",
       "        }    #T_9873dd34_244e_11ea_b11b_d0c637b54996row17_col0 {\n",
       "            background-color:  #8f8fff;\n",
       "            color:  #000000;\n",
       "        }    #T_9873dd34_244e_11ea_b11b_d0c637b54996row18_col0 {\n",
       "            background-color:  #1c1cff;\n",
       "            color:  #f1f1f1;\n",
       "        }    #T_9873dd34_244e_11ea_b11b_d0c637b54996row19_col0 {\n",
       "            background-color:  #8f8fff;\n",
       "            color:  #000000;\n",
       "        }</style><table id=\"T_9873dd34_244e_11ea_b11b_d0c637b54996\" ><thead>    <tr>        <th class=\"blank level0\" ></th>        <th class=\"col_heading level0 col0\" >P(E)</th>    </tr></thead><tbody>\n",
       "                <tr>\n",
       "                        <th id=\"T_9873dd34_244e_11ea_b11b_d0c637b54996level0_row0\" class=\"row_heading level0 row0\" >p_Left-Weight_1</th>\n",
       "                        <td id=\"T_9873dd34_244e_11ea_b11b_d0c637b54996row0_col0\" class=\"data row0 col0\" >0.208729</td>\n",
       "            </tr>\n",
       "            <tr>\n",
       "                        <th id=\"T_9873dd34_244e_11ea_b11b_d0c637b54996level0_row1\" class=\"row_heading level0 row1\" >p_Left-Weight_2</th>\n",
       "                        <td id=\"T_9873dd34_244e_11ea_b11b_d0c637b54996row1_col0\" class=\"data row1 col0\" >0.189753</td>\n",
       "            </tr>\n",
       "            <tr>\n",
       "                        <th id=\"T_9873dd34_244e_11ea_b11b_d0c637b54996level0_row2\" class=\"row_heading level0 row2\" >p_Left-Weight_3</th>\n",
       "                        <td id=\"T_9873dd34_244e_11ea_b11b_d0c637b54996row2_col0\" class=\"data row2 col0\" >0.185958</td>\n",
       "            </tr>\n",
       "            <tr>\n",
       "                        <th id=\"T_9873dd34_244e_11ea_b11b_d0c637b54996level0_row3\" class=\"row_heading level0 row3\" >p_Left-Weight_4</th>\n",
       "                        <td id=\"T_9873dd34_244e_11ea_b11b_d0c637b54996row3_col0\" class=\"data row3 col0\" >0.204934</td>\n",
       "            </tr>\n",
       "            <tr>\n",
       "                        <th id=\"T_9873dd34_244e_11ea_b11b_d0c637b54996level0_row4\" class=\"row_heading level0 row4\" >p_Left-Weight_5</th>\n",
       "                        <td id=\"T_9873dd34_244e_11ea_b11b_d0c637b54996row4_col0\" class=\"data row4 col0\" >0.216319</td>\n",
       "            </tr>\n",
       "            <tr>\n",
       "                        <th id=\"T_9873dd34_244e_11ea_b11b_d0c637b54996level0_row5\" class=\"row_heading level0 row5\" >p_Left-Distance_1</th>\n",
       "                        <td id=\"T_9873dd34_244e_11ea_b11b_d0c637b54996row5_col0\" class=\"data row5 col0\" >0.199241</td>\n",
       "            </tr>\n",
       "            <tr>\n",
       "                        <th id=\"T_9873dd34_244e_11ea_b11b_d0c637b54996level0_row6\" class=\"row_heading level0 row6\" >p_Left-Distance_2</th>\n",
       "                        <td id=\"T_9873dd34_244e_11ea_b11b_d0c637b54996row6_col0\" class=\"data row6 col0\" >0.197343</td>\n",
       "            </tr>\n",
       "            <tr>\n",
       "                        <th id=\"T_9873dd34_244e_11ea_b11b_d0c637b54996level0_row7\" class=\"row_heading level0 row7\" >p_Left-Distance_3</th>\n",
       "                        <td id=\"T_9873dd34_244e_11ea_b11b_d0c637b54996row7_col0\" class=\"data row7 col0\" >0.199241</td>\n",
       "            </tr>\n",
       "            <tr>\n",
       "                        <th id=\"T_9873dd34_244e_11ea_b11b_d0c637b54996level0_row8\" class=\"row_heading level0 row8\" >p_Left-Distance_4</th>\n",
       "                        <td id=\"T_9873dd34_244e_11ea_b11b_d0c637b54996row8_col0\" class=\"data row8 col0\" >0.203036</td>\n",
       "            </tr>\n",
       "            <tr>\n",
       "                        <th id=\"T_9873dd34_244e_11ea_b11b_d0c637b54996level0_row9\" class=\"row_heading level0 row9\" >p_Left-Distance_5</th>\n",
       "                        <td id=\"T_9873dd34_244e_11ea_b11b_d0c637b54996row9_col0\" class=\"data row9 col0\" >0.206831</td>\n",
       "            </tr>\n",
       "            <tr>\n",
       "                        <th id=\"T_9873dd34_244e_11ea_b11b_d0c637b54996level0_row10\" class=\"row_heading level0 row10\" >p_Right-Weight_1</th>\n",
       "                        <td id=\"T_9873dd34_244e_11ea_b11b_d0c637b54996row10_col0\" class=\"data row10 col0\" >0.206831</td>\n",
       "            </tr>\n",
       "            <tr>\n",
       "                        <th id=\"T_9873dd34_244e_11ea_b11b_d0c637b54996level0_row11\" class=\"row_heading level0 row11\" >p_Right-Weight_2</th>\n",
       "                        <td id=\"T_9873dd34_244e_11ea_b11b_d0c637b54996row11_col0\" class=\"data row11 col0\" >0.197343</td>\n",
       "            </tr>\n",
       "            <tr>\n",
       "                        <th id=\"T_9873dd34_244e_11ea_b11b_d0c637b54996level0_row12\" class=\"row_heading level0 row12\" >p_Right-Weight_3</th>\n",
       "                        <td id=\"T_9873dd34_244e_11ea_b11b_d0c637b54996row12_col0\" class=\"data row12 col0\" >0.201139</td>\n",
       "            </tr>\n",
       "            <tr>\n",
       "                        <th id=\"T_9873dd34_244e_11ea_b11b_d0c637b54996level0_row13\" class=\"row_heading level0 row13\" >p_Right-Weight_4</th>\n",
       "                        <td id=\"T_9873dd34_244e_11ea_b11b_d0c637b54996row13_col0\" class=\"data row13 col0\" >0.204934</td>\n",
       "            </tr>\n",
       "            <tr>\n",
       "                        <th id=\"T_9873dd34_244e_11ea_b11b_d0c637b54996level0_row14\" class=\"row_heading level0 row14\" >p_Right-Weight_5</th>\n",
       "                        <td id=\"T_9873dd34_244e_11ea_b11b_d0c637b54996row14_col0\" class=\"data row14 col0\" >0.195446</td>\n",
       "            </tr>\n",
       "            <tr>\n",
       "                        <th id=\"T_9873dd34_244e_11ea_b11b_d0c637b54996level0_row15\" class=\"row_heading level0 row15\" >p_Right-Distance_1</th>\n",
       "                        <td id=\"T_9873dd34_244e_11ea_b11b_d0c637b54996row15_col0\" class=\"data row15 col0\" >0.195446</td>\n",
       "            </tr>\n",
       "            <tr>\n",
       "                        <th id=\"T_9873dd34_244e_11ea_b11b_d0c637b54996level0_row16\" class=\"row_heading level0 row16\" >p_Right-Distance_2</th>\n",
       "                        <td id=\"T_9873dd34_244e_11ea_b11b_d0c637b54996row16_col0\" class=\"data row16 col0\" >0.203036</td>\n",
       "            </tr>\n",
       "            <tr>\n",
       "                        <th id=\"T_9873dd34_244e_11ea_b11b_d0c637b54996level0_row17\" class=\"row_heading level0 row17\" >p_Right-Distance_3</th>\n",
       "                        <td id=\"T_9873dd34_244e_11ea_b11b_d0c637b54996row17_col0\" class=\"data row17 col0\" >0.197343</td>\n",
       "            </tr>\n",
       "            <tr>\n",
       "                        <th id=\"T_9873dd34_244e_11ea_b11b_d0c637b54996level0_row18\" class=\"row_heading level0 row18\" >p_Right-Distance_4</th>\n",
       "                        <td id=\"T_9873dd34_244e_11ea_b11b_d0c637b54996row18_col0\" class=\"data row18 col0\" >0.212524</td>\n",
       "            </tr>\n",
       "            <tr>\n",
       "                        <th id=\"T_9873dd34_244e_11ea_b11b_d0c637b54996level0_row19\" class=\"row_heading level0 row19\" >p_Right-Distance_5</th>\n",
       "                        <td id=\"T_9873dd34_244e_11ea_b11b_d0c637b54996row19_col0\" class=\"data row19 col0\" >0.197343</td>\n",
       "            </tr>\n",
       "    </tbody></table>"
      ],
      "text/plain": [
       "<pandas.io.formats.style.Styler at 0x1a520801ac8>"
      ]
     },
     "execution_count": 37,
     "metadata": {},
     "output_type": "execute_result"
    }
   ],
   "source": [
    "evidenceTable2 = pd.DataFrame(data=nb2.p_['evidence'].values(), index=nb2.p_['evidence'].keys(), columns=['P(E)'])\n",
    "\n",
    "cm = sns.light_palette(\"blue\", as_cmap=True)\n",
    "sns_evidenceTable2 = evidenceTable2.style.background_gradient(cmap=cm)\n",
    "sns_evidenceTable2"
   ]
  },
  {
   "cell_type": "markdown",
   "metadata": {
    "Collapsed": "false"
   },
   "source": [
    "#### Make single predictions for evidences provided."
   ]
  },
  {
   "cell_type": "code",
   "execution_count": 38,
   "metadata": {
    "Collapsed": "false"
   },
   "outputs": [
    {
     "name": "stdout",
     "output_type": "stream",
     "text": [
      "L {'B': 0.27214941337010407, 'R': 0.3536965390556953, 'L': 0.3741540475742006}\n"
     ]
    }
   ],
   "source": [
    "evidences = {\n",
    "    'Left-Weight': '1',\n",
    "    'Left-Distance': '1',\n",
    "    'Right-Weight': '1',\n",
    "    'Right-Distance': '1'\n",
    "}\n",
    "\n",
    "c, pred = nb2.predict(evidences)\n",
    "print(c, pred)"
   ]
  },
  {
   "cell_type": "markdown",
   "metadata": {
    "Collapsed": "false"
   },
   "source": [
    "> From the data learned, this record should be classified as \"B\".  \n",
    "> However, the very small prior probability of class \"B\" causes the this record to be misclassified.  \n",
    "\n",
    "<br>\n",
    "\n",
    "Now, let's see what happens if we avoid the prior probability for predicting the class."
   ]
  },
  {
   "cell_type": "code",
   "execution_count": 39,
   "metadata": {
    "Collapsed": "false"
   },
   "outputs": [
    {
     "name": "stdout",
     "output_type": "stream",
     "text": [
      "B {'B': 0.6895429697273645, 'R': 0.15245846990770082, 'L': 0.15799856036493481}\n"
     ]
    }
   ],
   "source": [
    "c, pred = nb2.predict(evidences, no_prior=True)\n",
    "print(c, pred)"
   ]
  },
  {
   "cell_type": "markdown",
   "metadata": {
    "Collapsed": "false"
   },
   "source": [
    "> Nice, now the the NB classifier correctly predicts the correct class B."
   ]
  },
  {
   "cell_type": "markdown",
   "metadata": {
    "Collapsed": "false"
   },
   "source": [
    "### Lets now make predictions for the whole dataset\n",
    "\n",
    "To evaluate the impact of the prior in such unbalanced datasets, let's now run classification on the 100 test records and evaluate accuracy and confusion matrix. "
   ]
  },
  {
   "cell_type": "code",
   "execution_count": 40,
   "metadata": {
    "Collapsed": "false"
   },
   "outputs": [
    {
     "name": "stdout",
     "output_type": "stream",
     "text": [
      "y_true : ['R', 'L', 'R', 'R', 'R', 'R', 'L', 'R', 'L', 'L', 'L', 'L', 'R', 'L', 'B', 'R', 'R', 'R', 'R', 'L', 'R', 'R', 'R', 'B', 'L', 'R', 'L', 'R', 'R', 'L', 'R', 'B', 'R', 'R', 'B', 'B', 'R', 'L', 'R', 'L', 'L', 'L', 'L', 'B', 'L', 'R', 'R', 'L', 'L', 'R', 'L', 'L', 'L', 'L', 'R', 'R', 'R', 'R', 'R', 'L', 'L', 'L', 'B', 'R', 'R', 'R', 'B', 'L', 'R', 'L', 'L', 'L', 'R', 'R', 'L', 'R', 'R', 'L', 'L', 'R', 'L', 'R', 'B', 'R', 'R', 'L', 'R', 'R', 'L', 'L', 'L', 'R', 'L', 'R', 'L', 'L', 'R', 'R', 'L', 'L']\n",
      "y_preds: ['R', 'L', 'R', 'R', 'R', 'R', 'L', 'R', 'L', 'L', 'L', 'L', 'R', 'L', 'R', 'R', 'R', 'R', 'R', 'L', 'R', 'R', 'R', 'L', 'L', 'R', 'L', 'R', 'R', 'L', 'R', 'R', 'R', 'R', 'R', 'L', 'R', 'L', 'R', 'L', 'L', 'L', 'L', 'R', 'L', 'R', 'R', 'L', 'L', 'R', 'L', 'L', 'L', 'L', 'R', 'R', 'R', 'R', 'R', 'L', 'L', 'L', 'R', 'R', 'R', 'R', 'L', 'L', 'R', 'L', 'L', 'L', 'R', 'R', 'L', 'R', 'R', 'L', 'L', 'R', 'L', 'R', 'L', 'R', 'R', 'L', 'R', 'R', 'L', 'L', 'L', 'R', 'L', 'R', 'L', 'L', 'R', 'R', 'L', 'L']\n",
      "\n",
      "Accuracy: 0.91\n",
      "\n",
      "Classification report:\n",
      "               precision    recall  f1-score   support\n",
      "\n",
      "           B       0.00      0.00      0.00         9\n",
      "           L       0.91      1.00      0.96        43\n",
      "           R       0.91      1.00      0.95        48\n",
      "\n",
      "    accuracy                           0.91       100\n",
      "   macro avg       0.61      0.67      0.64       100\n",
      "weighted avg       0.83      0.91      0.87       100\n",
      "\n"
     ]
    },
    {
     "name": "stderr",
     "output_type": "stream",
     "text": [
      "C:\\Users\\mikel\\Anaconda3\\envs\\ml\\lib\\site-packages\\sklearn\\metrics\\classification.py:1437: UndefinedMetricWarning: Precision and F-score are ill-defined and being set to 0.0 in labels with no predicted samples.\n",
      "  'precision', 'predicted', average, warn_for)\n"
     ]
    }
   ],
   "source": [
    "y_pred = []\n",
    "y_true = list(df2_test['class'])\n",
    "\n",
    "for index, row in df2_test.iterrows():\n",
    "    evidences = {\n",
    "        'Left-Weight': row['Left-Weight'],\n",
    "        'Left-Distance': row['Left-Distance'],\n",
    "        'Right-Weight': row['Right-Weight'],\n",
    "        'Right-Distance': row['Right-Distance']\n",
    "    }\n",
    "    c, pred = nb2.predict(evidences)\n",
    "    y_pred.append(c)\n",
    "\n",
    "acc = accuracy_score(y_true, y_pred)\n",
    "clr = classification_report(y_true, y_pred)\n",
    "cm = confusion_matrix(y_pred, y_true, labels=['B', 'R', 'L'])\n",
    "\n",
    "print('y_true :', y_true)\n",
    "print('y_preds:', y_pred)\n",
    "print('\\nAccuracy:', acc)\n",
    "print('\\nClassification report:\\n', clr)"
   ]
  },
  {
   "cell_type": "code",
   "execution_count": 41,
   "metadata": {
    "Collapsed": "false"
   },
   "outputs": [
    {
     "data": {
      "image/png": "[encoded data removed]",
      "text/plain": [
       "<Figure size 576x432 with 2 Axes>"
      ]
     },
     "metadata": {
      "needs_background": "light"
     },
     "output_type": "display_data"
    }
   ],
   "source": [
    "ticklabels = ['B', 'R', 'L']\n",
    "\n",
    "df_cm = pd.DataFrame(cm, range(3), range(3))\n",
    "plt.figure(figsize=(8,6))\n",
    "sns.heatmap(df_cm, annot=True, xticklabels=ticklabels, yticklabels=ticklabels, cmap=\"Blues\")\n",
    "\n",
    "plt.title('Confusion Matrix')\n",
    "plt.xlabel('True Class')\n",
    "plt.ylabel('Predicted Class')\n",
    "plt.show()"
   ]
  },
  {
   "cell_type": "markdown",
   "metadata": {
    "Collapsed": "false"
   },
   "source": [
    "> As expected!  \n",
    "> Although the accuracy is ~0.9 the learner was not able to identify any record for class \"B\".\n",
    ">\n",
    "> While for classes L and R all predictions were correct, the predictions for class B were all incorrect.\n",
    "\n",
    "<br>\n",
    "\n",
    "#### Can we improve predictions on a larger scale by ignoring the prior probability?"
   ]
  },
  {
   "cell_type": "code",
   "execution_count": 42,
   "metadata": {
    "Collapsed": "false"
   },
   "outputs": [
    {
     "name": "stdout",
     "output_type": "stream",
     "text": [
      "y_true : ['R', 'L', 'R', 'R', 'R', 'R', 'L', 'R', 'L', 'L', 'L', 'L', 'R', 'L', 'B', 'R', 'R', 'R', 'R', 'L', 'R', 'R', 'R', 'B', 'L', 'R', 'L', 'R', 'R', 'L', 'R', 'B', 'R', 'R', 'B', 'B', 'R', 'L', 'R', 'L', 'L', 'L', 'L', 'B', 'L', 'R', 'R', 'L', 'L', 'R', 'L', 'L', 'L', 'L', 'R', 'R', 'R', 'R', 'R', 'L', 'L', 'L', 'B', 'R', 'R', 'R', 'B', 'L', 'R', 'L', 'L', 'L', 'R', 'R', 'L', 'R', 'R', 'L', 'L', 'R', 'L', 'R', 'B', 'R', 'R', 'L', 'R', 'R', 'L', 'L', 'L', 'R', 'L', 'R', 'L', 'L', 'R', 'R', 'L', 'L']\n",
      "y_preds: ['B', 'B', 'R', 'R', 'R', 'B', 'B', 'R', 'L', 'L', 'B', 'B', 'R', 'L', 'R', 'B', 'R', 'B', 'R', 'L', 'R', 'B', 'R', 'B', 'L', 'B', 'L', 'R', 'R', 'L', 'B', 'R', 'R', 'R', 'R', 'B', 'B', 'L', 'B', 'L', 'B', 'B', 'L', 'B', 'B', 'B', 'B', 'B', 'B', 'B', 'L', 'L', 'B', 'B', 'B', 'R', 'R', 'R', 'R', 'L', 'L', 'B', 'B', 'R', 'B', 'R', 'B', 'L', 'B', 'L', 'B', 'L', 'B', 'B', 'B', 'R', 'R', 'L', 'L', 'B', 'B', 'B', 'B', 'B', 'B', 'L', 'B', 'R', 'B', 'L', 'B', 'B', 'L', 'R', 'L', 'L', 'R', 'R', 'B', 'L']\n",
      "\n",
      "Accuracy: 0.56\n",
      "\n",
      "Classification report:\n",
      "               precision    recall  f1-score   support\n",
      "\n",
      "           B       0.13      0.67      0.21         9\n",
      "           L       1.00      0.58      0.74        43\n",
      "           R       0.89      0.52      0.66        48\n",
      "\n",
      "    accuracy                           0.56       100\n",
      "   macro avg       0.67      0.59      0.54       100\n",
      "weighted avg       0.87      0.56      0.65       100\n",
      "\n"
     ]
    }
   ],
   "source": [
    "y_pred = []\n",
    "y_true = list(df2_test['class'])\n",
    "\n",
    "for index, row in df2_test.iterrows():\n",
    "    evidences = {\n",
    "        'Left-Weight': row['Left-Weight'],\n",
    "        'Left-Distance': row['Left-Distance'],\n",
    "        'Right-Weight': row['Right-Weight'],\n",
    "        'Right-Distance': row['Right-Distance']\n",
    "    }\n",
    "    c, pred = nb2.predict(evidences, no_prior=True)\n",
    "    y_pred.append(c)\n",
    "\n",
    "acc = accuracy_score(y_true, y_pred)\n",
    "clr = classification_report(y_true, y_pred)\n",
    "cm = confusion_matrix(y_pred, y_true, labels=['B', 'R', 'L'])\n",
    "\n",
    "print('y_true :', y_true)\n",
    "print('y_preds:', y_pred)\n",
    "print('\\nAccuracy:', acc)\n",
    "print('\\nClassification report:\\n', clr)"
   ]
  },
  {
   "cell_type": "code",
   "execution_count": 43,
   "metadata": {
    "Collapsed": "false"
   },
   "outputs": [
    {
     "data": {
      "image/png": "[encoded data removed]",
      "text/plain": [
       "<Figure size 576x432 with 2 Axes>"
      ]
     },
     "metadata": {
      "needs_background": "light"
     },
     "output_type": "display_data"
    }
   ],
   "source": [
    "ticklabels = ['B', 'R', 'L']\n",
    "\n",
    "df_cm = pd.DataFrame(cm, range(3), range(3))\n",
    "plt.figure(figsize=(8,6))\n",
    "sns.heatmap(df_cm, annot=True, xticklabels=ticklabels, yticklabels=ticklabels, cmap=\"Blues\")\n",
    "\n",
    "plt.title('Confusion Matrix')\n",
    "plt.xlabel('True Class')\n",
    "plt.ylabel('Predicted Class')\n",
    "plt.show()"
   ]
  },
  {
   "cell_type": "markdown",
   "metadata": {
    "Collapsed": "false"
   },
   "source": [
    "**No! That was a too simple approach.**  \n",
    "**While all/most (depending on random train/test set split) class B records are predicted correctly, the model performs very weakly on distinguishing classes \"L\" and \"R\" from class \"B\".**"
   ]
  },
  {
   "cell_type": "markdown",
   "metadata": {
    "Collapsed": "false"
   },
   "source": [
    "### Suitability of dataset\n",
    "\n",
    "On first sight, the dataset looked like a promising candidate for a Machine Learning algorithms. It includes a decent amount of records that allows the dataset to be split into proper train and test sets. However, the strong inbalance between the classes makes the dataset pretty unsuitable for a Bayesian Learner because the resulting very low prior probability of class \"B\" leads to a prediction bias towards the other 2 classes. With prior probabilities included in inference / prediction, classes \"R\" and \"L\" show very high Recall values, meaning that test records of these classes or correctly predicted as such. Recall for class \"B\" test entries however is 0.  \n",
    "\n",
    "The idea to predict without prior probability improves the Recall rate for class \"B\", but it heavily reduces the Recall for the other 2 classes as the Learner now has problems to distinguish classes \"R\" and \"L\" from class \"B\".  \n",
    "\n",
    "Basically, the low prior probability of class \"B\" simply reflects the difficulty of balancing a scale, which often tends to lean to either \"Left\" or \"Right\".\n",
    "\n",
    "Other methods that usually help improve predictive power of machine learning algorithms, like scaling the features, do not apply to a Bayesian Learner as the underlying distributions will not be changed."
   ]
  },
  {
   "cell_type": "markdown",
   "metadata": {
    "Collapsed": "false"
   },
   "source": [
    "---\n",
    "\n",
    "**Finally, let's see how a Support Vector Classifier would perform on the same train and test datasets**"
   ]
  },
  {
   "cell_type": "code",
   "execution_count": 44,
   "metadata": {
    "Collapsed": "false"
   },
   "outputs": [
    {
     "name": "stdout",
     "output_type": "stream",
     "text": [
      "\n",
      "Accuracy: 0.98\n",
      "\n",
      "Classification report:\n",
      "               precision    recall  f1-score   support\n",
      "\n",
      "           B       0.82      1.00      0.90         9\n",
      "           L       1.00      0.98      0.99        43\n",
      "           R       1.00      0.98      0.99        48\n",
      "\n",
      "    accuracy                           0.98       100\n",
      "   macro avg       0.94      0.99      0.96       100\n",
      "weighted avg       0.98      0.98      0.98       100\n",
      "\n"
     ]
    }
   ],
   "source": [
    "from sklearn.svm import SVC\n",
    "clf = SVC(C=9, gamma='scale')\n",
    "clf.fit(df2_train.iloc[:, 1:], df2_train.iloc[:, 0])\n",
    "y_pred = clf.predict(df2_test.iloc[:, 1:])\n",
    "\n",
    "acc = accuracy_score(y_true, y_pred)\n",
    "clr = classification_report(y_true, y_pred)\n",
    "cm = confusion_matrix(y_pred, y_true, labels=['B', 'R', 'L'])\n",
    "\n",
    "print('\\nAccuracy:', acc)\n",
    "print('\\nClassification report:\\n', clr)"
   ]
  },
  {
   "cell_type": "code",
   "execution_count": 45,
   "metadata": {
    "Collapsed": "false"
   },
   "outputs": [
    {
     "data": {
      "image/png": "[encoded data removed]",
      "text/plain": [
       "<Figure size 576x432 with 2 Axes>"
      ]
     },
     "metadata": {
      "needs_background": "light"
     },
     "output_type": "display_data"
    }
   ],
   "source": [
    "ticklabels = ['B', 'R', 'L']\n",
    "\n",
    "df_cm = pd.DataFrame(cm, range(3), range(3))\n",
    "plt.figure(figsize=(8,6))\n",
    "sns.heatmap(df_cm, annot=True, xticklabels=ticklabels, yticklabels=ticklabels, cmap=\"Blues\")\n",
    "\n",
    "plt.title('Confusion Matrix')\n",
    "plt.xlabel('True Class')\n",
    "plt.ylabel('Predicted Class')\n",
    "plt.show()"
   ]
  },
  {
   "cell_type": "markdown",
   "metadata": {
    "Collapsed": "false"
   },
   "source": [
    "This confirms that in general Machine Learning algorithms are able to learn the patterns inherent to the balance-scale dataset.  \n",
    "The SVC shows 0.98 accuracy and very good recall for any given class."
   ]
  },
  {
   "cell_type": "code",
   "execution_count": null,
   "metadata": {
    "Collapsed": "false"
   },
   "outputs": [],
   "source": []
  },
  {
   "cell_type": "code",
   "execution_count": null,
   "metadata": {
    "Collapsed": "false"
   },
   "outputs": [],
   "source": []
  }
 ],
 "metadata": {
  "kernelspec": {
   "display_name": "Python 3",
   "language": "python",
   "name": "python3"
  },
  "language_info": {
   "codemirror_mode": {
    "name": "ipython",
    "version": 3
   },
   "file_extension": ".py",
   "mimetype": "text/x-python",
   "name": "python",
   "nbconvert_exporter": "python",
   "pygments_lexer": "ipython3",
   "version": "3.7.4"
  }
 },
 "nbformat": 4,
 "nbformat_minor": 4
}
